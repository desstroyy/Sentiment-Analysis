{
 "cells": [
  {
   "cell_type": "code",
   "execution_count": 2,
   "metadata": {
    "id": "ZKcN6hT2fUaZ"
   },
   "outputs": [
    {
     "name": "stdout",
     "output_type": "stream",
     "text": [
      "Original train_df shape: (560000, 2)\n",
      "Original test_df shape: (38000, 2)\n",
      "Train column names: ['label', 'text']\n",
      "Test column names: ['label', 'text']\n",
      "Original class distribution:\n",
      " label\n",
      "2    0.5\n",
      "1    0.5\n",
      "Name: proportion, dtype: float64\n",
      "Reduced class distribution:\n",
      " label\n",
      "2    0.5\n",
      "1    0.5\n",
      "Name: proportion, dtype: float64\n",
      "Reduced train_df shape: (50000, 2)\n"
     ]
    }
   ],
   "source": [
    "import pandas as pd\n",
    "from sklearn.model_selection import train_test_split\n",
    "import zipfile\n",
    "\n",
    "# Define column names\n",
    "col_names = ['label', 'text']\n",
    "\n",
    "# Load the datasets\n",
    "train_df = pd.read_csv(\"/data/nmamit-interns/grp3/new/train.csv\", names=col_names)\n",
    "test_df = pd.read_csv(\"/data/nmamit-interns/grp3/new/test.csv\", names=col_names)\n",
    "\n",
    "# Check the shape of the datasets\n",
    "print(\"Original train_df shape:\", train_df.shape) \n",
    "print(\"Original test_df shape:\", test_df.shape)    # Should be (38000, 2)\n",
    "\n",
    "# Get the column names\n",
    "print(\"Train column names:\", train_df.columns.tolist())\n",
    "print(\"Test column names:\", test_df.columns.tolist())\n",
    "\n",
    "# Define the sample size\n",
    "sample_size = 50000\n",
    "\n",
    "# Perform stratified sampling\n",
    "train_df, _ = train_test_split(\n",
    "    train_df,\n",
    "    train_size=sample_size,\n",
    "    stratify=train_df['label'],\n",
    "    random_state=42\n",
    ")\n",
    "\n",
    "# Verify the new distribution\n",
    "original_class_distribution = train_df['label'].value_counts(normalize=True)\n",
    "reduced_class_distribution = train_df['label'].value_counts(normalize=True)\n",
    "\n",
    "print(\"Original class distribution:\\n\", original_class_distribution)\n",
    "print(\"Reduced class distribution:\\n\", reduced_class_distribution)\n",
    "\n",
    "# Verify the shape of the reduced dataset\n",
    "print(\"Reduced train_df shape:\", train_df.shape)  # Should be (50000, 2)\n",
    "\n",
    "# Optionally save the reduced dataset to a new CSV file\n",
    "train_df.to_csv(\"reduced_train.csv\", index=False)\n"
   ]
  },
  {
   "cell_type": "code",
   "execution_count": 2,
   "metadata": {
    "id": "g4ANSHQJajeQ"
   },
   "outputs": [
    {
     "data": {
      "text/plain": [
       "(50000, 2)"
      ]
     },
     "execution_count": 2,
     "metadata": {},
     "output_type": "execute_result"
    }
   ],
   "source": [
    "train_df.shape"
   ]
  },
  {
   "cell_type": "code",
   "execution_count": 3,
   "metadata": {
    "id": "obqssv-bay2C"
   },
   "outputs": [
    {
     "data": {
      "text/plain": [
       "(38000, 2)"
      ]
     },
     "execution_count": 3,
     "metadata": {},
     "output_type": "execute_result"
    }
   ],
   "source": [
    "test_df.shape"
   ]
  },
  {
   "cell_type": "code",
   "execution_count": 4,
   "metadata": {
    "id": "m3g2FtgRpWyi"
   },
   "outputs": [
    {
     "data": {
      "text/html": [
       "<div>\n",
       "<style scoped>\n",
       "    .dataframe tbody tr th:only-of-type {\n",
       "        vertical-align: middle;\n",
       "    }\n",
       "\n",
       "    .dataframe tbody tr th {\n",
       "        vertical-align: top;\n",
       "    }\n",
       "\n",
       "    .dataframe thead th {\n",
       "        text-align: right;\n",
       "    }\n",
       "</style>\n",
       "<table border=\"1\" class=\"dataframe\">\n",
       "  <thead>\n",
       "    <tr style=\"text-align: right;\">\n",
       "      <th></th>\n",
       "      <th>label</th>\n",
       "      <th>text</th>\n",
       "    </tr>\n",
       "  </thead>\n",
       "  <tbody>\n",
       "    <tr>\n",
       "      <th>258632</th>\n",
       "      <td>2</td>\n",
       "      <td>Thought I'd try a new coffee shop so I found t...</td>\n",
       "    </tr>\n",
       "    <tr>\n",
       "      <th>433014</th>\n",
       "      <td>2</td>\n",
       "      <td>Reasonable prices, good variety of flavors, an...</td>\n",
       "    </tr>\n",
       "    <tr>\n",
       "      <th>558319</th>\n",
       "      <td>2</td>\n",
       "      <td>Tiny little cafe perfectly placed in Latta Arc...</td>\n",
       "    </tr>\n",
       "  </tbody>\n",
       "</table>\n",
       "</div>"
      ],
      "text/plain": [
       "        label                                               text\n",
       "258632      2  Thought I'd try a new coffee shop so I found t...\n",
       "433014      2  Reasonable prices, good variety of flavors, an...\n",
       "558319      2  Tiny little cafe perfectly placed in Latta Arc..."
      ]
     },
     "execution_count": 4,
     "metadata": {},
     "output_type": "execute_result"
    }
   ],
   "source": [
    "train_df.head(3)"
   ]
  },
  {
   "cell_type": "code",
   "execution_count": 5,
   "metadata": {
    "id": "CiFvtfxApiyw"
   },
   "outputs": [
    {
     "data": {
      "image/png": "[encoded data removed]",
      "text/plain": [
       "<Figure size 720x432 with 1 Axes>"
      ]
     },
     "metadata": {
      "needs_background": "light"
     },
     "output_type": "display_data"
    }
   ],
   "source": [
    "import matplotlib.pyplot as plt\n",
    "\n",
    "# Count the occurrences of each label\n",
    "label_counts = train_df['label'].value_counts().sort_index()\n",
    "\n",
    "# Plot the bar graph\n",
    "plt.figure(figsize=(10, 6))\n",
    "label_counts.plot(kind='bar', color='skyblue')\n",
    "plt.title('Count of Each Label in the Dataset')\n",
    "plt.xlabel('Labels')\n",
    "plt.ylabel('Count')\n",
    "plt.xticks(rotation=0)\n",
    "plt.show()\n"
   ]
  },
  {
   "cell_type": "code",
   "execution_count": 6,
   "metadata": {
    "id": "f6spTM9fqSVz"
   },
   "outputs": [
    {
     "name": "stdout",
     "output_type": "stream",
     "text": [
      "label    0\n",
      "text     0\n",
      "dtype: int64\n"
     ]
    }
   ],
   "source": [
    "\n",
    "# Check for null values in train_df\n",
    "null_values = train_df.isna().sum()\n",
    "\n",
    "# Print the count of null values for each column\n",
    "print(null_values)\n"
   ]
  },
  {
   "cell_type": "code",
   "execution_count": 7,
   "metadata": {
    "id": "xdGN277eqYxS"
   },
   "outputs": [
    {
     "name": "stdout",
     "output_type": "stream",
     "text": [
      "train lables\n",
      "label\n",
      "1    25000\n",
      "0    25000\n",
      "Name: count, dtype: int64\n",
      "test lables\n",
      "label\n",
      "1    19000\n",
      "0    19000\n",
      "Name: count, dtype: int64\n"
     ]
    }
   ],
   "source": [
    "def update(df):\n",
    "  df['label']=df['label'].apply(lambda x:0 if x==1 else 1)\n",
    "  return df\n",
    "\n",
    "train_df=update(train_df)\n",
    "test_df=update(test_df)\n",
    "# Verify the changes\n",
    "print(\"train lables\")\n",
    "print(train_df['label'].value_counts())\n",
    "print(\"test lables\")\n",
    "print(test_df['label'].value_counts())\n",
    "\n",
    "# If you want to save the updated datasets back to CSV\n",
    "train_df.to_csv('train_dataset_updated.csv', index=False)\n",
    "test_df.to_csv('test_dataset_updated.csv', index=False)"
   ]
  },
  {
   "cell_type": "code",
   "execution_count": 8,
   "metadata": {
    "id": "wZ4ScVzgsBPb"
   },
   "outputs": [
    {
     "data": {
      "image/png": "[encoded data removed]",
      "text/plain": [
       "<Figure size 720x432 with 1 Axes>"
      ]
     },
     "metadata": {
      "needs_background": "light"
     },
     "output_type": "display_data"
    }
   ],
   "source": [
    "import matplotlib.pyplot as plt\n",
    "\n",
    "# Count the occurrences of each label\n",
    "label_counts = train_df['label'].value_counts().sort_index()\n",
    "\n",
    "# Plot the bar graph\n",
    "plt.figure(figsize=(10, 6))\n",
    "label_counts.plot(kind='bar', color='skyblue')\n",
    "plt.title('Count of Each Label in the Dataset')\n",
    "plt.xlabel('Labels')\n",
    "plt.ylabel('Count')\n",
    "plt.xticks(rotation=0)\n",
    "plt.show()\n"
   ]
  },
  {
   "cell_type": "code",
   "execution_count": 9,
   "metadata": {
    "id": "Q4Waqjyys0IE"
   },
   "outputs": [],
   "source": [
    "train_texts = train_df['text'].tolist()\n",
    "train_labels = train_df['label'].tolist()\n",
    "test_texts = test_df['text'].tolist()\n",
    "test_labels = test_df['label'].tolist()"
   ]
  },
  {
   "cell_type": "code",
   "execution_count": 10,
   "metadata": {
    "id": "qp1HnKKgs4Ai"
   },
   "outputs": [],
   "source": [
    "import re\n",
    "# Function to clean text\n",
    "def clean_text(text):\n",
    "    # Remove special characters and punctuation\n",
    "    text = re.sub(r\"[^\\w\\s]\", \" \", text)\n",
    "    # Remove single characters\n",
    "    text = re.sub(r\"\\b[a-zA-Z]\\b\", \" \", text)\n",
    "    # Remove HTML tags\n",
    "    text = re.sub(r\"<[^>]*>\", \" \", text)\n",
    "    # Lowercase the text\n",
    "    text = text.lower()\n",
    "    # Remove extra whitespace\n",
    "    text = re.sub(r\"\\s+\", \" \", text)\n",
    "    # Trim leading and trailing spaces\n",
    "    text = text.strip()\n",
    "    return text"
   ]
  },
  {
   "cell_type": "code",
   "execution_count": 11,
   "metadata": {
    "id": "RQ7-d9ofs6Fi"
   },
   "outputs": [],
   "source": [
    "train_df['text'] = train_df['text'].apply(clean_text)\n",
    "test_df['text'] = test_df['text'].apply(clean_text)"
   ]
  },
  {
   "cell_type": "markdown",
   "metadata": {
    "id": "00VKn_Y86XyX"
   },
   "source": [
    "# **Step 1: Normalize Text**"
   ]
  },
  {
   "cell_type": "code",
   "execution_count": 12,
   "metadata": {
    "id": "PvVWdRmD-wPW"
   },
   "outputs": [],
   "source": [
    "import re\n",
    "\n",
    "# Example normalization function\n",
    "def normalize_text(text):\n",
    "    # Lowercase the text\n",
    "    text = text.lower()\n",
    "    # Remove special characters and punctuation\n",
    "    text = re.sub(r\"[^\\w\\s]\", \" \", text)\n",
    "    # Remove extra whitespace\n",
    "    text = re.sub(r\"\\s+\", \" \", text)\n",
    "    # Trim leading and trailing spaces\n",
    "    text = text.strip()\n",
    "    return text\n",
    "\n",
    "# Normalize the text in train and test datasets\n",
    "train_df['normalized_text'] = train_df['text'].apply(normalize_text)\n",
    "test_df['normalized_text'] = test_df['text'].apply(normalize_text)\n"
   ]
  },
  {
   "cell_type": "markdown",
   "metadata": {
    "id": "e6czSb5V-0ku"
   },
   "source": [
    "# **Step 2: Expanding Contractions**"
   ]
  },
  {
   "cell_type": "code",
   "execution_count": 13,
   "metadata": {
    "id": "TfqVi7lz_VY2"
   },
   "outputs": [],
   "source": [
    "!pip install contractions --quiet"
   ]
  },
  {
   "cell_type": "code",
   "execution_count": 14,
   "metadata": {
    "id": "WW7mkzMb-0KT"
   },
   "outputs": [],
   "source": [
    "import contractions\n",
    "\n",
    "# Expand contractions\n",
    "def expand_contractions(text):\n",
    "    return contractions.fix(text)\n",
    "\n",
    "# Expand contractions in normalized text\n",
    "train_df['expanded_text'] = train_df['normalized_text'].apply(expand_contractions)\n",
    "test_df['expanded_text'] = test_df['normalized_text'].apply(expand_contractions)\n"
   ]
  },
  {
   "cell_type": "markdown",
   "metadata": {
    "id": "sHsqP7Mm--Nh"
   },
   "source": [
    "# **Step 3: Tokenization**"
   ]
  },
  {
   "cell_type": "code",
   "execution_count": null,
   "metadata": {},
   "outputs": [],
   "source": [
    "from nltk.tokenize import word_tokenize\n",
    "import nltk\n",
    "nltk.download('punkt')\n",
    "\n",
    "# Apply tokenization to expanded text\n",
    "train_df['tokenized_text'] = train_df['expanded_text'].apply(word_tokenize)\n",
    "test_df['tokenized_text'] = test_df['expanded_text'].apply(word_tokenize)\n"
   ]
  },
  {
   "cell_type": "markdown",
   "metadata": {
    "id": "pNJfECUaYJJm"
   },
   "source": [
    "# **Step 4: Removing Stopwords**"
   ]
  },
  {
   "cell_type": "code",
   "execution_count": null,
   "metadata": {
    "id": "LmXDQAsuYLKo"
   },
   "outputs": [],
   "source": [
    "from nltk.corpus import stopwords\n",
    "import nltk\n",
    "nltk.download('stopwords')\n",
    "\n",
    "# Example stopwords removal function\n",
    "def remove_stopwords(tokens):\n",
    "    stop_words = set(stopwords.words('english'))\n",
    "    return [word for word in tokens if word.lower() not in stop_words]\n",
    "\n",
    "# Apply stopwords removal to tokenized text\n",
    "train_df['filtered_text'] = train_df['tokenized_text'].apply(remove_stopwords)\n",
    "test_df['filtered_text'] = test_df['tokenized_text'].apply(remove_stopwords)\n"
   ]
  },
  {
   "cell_type": "markdown",
   "metadata": {
    "id": "m9buk1ov650I"
   },
   "source": [
    "# **Step 5: Stemming**"
   ]
  },
  {
   "cell_type": "code",
   "execution_count": null,
   "metadata": {
    "id": "Eg5OifEC6454"
   },
   "outputs": [],
   "source": [
    "from nltk.stem import PorterStemmer\n",
    "\n",
    "# Example stemming function\n",
    "def apply_stemming(tokens):\n",
    "    stemmer = PorterStemmer()\n",
    "    return [stemmer.stem(word) for word in tokens]\n",
    "\n",
    "# Apply stemming to filtered text\n",
    "train_df['stemmed_text'] = train_df['filtered_text'].apply(apply_stemming)\n",
    "test_df['stemmed_text'] = test_df['filtered_text'].apply(apply_stemming)\n"
   ]
  },
  {
   "cell_type": "markdown",
   "metadata": {
    "id": "6DItbnfC7Eic"
   },
   "source": [
    "# **Step 6: Lemmatization**"
   ]
  },
  {
   "cell_type": "code",
   "execution_count": null,
   "metadata": {
    "id": "pwvURN8AF_-4"
   },
   "outputs": [],
   "source": [
    "from nltk.stem import WordNetLemmatizer\n",
    "import nltk\n",
    "nltk.download('wordnet')\n",
    "\n",
    "# Example lemmatization function\n",
    "def apply_lemmatization(text): # Changed input to 'text' instead of 'tokens'\n",
    "    lemmatizer = WordNetLemmatizer()\n",
    "    return [lemmatizer.lemmatize(word) for word in text] # Iterate over words in 'text'\n",
    "\n",
    "# Apply lemmatization to filtered text\n",
    "train_df['lemmatized_text'] =train_df['stemmed_text'].apply(apply_lemmatization)\n",
    "test_df['lemmatized_text'] = test_df['stemmed_text'].apply(apply_lemmatization)"
   ]
  },
  {
   "cell_type": "markdown",
   "metadata": {
    "id": "vyGp6I52OkQD"
   },
   "source": [
    "# **SAVING THE FILE**"
   ]
  },
  {
   "cell_type": "code",
   "execution_count": null,
   "metadata": {
    "id": "iGNDLIFGKa7L"
   },
   "outputs": [],
   "source": [
    "import pickle\n",
    "# Pickle train_df\n",
    "with open('/data/nmamit-interns/grp3/new/train_df.pkl', 'wb') as f:\n",
    "    pickle.dump(train_df, f)\n",
    "\n"
   ]
  },
  {
   "cell_type": "code",
   "execution_count": null,
   "metadata": {
    "id": "0u8la3P6LHYi"
   },
   "outputs": [],
   "source": [
    "# Pickle test_df\n",
    "with open('/data/nmamit-interns/grp3/new/test_df.pkl', 'wb') as f:\n",
    "    pickle.dump(test_df, f)"
   ]
  },
  {
   "cell_type": "markdown",
   "metadata": {
    "id": "9LEjWqdgOsIe"
   },
   "source": [
    "# **LOADING THE FILE**"
   ]
  },
  {
   "cell_type": "code",
   "execution_count": 2,
   "metadata": {
    "id": "2o4yAvUXOwA6"
   },
   "outputs": [],
   "source": [
    "import pickle\n",
    "# Load train_df from pickle\n",
    "with open('/data/nmamit-interns/grp3/new/train_df.pkl', 'rb') as f:\n",
    "    train_df = pickle.load(f)\n",
    "\n"
   ]
  },
  {
   "cell_type": "code",
   "execution_count": 3,
   "metadata": {
    "id": "1EiEGGDnO8mX"
   },
   "outputs": [],
   "source": [
    "# Load test_df from pickle\n",
    "with open('/data/nmamit-interns/grp3/new/test_df.pkl', 'rb') as f:\n",
    "    test_df = pickle.load(f)"
   ]
  },
  {
   "cell_type": "code",
   "execution_count": 4,
   "metadata": {
    "id": "hIfydIkRW3Bs"
   },
   "outputs": [
    {
     "data": {
      "text/html": [
       "<div>\n",
       "<style scoped>\n",
       "    .dataframe tbody tr th:only-of-type {\n",
       "        vertical-align: middle;\n",
       "    }\n",
       "\n",
       "    .dataframe tbody tr th {\n",
       "        vertical-align: top;\n",
       "    }\n",
       "\n",
       "    .dataframe thead th {\n",
       "        text-align: right;\n",
       "    }\n",
       "</style>\n",
       "<table border=\"1\" class=\"dataframe\">\n",
       "  <thead>\n",
       "    <tr style=\"text-align: right;\">\n",
       "      <th></th>\n",
       "      <th>label</th>\n",
       "      <th>text</th>\n",
       "      <th>normalized_text</th>\n",
       "      <th>expanded_text</th>\n",
       "      <th>tokenized_text</th>\n",
       "      <th>filtered_text</th>\n",
       "      <th>stemmed_text</th>\n",
       "      <th>lemmatized_text</th>\n",
       "    </tr>\n",
       "  </thead>\n",
       "  <tbody>\n",
       "    <tr>\n",
       "      <th>258632</th>\n",
       "      <td>1</td>\n",
       "      <td>thought try new coffee shop so found this litt...</td>\n",
       "      <td>thought try new coffee shop so found this litt...</td>\n",
       "      <td>thought try new coffee shop so found this litt...</td>\n",
       "      <td>[thought, try, new, coffee, shop, so, found, t...</td>\n",
       "      <td>[thought, try, new, coffee, shop, found, littl...</td>\n",
       "      <td>[thought, tri, new, coffe, shop, found, littl,...</td>\n",
       "      <td>[thought, tri, new, coffe, shop, found, littl,...</td>\n",
       "    </tr>\n",
       "    <tr>\n",
       "      <th>433014</th>\n",
       "      <td>1</td>\n",
       "      <td>reasonable prices good variety of flavors and ...</td>\n",
       "      <td>reasonable prices good variety of flavors and ...</td>\n",
       "      <td>reasonable prices good variety of flavors and ...</td>\n",
       "      <td>[reasonable, prices, good, variety, of, flavor...</td>\n",
       "      <td>[reasonable, prices, good, variety, flavors, l...</td>\n",
       "      <td>[reason, price, good, varieti, flavor, lot, to...</td>\n",
       "      <td>[reason, price, good, varieti, flavor, lot, to...</td>\n",
       "    </tr>\n",
       "  </tbody>\n",
       "</table>\n",
       "</div>"
      ],
      "text/plain": [
       "        label                                               text  \\\n",
       "258632      1  thought try new coffee shop so found this litt...   \n",
       "433014      1  reasonable prices good variety of flavors and ...   \n",
       "\n",
       "                                          normalized_text  \\\n",
       "258632  thought try new coffee shop so found this litt...   \n",
       "433014  reasonable prices good variety of flavors and ...   \n",
       "\n",
       "                                            expanded_text  \\\n",
       "258632  thought try new coffee shop so found this litt...   \n",
       "433014  reasonable prices good variety of flavors and ...   \n",
       "\n",
       "                                           tokenized_text  \\\n",
       "258632  [thought, try, new, coffee, shop, so, found, t...   \n",
       "433014  [reasonable, prices, good, variety, of, flavor...   \n",
       "\n",
       "                                            filtered_text  \\\n",
       "258632  [thought, try, new, coffee, shop, found, littl...   \n",
       "433014  [reasonable, prices, good, variety, flavors, l...   \n",
       "\n",
       "                                             stemmed_text  \\\n",
       "258632  [thought, tri, new, coffe, shop, found, littl,...   \n",
       "433014  [reason, price, good, varieti, flavor, lot, to...   \n",
       "\n",
       "                                          lemmatized_text  \n",
       "258632  [thought, tri, new, coffe, shop, found, littl,...  \n",
       "433014  [reason, price, good, varieti, flavor, lot, to...  "
      ]
     },
     "execution_count": 4,
     "metadata": {},
     "output_type": "execute_result"
    }
   ],
   "source": [
    "train_df.head(2)"
   ]
  },
  {
   "cell_type": "code",
   "execution_count": 5,
   "metadata": {
    "id": "Q9dZUibHd1ch"
   },
   "outputs": [],
   "source": [
    "train_df['final_text'] = train_df['lemmatized_text'].apply(' '.join)\n",
    "test_df['final_text'] = test_df['lemmatized_text'].apply(' '.join)"
   ]
  },
  {
   "cell_type": "code",
   "execution_count": 6,
   "metadata": {
    "id": "r5aXo8QGeWW2"
   },
   "outputs": [
    {
     "data": {
      "text/plain": [
       "258632    thought tri new coffe shop found littl place a...\n",
       "433014    reason price good varieti flavor lot top choic...\n",
       "558319    tini littl cafe perfectli place latta arcad eu...\n",
       "383152    fianc ate last night order special sirloin ste...\n",
       "52448     well think place 2003 friend took u good time ...\n",
       "Name: final_text, dtype: object"
      ]
     },
     "execution_count": 6,
     "metadata": {},
     "output_type": "execute_result"
    }
   ],
   "source": [
    "train_df['final_text'].head(5)"
   ]
  },
  {
   "cell_type": "code",
   "execution_count": 7,
   "metadata": {
    "id": "QaeGmEkcvLz5"
   },
   "outputs": [
    {
     "name": "stdout",
     "output_type": "stream",
     "text": [
      "Maximum length of text: 3280\n"
     ]
    }
   ],
   "source": [
    "texts = train_df['final_text']\n",
    "\n",
    "# Calculate lengths of each text\n",
    "text_lengths = texts.apply(len)\n",
    "\n",
    "# Find maximum length\n",
    "max_length = text_lengths.max()\n",
    "\n",
    "print(f\"Maximum length of text: {max_length}\")"
   ]
  },
  {
   "cell_type": "code",
   "execution_count": 8,
   "metadata": {
    "id": "Jq8bBZrb18pT"
   },
   "outputs": [
    {
     "name": "stdout",
     "output_type": "stream",
     "text": [
      "Maximum length of text: 3385\n"
     ]
    }
   ],
   "source": [
    "texts = test_df['final_text']\n",
    "\n",
    "# Calculate lengths of each text\n",
    "text_lengths = texts.apply(len)\n",
    "\n",
    "# Find maximum length\n",
    "max_length = text_lengths.max()\n",
    "\n",
    "print(f\"Maximum length of text: {max_length}\")"
   ]
  },
  {
   "cell_type": "code",
   "execution_count": 9,
   "metadata": {
    "id": "2diBbUE31IWt"
   },
   "outputs": [
    {
     "name": "stdout",
     "output_type": "stream",
     "text": [
      "Miniimum length of text: 0\n"
     ]
    }
   ],
   "source": [
    "texts = train_df['final_text']\n",
    "\n",
    "# Calculate lengths of each text\n",
    "text_lengths = texts.apply(len)\n",
    "\n",
    "# Find maximum length\n",
    "min_length = text_lengths.min()\n",
    "\n",
    "print(f\"Miniimum length of text: {min_length}\")"
   ]
  },
  {
   "cell_type": "code",
   "execution_count": 10,
   "metadata": {
    "id": "3XXRGz3a2tHH"
   },
   "outputs": [
    {
     "name": "stdout",
     "output_type": "stream",
     "text": [
      "Miniimum length of text: 0\n"
     ]
    }
   ],
   "source": [
    "texts = test_df['final_text']\n",
    "\n",
    "# Calculate lengths of each text\n",
    "text_lengths = texts.apply(len)\n",
    "\n",
    "# Find maximum length\n",
    "min_length = text_lengths.min()\n",
    "\n",
    "print(f\"Miniimum length of text: {min_length}\")"
   ]
  },
  {
   "cell_type": "code",
   "execution_count": 11,
   "metadata": {
    "id": "dpgmeKXT1d6E"
   },
   "outputs": [
    {
     "name": "stdout",
     "output_type": "stream",
     "text": [
      "Number of rows with text length 0: 3\n"
     ]
    }
   ],
   "source": [
    "# Calculate lengths of each text\n",
    "text_lengths = train_df['final_text'].apply(len)\n",
    "\n",
    "# Find the count of rows with text length 0\n",
    "zero_length_count = (text_lengths == 0).sum()\n",
    "\n",
    "print(f\"Number of rows with text length 0: {zero_length_count}\")\n"
   ]
  },
  {
   "cell_type": "code",
   "execution_count": 12,
   "metadata": {
    "id": "6T2EYjxe2yTV"
   },
   "outputs": [
    {
     "name": "stdout",
     "output_type": "stream",
     "text": [
      "Number of rows with text length 0: 2\n"
     ]
    }
   ],
   "source": [
    "# Calculate lengths of each text\n",
    "text_lengths = test_df['final_text'].apply(len)\n",
    "\n",
    "# Find the count of rows with text length 0\n",
    "zero_length_count = (text_lengths == 0).sum()\n",
    "\n",
    "print(f\"Number of rows with text length 0: {zero_length_count}\")\n"
   ]
  },
  {
   "cell_type": "code",
   "execution_count": 13,
   "metadata": {
    "id": "Tj0SK9d610fs"
   },
   "outputs": [
    {
     "name": "stdout",
     "output_type": "stream",
     "text": [
      "Number of rows with text length 0: 3\n",
      "Number of rows with text length 0 after removal: 0\n"
     ]
    }
   ],
   "source": [
    "# Calculate lengths of each text\n",
    "text_lengths = train_df['final_text'].apply(len)\n",
    "\n",
    "# Find the count of rows with text length 0\n",
    "zero_length_count = (text_lengths == 0).sum()\n",
    "\n",
    "print(f\"Number of rows with text length 0: {zero_length_count}\")\n",
    "\n",
    "# Remove rows with text length 0\n",
    "train_df = train_df[text_lengths != 0]\n",
    "\n",
    "# Verify the removal\n",
    "new_zero_length_count = (train_df['final_text'].apply(len) == 0).sum()\n",
    "print(f\"Number of rows with text length 0 after removal: {new_zero_length_count}\")\n"
   ]
  },
  {
   "cell_type": "code",
   "execution_count": 14,
   "metadata": {
    "id": "437f5tHD24qs"
   },
   "outputs": [
    {
     "name": "stdout",
     "output_type": "stream",
     "text": [
      "Number of rows with text length 0: 2\n",
      "Number of rows with text length 0 after removal: 0\n"
     ]
    }
   ],
   "source": [
    "# Calculate lengths of each text\n",
    "text_lengths = test_df['final_text'].apply(len)\n",
    "\n",
    "# Find the count of rows with text length 0\n",
    "zero_length_count = (text_lengths == 0).sum()\n",
    "\n",
    "print(f\"Number of rows with text length 0: {zero_length_count}\")\n",
    "\n",
    "# Remove rows with text length 0\n",
    "test_df = test_df[text_lengths != 0]\n",
    "\n",
    "# Verify the removal\n",
    "new_zero_length_count = (test_df['final_text'].apply(len) == 0).sum()\n",
    "print(f\"Number of rows with text length 0 after removal: {new_zero_length_count}\")\n"
   ]
  },
  {
   "cell_type": "code",
   "execution_count": 15,
   "metadata": {
    "id": "3INXoBPGhZuY"
   },
   "outputs": [
    {
     "name": "stdout",
     "output_type": "stream",
     "text": [
      "The text does not contain numbers.\n"
     ]
    }
   ],
   "source": [
    "def contains_number(text):\n",
    "    return any(char.isdigit() for char in text)\n",
    "\n",
    "\n",
    "if contains_number(train_df['final_text']):\n",
    "    print(\"The text contains numbers.\")\n",
    "else:\n",
    "    print(\"The text does not contain numbers.\")\n"
   ]
  },
  {
   "cell_type": "markdown",
   "metadata": {},
   "source": [
    "## Importing the Required Libraries"
   ]
  },
  {
   "cell_type": "code",
   "execution_count": 16,
   "metadata": {},
   "outputs": [
    {
     "name": "stderr",
     "output_type": "stream",
     "text": [
      "/usr/lib/python3/dist-packages/scipy/__init__.py:146: UserWarning: A NumPy version >=1.17.3 and <1.25.0 is required for this version of SciPy (detected version 1.26.4\n",
      "  warnings.warn(f\"A NumPy version >={np_minversion} and <{np_maxversion}\"\n"
     ]
    }
   ],
   "source": [
    "from transformers import BertTokenizer, BertForSequenceClassification\n",
    "import torch\n",
    "from torch.utils.data import DataLoader, TensorDataset\n",
    "from sklearn.model_selection import train_test_split\n",
    "from sklearn.metrics import accuracy_score, precision_recall_fscore_support\n",
    "import torch.optim as optim\n"
   ]
  },
  {
   "cell_type": "markdown",
   "metadata": {},
   "source": [
    " ## Splitting the Dataset"
   ]
  },
  {
   "cell_type": "code",
   "execution_count": 17,
   "metadata": {},
   "outputs": [],
   "source": [
    "# Assuming you have a DIFFERENT column name in both train_df and test_df indicating sentiment labels, change 'label' to the correct column name\n",
    "X_train, X_test, y_train, y_test = train_test_split(train_df['final_text'], train_df['label'], test_size=0.2, random_state=42)\n",
    "X_val, X_test, y_val, y_test = train_test_split(X_test, y_test, test_size=0.5, random_state=42)\n",
    "\n",
    "# X_train: Training text data\n",
    "# y_train: Training labels\n",
    "# X_val: Validation text data\n",
    "# y_val: Validation labels\n",
    "# X_test: Test text data\n",
    "# y_test: Test labels\n"
   ]
  },
  {
   "cell_type": "code",
   "execution_count": null,
   "metadata": {},
   "outputs": [],
   "source": []
  },
  {
   "cell_type": "markdown",
   "metadata": {},
   "source": [
    "## BERT BASED UNCASED CODE"
   ]
  },
  {
   "cell_type": "markdown",
   "metadata": {},
   "source": [
    "## Tokenizing the Data"
   ]
  },
  {
   "cell_type": "code",
   "execution_count": 17,
   "metadata": {},
   "outputs": [],
   "source": [
    "# Load the BERT tokenizer\n",
    "tokenizer_bert = BertTokenizer.from_pretrained('bert-base-uncased')\n",
    "\n",
    "# Tokenize the text data\n",
    "train_encodings = tokenizer_bert (list(X_train), truncation=True, padding=True, return_tensors='pt')\n",
    "val_encodings = tokenizer_bert (list(X_val), truncation=True, padding=True, return_tensors='pt')\n",
    "test_encodings = tokenizer_bert (list(X_test), truncation=True, padding=True, return_tensors='pt')\n"
   ]
  },
  {
   "cell_type": "markdown",
   "metadata": {},
   "source": [
    "## Creating Datasets and Dataloaders"
   ]
  },
  {
   "cell_type": "code",
   "execution_count": 18,
   "metadata": {},
   "outputs": [],
   "source": [
    "# Convert to datasets\n",
    "train_dataset = TensorDataset(train_encodings['input_ids'], train_encodings['attention_mask'], torch.tensor(y_train.values))\n",
    "val_dataset = TensorDataset(val_encodings['input_ids'], val_encodings['attention_mask'], torch.tensor(y_val.values))\n",
    "test_dataset = TensorDataset(test_encodings['input_ids'], test_encodings['attention_mask'], torch.tensor(y_test.values))\n",
    "\n",
    "# Create data loaders\n",
    "train_loader = DataLoader(train_dataset, batch_size=8, shuffle=True)\n",
    "val_loader = DataLoader(val_dataset, batch_size=16, shuffle=False)\n",
    "test_loader = DataLoader(test_dataset, batch_size=16, shuffle=False)\n"
   ]
  },
  {
   "cell_type": "markdown",
   "metadata": {},
   "source": [
    "## TRAINING THE DATASET(BERT BASED UNCASED)"
   ]
  },
  {
   "cell_type": "code",
   "execution_count": 19,
   "metadata": {},
   "outputs": [
    {
     "name": "stderr",
     "output_type": "stream",
     "text": [
      "Some weights of BertForSequenceClassification were not initialized from the model checkpoint at bert-base-uncased and are newly initialized: ['classifier.bias', 'classifier.weight']\n",
      "You should probably TRAIN this model on a down-stream task to be able to use it for predictions and inference.\n"
     ]
    },
    {
     "name": "stdout",
     "output_type": "stream",
     "text": [
      "Epoch [1/4], Train Loss: 0.27247393919024615\n",
      "Validation Loss: 0.18752876282952274\n",
      "Validation Accuracy: 0.9256\n",
      "Validation Precision: 0.9257\n",
      "Validation Recall: 0.9256\n",
      "Validation F1-score: 0.9256\n",
      "Epoch [2/4], Train Loss: 0.15272895661515648\n",
      "Validation Loss: 0.17759899881046515\n",
      "Validation Accuracy: 0.9264\n",
      "Validation Precision: 0.9266\n",
      "Validation Recall: 0.9264\n",
      "Validation F1-score: 0.9264\n",
      "Epoch [3/4], Train Loss: 0.07904103365097544\n",
      "Validation Loss: 0.2643244193186954\n",
      "Validation Accuracy: 0.9322\n",
      "Validation Precision: 0.9322\n",
      "Validation Recall: 0.9322\n",
      "Validation F1-score: 0.9322\n",
      "Epoch [4/4], Train Loss: 0.04475000953337876\n",
      "Validation Loss: 0.2539687862892385\n",
      "Validation Accuracy: 0.9236\n",
      "Validation Precision: 0.9253\n",
      "Validation Recall: 0.9236\n",
      "Validation F1-score: 0.9235\n"
     ]
    }
   ],
   "source": [
    "from transformers import BertForSequenceClassification\n",
    "import torch.optim as optim\n",
    "\n",
    "# Load the model\n",
    "model = BertForSequenceClassification.from_pretrained('bert-base-uncased', num_labels=3) \n",
    "# Set up training parameters\n",
    "device = torch.device('cuda') if torch.cuda.is_available() else torch.device('cpu')\n",
    "model.to(device)\n",
    "optimizer = optim.AdamW(model.parameters(), lr=2e-5)\n",
    "num_epochs = 4\n",
    "\n",
    "# Training loop\n",
    "for epoch in range(num_epochs):\n",
    "    model.train()\n",
    "    train_loss = 0\n",
    "    for batch in train_loader:\n",
    "        input_ids, attention_mask, labels = batch\n",
    "        input_ids = input_ids.to(device)  \n",
    "        attention_mask = attention_mask.to(device)\n",
    "        labels = labels.to(device)\n",
    "\n",
    "        optimizer.zero_grad()\n",
    "        outputs = model(input_ids, attention_mask=attention_mask, labels=labels)\n",
    "        loss = outputs.loss\n",
    "        loss.backward()\n",
    "        optimizer.step()\n",
    "\n",
    "        train_loss += loss.item()\n",
    "\n",
    "    print(f'Epoch [{epoch+1}/{num_epochs}], Train Loss: {train_loss/len(train_loader)}')\n",
    "\n",
    "    # Evaluation on validation set\n",
    "    model.eval()\n",
    "    val_loss = 0\n",
    "    all_predictions = []\n",
    "    all_labels = []\n",
    "    with torch.no_grad():\n",
    "        for batch in val_loader:\n",
    "            input_ids, attention_mask, labels = batch\n",
    "            input_ids = input_ids.to(device)\n",
    "            attention_mask = attention_mask.to(device)\n",
    "            labels = labels.to(device)\n",
    "\n",
    "            outputs = model(input_ids, attention_mask=attention_mask, labels=labels)\n",
    "            loss = outputs.loss\n",
    "            val_loss += loss.item()\n",
    "\n",
    "            logits = outputs.logits\n",
    "            predictions = torch.argmax(logits, dim=1)\n",
    "            all_predictions.extend(predictions.cpu().numpy())\n",
    "            all_labels.extend(labels.cpu().numpy())\n",
    "\n",
    "    val_accuracy = accuracy_score(all_labels, all_predictions)\n",
    "    val_precision, val_recall, val_f1, _ = precision_recall_fscore_support(all_labels, all_predictions, average='weighted')\n",
    "\n",
    "    print(f'Validation Loss: {val_loss/len(val_loader)}')\n",
    "    print(f'Validation Accuracy: {val_accuracy:.4f}')\n",
    "    print(f'Validation Precision: {val_precision:.4f}')\n",
    "    print(f'Validation Recall: {val_recall:.4f}')\n",
    "    print(f'Validation F1-score: {val_f1:.4f}')\n"
   ]
  },
  {
   "cell_type": "markdown",
   "metadata": {},
   "source": [
    "## Evaluating on the Test Set"
   ]
  },
  {
   "cell_type": "code",
   "execution_count": 48,
   "metadata": {
    "scrolled": true
   },
   "outputs": [
    {
     "name": "stdout",
     "output_type": "stream",
     "text": [
      "Test Loss: 0.3003283167235961\n",
      "Test Accuracy: 0.9276\n",
      "Test Precision: 0.9278\n",
      "Test Recall: 0.9276\n",
      "Test F1-score: 0.9276\n"
     ]
    }
   ],
   "source": [
    "# Evaluate on the test set\n",
    "model.eval()\n",
    "test_loss = 0\n",
    "all_predictions = []\n",
    "all_labels = []\n",
    "with torch.no_grad():\n",
    "    for batch in test_loader:\n",
    "        input_ids, attention_mask, labels = batch\n",
    "        input_ids = input_ids.to(device)\n",
    "        attention_mask = attention_mask.to(device)\n",
    "        labels = labels.to(device)\n",
    "\n",
    "        outputs = model(input_ids, attention_mask=attention_mask, labels=labels)\n",
    "        loss = outputs.loss\n",
    "        test_loss += loss.item()\n",
    "\n",
    "        logits = outputs.logits\n",
    "        predictions = torch.argmax(logits, dim=1)\n",
    "        all_predictions.extend(predictions.cpu().numpy())\n",
    "        all_labels.extend(labels.cpu().numpy())\n",
    "\n",
    "test_accuracy = accuracy_score(all_labels, all_predictions)\n",
    "test_precision, test_recall, test_f1, _ = precision_recall_fscore_support(all_labels, all_predictions, average='weighted')\n",
    "\n",
    "print(f'Test Loss: {test_loss/len(test_loader)}')\n",
    "print(f'Test Accuracy: {test_accuracy:.4f}')\n",
    "print(f'Test Precision: {test_precision:.4f}')\n",
    "print(f'Test Recall: {test_recall:.4f}')\n",
    "print(f'Test F1-score: {test_f1:.4f}')\n"
   ]
  },
  {
   "cell_type": "markdown",
   "metadata": {},
   "source": [
    "## Saving the BERT Model"
   ]
  },
  {
   "cell_type": "code",
   "execution_count": 20,
   "metadata": {},
   "outputs": [
    {
     "data": {
      "text/plain": [
       "('/data/nmamit-interns/grp3/new/all_models/tokenizer_bert/tokenizer_config.json',\n",
       " '/data/nmamit-interns/grp3/new/all_models/tokenizer_bert/special_tokens_map.json',\n",
       " '/data/nmamit-interns/grp3/new/all_models/tokenizer_bert/vocab.txt',\n",
       " '/data/nmamit-interns/grp3/new/all_models/tokenizer_bert/added_tokens.json')"
      ]
     },
     "execution_count": 20,
     "metadata": {},
     "output_type": "execute_result"
    }
   ],
   "source": [
    "model.save_pretrained('/data/nmamit-interns/grp3/new/all_models/model_bert')\n",
    "tokenizer_bert.save_pretrained('/data/nmamit-interns/grp3/new/all_models/tokenizer_bert')"
   ]
  },
  {
   "cell_type": "code",
   "execution_count": 21,
   "metadata": {},
   "outputs": [
    {
     "name": "stdout",
     "output_type": "stream",
     "text": [
      "Confusion Matrix:\n",
      " [[16548  2450]\n",
      " [  533 18467]]\n",
      "Classification Report:\n",
      "               precision    recall  f1-score   support\n",
      "\n",
      "           0       0.97      0.87      0.92     18998\n",
      "           1       0.88      0.97      0.93     19000\n",
      "\n",
      "    accuracy                           0.92     37998\n",
      "   macro avg       0.93      0.92      0.92     37998\n",
      "weighted avg       0.93      0.92      0.92     37998\n",
      "\n"
     ]
    }
   ],
   "source": [
    "#confusion matrix\n",
    "import torch\n",
    "from transformers import BertTokenizer, BertForSequenceClassification\n",
    "from sklearn.metrics import confusion_matrix, roc_curve, auc, classification_report\n",
    "import matplotlib.pyplot as plt\n",
    "import numpy as np\n",
    "\n",
    "#LOADING THE MODEL\n",
    "tokenizer_bert = BertTokenizer.from_pretrained('/data/nmamit-interns/grp3/new/all_models/tokenizer_bert')\n",
    "model_bert = BertForSequenceClassification.from_pretrained('/data/nmamit-interns/grp3/new/all_models/model_bert')\n",
    "\n",
    "# Load your test data\n",
    "test_texts = test_df['text'].tolist()\n",
    "test_labels = test_df['label'].tolist()\n",
    "# Move model to GPU if available\n",
    "device = torch.device('cuda') if torch.cuda.is_available() else torch.device('cpu')\n",
    "model_bert.to(device)\n",
    "\n",
    "# Function to get predictions in batches\n",
    "def get_predictions_in_batches(model, tokenizer, texts, batch_size=32):\n",
    "    model.eval()\n",
    "    all_predictions = []\n",
    "    all_logits = []\n",
    "    for i in range(0, len(texts), batch_size):\n",
    "        batch_texts = texts[i:i + batch_size]\n",
    "        encodings = tokenizer(batch_texts, truncation=True, padding=True, max_length=512, return_tensors='pt')\n",
    "        encodings = {key: val.to(device) for key, val in encodings.items()}\n",
    "        \n",
    "        with torch.no_grad():\n",
    "            outputs = model(**encodings)\n",
    "            logits = outputs.logits\n",
    "            predictions = torch.argmax(logits, dim=-1).cpu().numpy()\n",
    "        \n",
    "        all_predictions.extend(predictions)\n",
    "        all_logits.extend(logits.cpu().numpy())\n",
    "    \n",
    "    return np.array(all_predictions), np.array(all_logits)\n",
    "\n",
    "# Get predictions\n",
    "predictions, logits = get_predictions_in_batches(model_bert,tokenizer_bert, test_texts)\n",
    "\n",
    "# Calculate confusion matrix\n",
    "cm = confusion_matrix(test_labels, predictions)\n",
    "print(\"Confusion Matrix:\\n\", cm)\n",
    "\n",
    "# Generate classification report\n",
    "print(\"Classification Report:\\n\", classification_report(test_labels, predictions))"
   ]
  },
  {
   "cell_type": "code",
   "execution_count": 22,
   "metadata": {},
   "outputs": [
    {
     "data": {
      "image/png": "[encoded data removed]",
      "text/plain": [
       "<Figure size 432x288 with 1 Axes>"
      ]
     },
     "metadata": {
      "needs_background": "light"
     },
     "output_type": "display_data"
    }
   ],
   "source": [
    "# Calculate ROC curve and AUC\n",
    "if len(np.unique(test_labels)) == 2:\n",
    "    fpr, tpr, _ = roc_curve(test_labels, logits[:, 1])\n",
    "    roc_auc = auc(fpr, tpr)\n",
    "\n",
    "    # Plot ROC curve\n",
    "    plt.figure()\n",
    "    plt.plot(fpr, tpr, color='darkorange', lw=2, label='ROC curve (area = %0.2f)' % roc_auc)\n",
    "    plt.plot([0, 1], [0, 1], color='navy', lw=2, linestyle='--')\n",
    "    plt.xlim([0.0, 1.0])\n",
    "    plt.ylim([0.0, 1.05])\n",
    "    plt.xlabel('False Positive Rate')\n",
    "    plt.ylabel('True Positive Rate')\n",
    "    plt.title('Receiver Operating Characteristic')\n",
    "    plt.legend(loc=\"lower right\")\n",
    "    plt.show()\n",
    "else:\n",
    "    print(\"ROC curve is only applicable for binary classification.\")"
   ]
  },
  {
   "cell_type": "code",
   "execution_count": 25,
   "metadata": {},
   "outputs": [
    {
     "name": "stdout",
     "output_type": "stream",
     "text": [
      "Input Text: my partner and were visiting my family in pittsburgh we live in san diego my partner was born and raised in portugal my mom heard about this resaurant and was excited to take my partner and to portuguese restaurant in pittsburgh we went looked at the menu and did not find anything portuguese on the menu why does this restaurant promote itself as portuguese fly the portuguese flag and not have any portuguese dishes we left\n",
      "Predicted label: 1\n",
      "Actual label: 0\n"
     ]
    }
   ],
   "source": [
    "import torch\n",
    "\n",
    "# Function to predict a single sample from the test dataset\n",
    "def predict_single_sample_from_test(test_df, model, tokenizer, sample_index):\n",
    "    model.eval()\n",
    "    device = torch.device('cuda' if torch.cuda.is_available() else 'cpu')\n",
    "    model = model.to(device)\n",
    "    \n",
    "    with torch.no_grad():\n",
    "        # Retrieve the specific sample from test_df\n",
    "        text = test_df['text'].iloc[sample_index]\n",
    "        label = test_df['label'].iloc[sample_index]\n",
    "        \n",
    "        # Tokenize the text\n",
    "        inputs = tokenizer(text, return_tensors='pt', truncation=True, padding=True)\n",
    "        input_ids = inputs['input_ids'].to(device)\n",
    "        attention_mask = inputs['attention_mask'].to(device)\n",
    "        \n",
    "        # Make predictions\n",
    "        outputs = model(input_ids, attention_mask=attention_mask)\n",
    "        logits = outputs.logits\n",
    "        predicted_label = torch.argmax(logits, dim=1).item()\n",
    "        \n",
    "        # Decode the input text\n",
    "        decoded_text = tokenizer.decode(input_ids.squeeze().cpu(), skip_special_tokens=True)\n",
    "        \n",
    "        return decoded_text, predicted_label, label\n",
    "\n",
    "# Example usage to predict a specific sample index from test_df\n",
    "sample_index = 45# Example: predict the 3rd sample from test_df\n",
    "decoded_text, predicted_label, actual_label = predict_single_sample_from_test(test_df, model_bert, tokenizer_bert, sample_index)\n",
    "\n",
    "print(f'Input Text: {decoded_text}')\n",
    "print(f'Predicted label: {predicted_label}')\n",
    "print(f'Actual label: {actual_label}')\n"
   ]
  },
  {
   "cell_type": "code",
   "execution_count": 27,
   "metadata": {},
   "outputs": [
    {
     "name": "stdout",
     "output_type": "stream",
     "text": [
      "False predictions saved to 'false_predictions.csv'\n"
     ]
    }
   ],
   "source": [
    "import torch\n",
    "import pandas as pd\n",
    "\n",
    "# Function to predict all samples from the test dataset and identify false predictions\n",
    "def get_false_predictions(test_df, model, tokenizer):\n",
    "    model.eval()\n",
    "    device = torch.device('cuda' if torch.cuda.is_available() else 'cpu')\n",
    "    model = model.to(device)\n",
    "    \n",
    "    false_predictions = []\n",
    "    \n",
    "    with torch.no_grad():\n",
    "        for index, row in test_df.iterrows():\n",
    "            text = row['text']\n",
    "            actual_label = row['label']\n",
    "            \n",
    "            # Tokenize the text\n",
    "            inputs = tokenizer(text, return_tensors='pt', truncation=True, padding=True)\n",
    "            input_ids = inputs['input_ids'].to(device)\n",
    "            attention_mask = inputs['attention_mask'].to(device)\n",
    "            \n",
    "            # Make predictions\n",
    "            outputs = model(input_ids, attention_mask=attention_mask)\n",
    "            logits = outputs.logits\n",
    "            predicted_label = torch.argmax(logits, dim=1).item()\n",
    "            \n",
    "            if predicted_label != actual_label:\n",
    "                decoded_text = tokenizer.decode(input_ids.squeeze().cpu(), skip_special_tokens=True)\n",
    "                false_predictions.append({\n",
    "                    'text': decoded_text,\n",
    "                    'predicted_label': predicted_label,\n",
    "                    'actual_label': actual_label\n",
    "                })\n",
    "    \n",
    "    return false_predictions\n",
    "\n",
    "# Get false predictions\n",
    "false_predictions = get_false_predictions(test_df, model_bert, tokenizer_bert)\n",
    "\n",
    "# Create a DataFrame and save to CSV\n",
    "false_predictions_df = pd.DataFrame(false_predictions)\n",
    "false_predictions_df.to_csv('/data/nmamit-interns/grp3/new/false_predictions.csv', index=False)\n",
    "\n",
    "print(\"False predictions saved to 'false_predictions.csv'\")\n"
   ]
  },
  {
   "cell_type": "markdown",
   "metadata": {},
   "source": [
    "## Load the DistilBERT Tokenizer"
   ]
  },
  {
   "cell_type": "code",
   "execution_count": 24,
   "metadata": {},
   "outputs": [],
   "source": [
    "import torch\n",
    "from torch.utils.data import DataLoader, TensorDataset\n",
    "from sklearn.model_selection import train_test_split\n",
    "from transformers import DistilBertTokenizer, DistilBertForSequenceClassification\n",
    "from sklearn.metrics import accuracy_score, precision_recall_fscore_support\n",
    "import torch.optim as optim\n"
   ]
  },
  {
   "cell_type": "code",
   "execution_count": 25,
   "metadata": {},
   "outputs": [],
   "source": [
    "tokenizer = DistilBertTokenizer.from_pretrained('distilbert-base-uncased')\n"
   ]
  },
  {
   "cell_type": "code",
   "execution_count": 27,
   "metadata": {},
   "outputs": [
    {
     "name": "stderr",
     "output_type": "stream",
     "text": [
      "Some weights of DistilBertForSequenceClassification were not initialized from the model checkpoint at distilbert-base-uncased and are newly initialized: ['classifier.bias', 'classifier.weight', 'pre_classifier.bias', 'pre_classifier.weight']\n",
      "You should probably TRAIN this model on a down-stream task to be able to use it for predictions and inference.\n"
     ]
    },
    {
     "name": "stdout",
     "output_type": "stream",
     "text": [
      "Epoch [1/3], Train Loss: 0.2767\n",
      "Validation Loss: 0.2172\n",
      "Validation Accuracy: 0.9090\n",
      "Validation Precision: 0.9118\n",
      "Validation Recall: 0.9090\n",
      "Validation F1-score: 0.9088\n",
      "Epoch [2/3], Train Loss: 0.1610\n",
      "Validation Loss: 0.2057\n",
      "Validation Accuracy: 0.9192\n",
      "Validation Precision: 0.9205\n",
      "Validation Recall: 0.9192\n",
      "Validation F1-score: 0.9191\n",
      "Epoch [3/3], Train Loss: 0.0872\n",
      "Validation Loss: 0.2098\n",
      "Validation Accuracy: 0.9252\n",
      "Validation Precision: 0.9252\n",
      "Validation Recall: 0.9252\n",
      "Validation F1-score: 0.9252\n"
     ]
    }
   ],
   "source": [
    "# Encode datasets\n",
    "train_encodings = tokenizer(list(X_train), truncation=True, padding=True, return_tensors='pt')\n",
    "val_encodings = tokenizer(list(X_val), truncation=True, padding=True, return_tensors='pt')\n",
    "test_encodings = tokenizer(list(X_test), truncation=True, padding=True, return_tensors='pt')\n",
    "\n",
    "# Create TensorDatasets\n",
    "train_dataset = TensorDataset(train_encodings['input_ids'], train_encodings['attention_mask'], torch.tensor(y_train.values))\n",
    "val_dataset = TensorDataset(val_encodings['input_ids'], val_encodings['attention_mask'], torch.tensor(y_val.values))\n",
    "test_dataset = TensorDataset(test_encodings['input_ids'], test_encodings['attention_mask'], torch.tensor(y_test.values))\n",
    "\n",
    "# Create DataLoaders\n",
    "train_loader = DataLoader(train_dataset, batch_size=8, shuffle=True)\n",
    "val_loader = DataLoader(val_dataset, batch_size=16, shuffle=False)\n",
    "test_loader = DataLoader(test_dataset, batch_size=16, shuffle=False)\n",
    "\n",
    "# Initialize DistilBERT model for sequence classification\n",
    "model = DistilBertForSequenceClassification.from_pretrained('distilbert-base-uncased', num_labels=3)  # Adjust num_labels based on your sentiment classes\n",
    "\n",
    "# Set device (GPU if available, otherwise CPU)\n",
    "device = torch.device('cuda' if torch.cuda.is_available() else 'cpu')\n",
    "model.to(device)\n",
    "\n",
    "# Define optimizer\n",
    "optimizer = optim.AdamW(model.parameters(), lr=2e-5)\n",
    "\n",
    "# Training parameters\n",
    "num_epochs = 3\n",
    "\n",
    "# Training loop\n",
    "for epoch in range(num_epochs):\n",
    "    model.train()\n",
    "    train_loss = 0\n",
    "    for batch in train_loader:\n",
    "        input_ids, attention_mask, labels = batch\n",
    "        input_ids, attention_mask, labels = input_ids.to(device), attention_mask.to(device), labels.to(device)\n",
    "\n",
    "        optimizer.zero_grad()\n",
    "        outputs = model(input_ids, attention_mask=attention_mask, labels=labels)\n",
    "        loss = outputs.loss\n",
    "        loss.backward()\n",
    "        optimizer.step()\n",
    "\n",
    "        train_loss += loss.item()\n",
    "\n",
    "    # Print average train loss\n",
    "    print(f'Epoch [{epoch+1}/{num_epochs}], Train Loss: {train_loss/len(train_loader):.4f}')\n",
    "\n",
    "    # Evaluation on validation set\n",
    "    model.eval()\n",
    "    val_loss = 0\n",
    "    all_predictions = []\n",
    "    all_labels = []\n",
    "    with torch.no_grad():\n",
    "        for batch in val_loader:\n",
    "            input_ids, attention_mask, labels = batch\n",
    "            input_ids, attention_mask, labels = input_ids.to(device), attention_mask.to(device), labels.to(device)\n",
    "\n",
    "            outputs = model(input_ids, attention_mask=attention_mask, labels=labels)\n",
    "            loss = outputs.loss\n",
    "            val_loss += loss.item()\n",
    "\n",
    "            logits = outputs.logits\n",
    "            predictions = torch.argmax(logits, dim=1)\n",
    "            all_predictions.extend(predictions.cpu().numpy())\n",
    "            all_labels.extend(labels.cpu().numpy())\n",
    "\n",
    "    # Calculate validation metrics\n",
    "    val_accuracy = accuracy_score(all_labels, all_predictions)\n",
    "    val_precision, val_recall, val_f1, _ = precision_recall_fscore_support(all_labels, all_predictions, average='weighted')\n",
    "\n",
    "    # Print validation metrics\n",
    "    print(f'Validation Loss: {val_loss/len(val_loader):.4f}')\n",
    "    print(f'Validation Accuracy: {val_accuracy:.4f}')\n",
    "    print(f'Validation Precision: {val_precision:.4f}')\n",
    "    print(f'Validation Recall: {val_recall:.4f}')\n",
    "    print(f'Validation F1-score: {val_f1:.4f}')\n"
   ]
  },
  {
   "cell_type": "markdown",
   "metadata": {},
   "source": [
    "## Evaluate on the Test Set"
   ]
  },
  {
   "cell_type": "code",
   "execution_count": 23,
   "metadata": {},
   "outputs": [
    {
     "name": "stdout",
     "output_type": "stream",
     "text": [
      "Test Loss: 0.36035749427423763\n",
      "Test Accuracy: 0.9174\n",
      "Test Precision: 0.9178\n",
      "Test Recall: 0.9174\n",
      "Test F1-score: 0.9174\n"
     ]
    }
   ],
   "source": [
    "model.eval()\n",
    "test_loss = 0\n",
    "all_predictions = []\n",
    "all_labels = []\n",
    "with torch.no_grad():\n",
    "    for batch in test_loader:\n",
    "        input_ids, attention_mask, labels = batch\n",
    "        input_ids = input_ids.to(device)\n",
    "        attention_mask = attention_mask.to(device)\n",
    "        labels = labels.to(device)\n",
    "\n",
    "        outputs = model(input_ids, attention_mask=attention_mask, labels=labels)\n",
    "        loss = outputs.loss\n",
    "        test_loss += loss.item()\n",
    "\n",
    "        logits = outputs.logits\n",
    "        predictions = torch.argmax(logits, dim=1)\n",
    "        all_predictions.extend(predictions.cpu().numpy())\n",
    "        all_labels.extend(labels.cpu().numpy())\n",
    "\n",
    "test_accuracy = accuracy_score(all_labels, all_predictions)\n",
    "test_precision, test_recall, test_f1, _ = precision_recall_fscore_support(all_labels, all_predictions, average='weighted')\n",
    "\n",
    "print(f'Test Loss: {test_loss/len(test_loader)}')\n",
    "print(f'Test Accuracy: {test_accuracy:.4f}')\n",
    "print(f'Test Precision: {test_precision:.4f}')\n",
    "print(f'Test Recall: {test_recall:.4f}')\n",
    "print(f'Test F1-score: {test_f1:.4f}')\n"
   ]
  },
  {
   "cell_type": "code",
   "execution_count": 29,
   "metadata": {
    "id": "rl7I975XfHR3"
   },
   "outputs": [
    {
     "data": {
      "text/plain": [
       "('/data/nmamit-interns/grp3/new/all_models/tokenizer_distilbert/tokenizer_config.json',\n",
       " '/data/nmamit-interns/grp3/new/all_models/tokenizer_distilbert/special_tokens_map.json',\n",
       " '/data/nmamit-interns/grp3/new/all_models/tokenizer_distilbert/vocab.txt',\n",
       " '/data/nmamit-interns/grp3/new/all_models/tokenizer_distilbert/added_tokens.json')"
      ]
     },
     "execution_count": 29,
     "metadata": {},
     "output_type": "execute_result"
    }
   ],
   "source": [
    "#SAVING THE  DistilBERT MODEL\n",
    "model.save_pretrained('/data/nmamit-interns/grp3/new/all_models/model_distilbert')\n",
    "tokenizer.save_pretrained('/data/nmamit-interns/grp3/new/all_models/tokenizer_distilbert')"
   ]
  },
  {
   "cell_type": "code",
   "execution_count": 30,
   "metadata": {},
   "outputs": [
    {
     "name": "stdout",
     "output_type": "stream",
     "text": [
      "Confusion Matrix:\n",
      " [[18239   759]\n",
      " [ 2377 16623]]\n",
      "Classification Report:\n",
      "               precision    recall  f1-score   support\n",
      "\n",
      "           0       0.88      0.96      0.92     18998\n",
      "           1       0.96      0.87      0.91     19000\n",
      "\n",
      "    accuracy                           0.92     37998\n",
      "   macro avg       0.92      0.92      0.92     37998\n",
      "weighted avg       0.92      0.92      0.92     37998\n",
      "\n"
     ]
    }
   ],
   "source": [
    "#confusion matrix\n",
    "import torch\n",
    "from transformers import DistilBertTokenizer, DistilBertForSequenceClassification\n",
    "from sklearn.metrics import confusion_matrix, roc_curve, auc, classification_report\n",
    "import matplotlib.pyplot as plt\n",
    "import numpy as np\n",
    "\n",
    "#LOADING THE MODEL\n",
    "tokenizer_distilbert = DistilBertTokenizer.from_pretrained('/data/nmamit-interns/grp3/new/all_models/tokenizer_distilbert')\n",
    "model_distilbert = DistilBertForSequenceClassification.from_pretrained('/data/nmamit-interns/grp3/new/all_models/model_distilbert')\n",
    "\n",
    "# Load your test data\n",
    "test_texts = test_df['text'].tolist()\n",
    "test_labels = test_df['label'].tolist()\n",
    "# Move model to GPU if available\n",
    "device = torch.device('cuda') if torch.cuda.is_available() else torch.device('cpu')\n",
    "model_distilbert.to(device)\n",
    "\n",
    "# Function to get predictions in batches\n",
    "def get_predictions_in_batches(model, tokenizer, texts, batch_size=32):\n",
    "    model.eval()\n",
    "    all_predictions = []\n",
    "    all_logits = []\n",
    "    for i in range(0, len(texts), batch_size):\n",
    "        batch_texts = texts[i:i + batch_size]\n",
    "        encodings = tokenizer(batch_texts, truncation=True, padding=True, max_length=512, return_tensors='pt')\n",
    "        encodings = {key: val.to(device) for key, val in encodings.items()}\n",
    "        \n",
    "        with torch.no_grad():\n",
    "            outputs = model(**encodings)\n",
    "            logits = outputs.logits\n",
    "            predictions = torch.argmax(logits, dim=-1).cpu().numpy()\n",
    "        \n",
    "        all_predictions.extend(predictions)\n",
    "        all_logits.extend(logits.cpu().numpy())\n",
    "    \n",
    "    return np.array(all_predictions), np.array(all_logits)\n",
    "\n",
    "# Get predictions\n",
    "predictions, logits = get_predictions_in_batches(model_distilbert,tokenizer_distilbert, test_texts)\n",
    "\n",
    "# Calculate confusion matrix\n",
    "cm = confusion_matrix(test_labels, predictions)\n",
    "print(\"Confusion Matrix:\\n\", cm)\n",
    "\n",
    "# Generate classification report\n",
    "print(\"Classification Report:\\n\", classification_report(test_labels, predictions))"
   ]
  },
  {
   "cell_type": "code",
   "execution_count": 31,
   "metadata": {},
   "outputs": [
    {
     "data": {
      "image/png": "[encoded data removed]",
      "text/plain": [
       "<Figure size 432x288 with 1 Axes>"
      ]
     },
     "metadata": {
      "needs_background": "light"
     },
     "output_type": "display_data"
    }
   ],
   "source": [
    "# Calculate ROC curve and AUC\n",
    "if len(np.unique(test_labels)) == 2:\n",
    "    fpr, tpr, _ = roc_curve(test_labels, logits[:, 1])\n",
    "    roc_auc = auc(fpr, tpr)\n",
    "\n",
    "    # Plot ROC curve\n",
    "    plt.figure()\n",
    "    plt.plot(fpr, tpr, color='darkorange', lw=2, label='ROC curve (area = %0.2f)' % roc_auc)\n",
    "    plt.plot([0, 1], [0, 1], color='navy', lw=2, linestyle='--')\n",
    "    plt.xlim([0.0, 1.0])\n",
    "    plt.ylim([0.0, 1.05])\n",
    "    plt.xlabel('False Positive Rate')\n",
    "    plt.ylabel('True Positive Rate')\n",
    "    plt.title('Receiver Operating Characteristic')\n",
    "    plt.legend(loc=\"lower right\")\n",
    "    plt.show()\n",
    "else:\n",
    "    print(\"ROC curve is only applicable for binary classification.\")"
   ]
  },
  {
   "cell_type": "markdown",
   "metadata": {},
   "source": [
    "## **PREDICTION**"
   ]
  },
  {
   "cell_type": "code",
   "execution_count": 43,
   "metadata": {},
   "outputs": [
    {
     "data": {
      "text/html": [
       "<div>\n",
       "<style scoped>\n",
       "    .dataframe tbody tr th:only-of-type {\n",
       "        vertical-align: middle;\n",
       "    }\n",
       "\n",
       "    .dataframe tbody tr th {\n",
       "        vertical-align: top;\n",
       "    }\n",
       "\n",
       "    .dataframe thead th {\n",
       "        text-align: right;\n",
       "    }\n",
       "</style>\n",
       "<table border=\"1\" class=\"dataframe\">\n",
       "  <thead>\n",
       "    <tr style=\"text-align: right;\">\n",
       "      <th></th>\n",
       "      <th>label</th>\n",
       "      <th>text</th>\n",
       "      <th>normalized_text</th>\n",
       "      <th>expanded_text</th>\n",
       "      <th>tokenized_text</th>\n",
       "      <th>filtered_text</th>\n",
       "      <th>stemmed_text</th>\n",
       "      <th>lemmatized_text</th>\n",
       "      <th>final_text</th>\n",
       "    </tr>\n",
       "  </thead>\n",
       "  <tbody>\n",
       "    <tr>\n",
       "      <th>0</th>\n",
       "      <td>1</td>\n",
       "      <td>contrary to other reviews have zero complaints...</td>\n",
       "      <td>contrary to other reviews have zero complaints...</td>\n",
       "      <td>contrary to other reviews have zero complaints...</td>\n",
       "      <td>[contrary, to, other, reviews, have, zero, com...</td>\n",
       "      <td>[contrary, reviews, zero, complaints, service,...</td>\n",
       "      <td>[contrari, review, zero, complaint, servic, pr...</td>\n",
       "      <td>[contrari, review, zero, complaint, servic, pr...</td>\n",
       "      <td>contrari review zero complaint servic price ge...</td>\n",
       "    </tr>\n",
       "    <tr>\n",
       "      <th>1</th>\n",
       "      <td>0</td>\n",
       "      <td>last summer had an appointment to get new tire...</td>\n",
       "      <td>last summer had an appointment to get new tire...</td>\n",
       "      <td>last summer had an appointment to get new tire...</td>\n",
       "      <td>[last, summer, had, an, appointment, to, get, ...</td>\n",
       "      <td>[last, summer, appointment, get, new, tires, w...</td>\n",
       "      <td>[last, summer, appoint, get, new, tire, wait, ...</td>\n",
       "      <td>[last, summer, appoint, get, new, tire, wait, ...</td>\n",
       "      <td>last summer appoint get new tire wait super lo...</td>\n",
       "    </tr>\n",
       "    <tr>\n",
       "      <th>2</th>\n",
       "      <td>1</td>\n",
       "      <td>friendly staff same starbucks fair you get any...</td>\n",
       "      <td>friendly staff same starbucks fair you get any...</td>\n",
       "      <td>friendly staff same starbucks fair you get any...</td>\n",
       "      <td>[friendly, staff, same, starbucks, fair, you, ...</td>\n",
       "      <td>[friendly, staff, starbucks, fair, get, anywhe...</td>\n",
       "      <td>[friendli, staff, starbuck, fair, get, anywher...</td>\n",
       "      <td>[friendli, staff, starbuck, fair, get, anywher...</td>\n",
       "      <td>friendli staff starbuck fair get anywher el so...</td>\n",
       "    </tr>\n",
       "    <tr>\n",
       "      <th>3</th>\n",
       "      <td>0</td>\n",
       "      <td>the food is good unfortunately the service is ...</td>\n",
       "      <td>the food is good unfortunately the service is ...</td>\n",
       "      <td>the food is good unfortunately the service is ...</td>\n",
       "      <td>[the, food, is, good, unfortunately, the, serv...</td>\n",
       "      <td>[food, good, unfortunately, service, hit, miss...</td>\n",
       "      <td>[food, good, unfortun, servic, hit, miss, main...</td>\n",
       "      <td>[food, good, unfortun, servic, hit, miss, main...</td>\n",
       "      <td>food good unfortun servic hit miss main issu s...</td>\n",
       "    </tr>\n",
       "    <tr>\n",
       "      <th>4</th>\n",
       "      <td>1</td>\n",
       "      <td>even when we didn have car filene basement was...</td>\n",
       "      <td>even when we didn have car filene basement was...</td>\n",
       "      <td>even when we didn have car filene basement was...</td>\n",
       "      <td>[even, when, we, didn, have, car, filene, base...</td>\n",
       "      <td>[even, car, filene, basement, worth, bus, trip...</td>\n",
       "      <td>[even, car, filen, basement, worth, bu, trip, ...</td>\n",
       "      <td>[even, car, filen, basement, worth, bu, trip, ...</td>\n",
       "      <td>even car filen basement worth bu trip waterfro...</td>\n",
       "    </tr>\n",
       "  </tbody>\n",
       "</table>\n",
       "</div>"
      ],
      "text/plain": [
       "   label                                               text  \\\n",
       "0      1  contrary to other reviews have zero complaints...   \n",
       "1      0  last summer had an appointment to get new tire...   \n",
       "2      1  friendly staff same starbucks fair you get any...   \n",
       "3      0  the food is good unfortunately the service is ...   \n",
       "4      1  even when we didn have car filene basement was...   \n",
       "\n",
       "                                     normalized_text  \\\n",
       "0  contrary to other reviews have zero complaints...   \n",
       "1  last summer had an appointment to get new tire...   \n",
       "2  friendly staff same starbucks fair you get any...   \n",
       "3  the food is good unfortunately the service is ...   \n",
       "4  even when we didn have car filene basement was...   \n",
       "\n",
       "                                       expanded_text  \\\n",
       "0  contrary to other reviews have zero complaints...   \n",
       "1  last summer had an appointment to get new tire...   \n",
       "2  friendly staff same starbucks fair you get any...   \n",
       "3  the food is good unfortunately the service is ...   \n",
       "4  even when we didn have car filene basement was...   \n",
       "\n",
       "                                      tokenized_text  \\\n",
       "0  [contrary, to, other, reviews, have, zero, com...   \n",
       "1  [last, summer, had, an, appointment, to, get, ...   \n",
       "2  [friendly, staff, same, starbucks, fair, you, ...   \n",
       "3  [the, food, is, good, unfortunately, the, serv...   \n",
       "4  [even, when, we, didn, have, car, filene, base...   \n",
       "\n",
       "                                       filtered_text  \\\n",
       "0  [contrary, reviews, zero, complaints, service,...   \n",
       "1  [last, summer, appointment, get, new, tires, w...   \n",
       "2  [friendly, staff, starbucks, fair, get, anywhe...   \n",
       "3  [food, good, unfortunately, service, hit, miss...   \n",
       "4  [even, car, filene, basement, worth, bus, trip...   \n",
       "\n",
       "                                        stemmed_text  \\\n",
       "0  [contrari, review, zero, complaint, servic, pr...   \n",
       "1  [last, summer, appoint, get, new, tire, wait, ...   \n",
       "2  [friendli, staff, starbuck, fair, get, anywher...   \n",
       "3  [food, good, unfortun, servic, hit, miss, main...   \n",
       "4  [even, car, filen, basement, worth, bu, trip, ...   \n",
       "\n",
       "                                     lemmatized_text  \\\n",
       "0  [contrari, review, zero, complaint, servic, pr...   \n",
       "1  [last, summer, appoint, get, new, tire, wait, ...   \n",
       "2  [friendli, staff, starbuck, fair, get, anywher...   \n",
       "3  [food, good, unfortun, servic, hit, miss, main...   \n",
       "4  [even, car, filen, basement, worth, bu, trip, ...   \n",
       "\n",
       "                                          final_text  \n",
       "0  contrari review zero complaint servic price ge...  \n",
       "1  last summer appoint get new tire wait super lo...  \n",
       "2  friendli staff starbuck fair get anywher el so...  \n",
       "3  food good unfortun servic hit miss main issu s...  \n",
       "4  even car filen basement worth bu trip waterfro...  "
      ]
     },
     "execution_count": 43,
     "metadata": {},
     "output_type": "execute_result"
    }
   ],
   "source": [
    "test_df.head()"
   ]
  },
  {
   "cell_type": "code",
   "execution_count": 54,
   "metadata": {},
   "outputs": [
    {
     "name": "stdout",
     "output_type": "stream",
     "text": [
      "Input Text: the food is good unfortunately the service is very hit or miss the main issue seems to be with the kitchen the waiters and waitresses are often very apologetic for the long waits and it pretty obvious that some of them avoid the tables after taking the initial order to avoid hearing complaints\n",
      "Predicted label: 0\n",
      "Actual label: 0\n"
     ]
    }
   ],
   "source": [
    "import torch\n",
    "\n",
    "# Function to predict a single sample from the test dataset\n",
    "def predict_single_sample_from_test(test_df, model, tokenizer, sample_index):\n",
    "    model.eval()\n",
    "    device = torch.device('cuda' if torch.cuda.is_available() else 'cpu')\n",
    "    model = model.to(device)\n",
    "    \n",
    "    with torch.no_grad():\n",
    "        # Retrieve the specific sample from test_df\n",
    "        text = test_df['text'].iloc[sample_index]\n",
    "        label = test_df['label'].iloc[sample_index]\n",
    "        \n",
    "        # Tokenize the text\n",
    "        inputs = tokenizer(text, return_tensors='pt', truncation=True, padding=True)\n",
    "        input_ids = inputs['input_ids'].to(device)\n",
    "        attention_mask = inputs['attention_mask'].to(device)\n",
    "        \n",
    "        # Make predictions\n",
    "        outputs = model(input_ids, attention_mask=attention_mask)\n",
    "        logits = outputs.logits\n",
    "        predicted_label = torch.argmax(logits, dim=1).item()\n",
    "        \n",
    "        # Decode the input text\n",
    "        decoded_text = tokenizer.decode(input_ids.squeeze().cpu(), skip_special_tokens=True)\n",
    "        \n",
    "        return decoded_text, predicted_label, label\n",
    "\n",
    "# Example usage to predict a specific sample index from test_df\n",
    "sample_index = 3  # Example: predict the 3rd sample from test_df\n",
    "decoded_text, predicted_label, actual_label = predict_single_sample_from_test(test_df, model_distilbert, tokenizer_distilbert, sample_index)\n",
    "\n",
    "print(f'Input Text: {decoded_text}')\n",
    "print(f'Predicted label: {predicted_label}')\n",
    "print(f'Actual label: {actual_label}')\n"
   ]
  },
  {
   "cell_type": "markdown",
   "metadata": {},
   "source": [
    "## ROBERTA code"
   ]
  },
  {
   "cell_type": "code",
   "execution_count": 55,
   "metadata": {},
   "outputs": [],
   "source": [
    "import torch\n",
    "from torch.utils.data import DataLoader, TensorDataset\n",
    "from sklearn.model_selection import train_test_split\n",
    "from transformers import RobertaTokenizer, RobertaForSequenceClassification\n",
    "from sklearn.metrics import accuracy_score, precision_recall_fscore_support\n",
    "import torch.optim as optim\n"
   ]
  },
  {
   "cell_type": "code",
   "execution_count": 57,
   "metadata": {},
   "outputs": [
    {
     "name": "stderr",
     "output_type": "stream",
     "text": [
      "Some weights of RobertaForSequenceClassification were not initialized from the model checkpoint at roberta-base and are newly initialized: ['classifier.dense.bias', 'classifier.dense.weight', 'classifier.out_proj.bias', 'classifier.out_proj.weight']\n",
      "You should probably TRAIN this model on a down-stream task to be able to use it for predictions and inference.\n"
     ]
    },
    {
     "name": "stdout",
     "output_type": "stream",
     "text": [
      "Epoch [1/2], Train Loss: 0.2706151846098714\n",
      "Validation Loss: 0.18208724041037952\n",
      "Validation Accuracy: 0.9264\n",
      "Validation Precision: 0.9281\n",
      "Validation Recall: 0.9264\n",
      "Validation F1-score: 0.9263\n",
      "Epoch [2/2], Train Loss: 0.17067785046065692\n",
      "Validation Loss: 0.16095841463250568\n",
      "Validation Accuracy: 0.9384\n",
      "Validation Precision: 0.9385\n",
      "Validation Recall: 0.9384\n",
      "Validation F1-score: 0.9384\n"
     ]
    }
   ],
   "source": [
    "\n",
    "# Initialize tokenizer\n",
    "tokenizer_roberta = RobertaTokenizer.from_pretrained('roberta-base')\n",
    "\n",
    "# Encode datasets\n",
    "train_encodings = tokenizer_roberta(list(X_train), truncation=True, padding=True, return_tensors='pt')\n",
    "val_encodings = tokenizer_roberta(list(X_val), truncation=True, padding=True, return_tensors='pt')\n",
    "test_encodings = tokenizer_roberta(list(X_test), truncation=True, padding=True, return_tensors='pt')\n",
    "\n",
    "# Create TensorDatasets\n",
    "train_dataset = TensorDataset(train_encodings['input_ids'], train_encodings['attention_mask'], torch.tensor(y_train.values))\n",
    "val_dataset = TensorDataset(val_encodings['input_ids'], val_encodings['attention_mask'], torch.tensor(y_val.values))\n",
    "test_dataset = TensorDataset(test_encodings['input_ids'], test_encodings['attention_mask'], torch.tensor(y_test.values))\n",
    "\n",
    "# Create DataLoaders\n",
    "train_loader = DataLoader(train_dataset, batch_size=8, shuffle=True)\n",
    "val_loader = DataLoader(val_dataset, batch_size=16, shuffle=False)\n",
    "test_loader = DataLoader(test_dataset, batch_size=16, shuffle=False)\n",
    "\n",
    "# Initialize RoBERTa model for sequence classification\n",
    "roberta_model = RobertaForSequenceClassification.from_pretrained('roberta-base', num_labels=3)  # Adjust num_labels based on your sentiment classes\n",
    "\n",
    "# Set device (GPU if available, otherwise CPU)\n",
    "device = torch.device('cuda' if torch.cuda.is_available() else 'cpu')\n",
    "roberta_model.to(device)\n",
    "\n",
    "# Define optimizer\n",
    "optimizer = optim.AdamW(roberta_model.parameters(), lr=2e-5)\n",
    "\n",
    "# Training parameters\n",
    "num_epochs = 2\n",
    "\n",
    "# Training loop\n",
    "for epoch in range(num_epochs):\n",
    "    roberta_model.train()\n",
    "    train_loss = 0\n",
    "    for batch in train_loader:\n",
    "        input_ids, attention_mask, labels = batch\n",
    "        input_ids = input_ids.to(device)\n",
    "        attention_mask = attention_mask.to(device)\n",
    "        labels = labels.to(device)\n",
    "\n",
    "        optimizer.zero_grad()\n",
    "        outputs = roberta_model(input_ids, attention_mask=attention_mask, labels=labels)\n",
    "        loss = outputs.loss\n",
    "        loss.backward()\n",
    "        optimizer.step()\n",
    "\n",
    "        train_loss += loss.item()\n",
    "\n",
    "    print(f'Epoch [{epoch+1}/{num_epochs}], Train Loss: {train_loss/len(train_loader)}')\n",
    "\n",
    "    # Evaluation on validation set\n",
    "    roberta_model.eval()\n",
    "    val_loss = 0\n",
    "    all_predictions = []\n",
    "    all_labels = []\n",
    "    with torch.no_grad():\n",
    "        for batch in val_loader:\n",
    "            input_ids, attention_mask, labels = batch\n",
    "            input_ids = input_ids.to(device)\n",
    "            attention_mask = attention_mask.to(device)\n",
    "            labels = labels.to(device)\n",
    "\n",
    "            outputs = roberta_model(input_ids, attention_mask=attention_mask, labels=labels)\n",
    "            loss = outputs.loss\n",
    "            val_loss += loss.item()\n",
    "\n",
    "            logits = outputs.logits\n",
    "            predictions = torch.argmax(logits, dim=1)\n",
    "            all_predictions.extend(predictions.cpu().numpy())\n",
    "            all_labels.extend(labels.cpu().numpy())\n",
    "\n",
    "    val_accuracy = accuracy_score(all_labels, all_predictions)\n",
    "    val_precision, val_recall, val_f1, _ = precision_recall_fscore_support(all_labels, all_predictions, average='weighted')\n",
    "\n",
    "    print(f'Validation Loss: {val_loss/len(val_loader)}')\n",
    "    print(f'Validation Accuracy: {val_accuracy:.4f}')\n",
    "    print(f'Validation Precision: {val_precision:.4f}')\n",
    "    print(f'Validation Recall: {val_recall:.4f}')\n",
    "    print(f'Validation F1-score: {val_f1:.4f}')\n"
   ]
  },
  {
   "cell_type": "markdown",
   "metadata": {},
   "source": [
    "## Evaluate on the Test Set"
   ]
  },
  {
   "cell_type": "code",
   "execution_count": 25,
   "metadata": {},
   "outputs": [
    {
     "name": "stdout",
     "output_type": "stream",
     "text": [
      "Test Loss: 0.24833239774374416\n",
      "Test Accuracy: 0.9230\n",
      "Test Precision: 0.9245\n",
      "Test Recall: 0.9230\n",
      "Test F1-score: 0.9230\n"
     ]
    }
   ],
   "source": [
    "model.eval()\n",
    "test_loss = 0\n",
    "all_predictions = []\n",
    "all_labels = []\n",
    "with torch.no_grad():\n",
    "    for batch in test_loader:\n",
    "        input_ids, attention_mask, labels = batch\n",
    "        input_ids = input_ids.to(device)\n",
    "        attention_mask = attention_mask.to(device)\n",
    "        labels = labels.to(device)\n",
    "\n",
    "        outputs = model(input_ids, attention_mask=attention_mask, labels=labels)\n",
    "        loss = outputs.loss\n",
    "        test_loss += loss.item()\n",
    "\n",
    "        logits = outputs.logits\n",
    "        predictions = torch.argmax(logits, dim=1)\n",
    "        all_predictions.extend(predictions.cpu().numpy())\n",
    "        all_labels.extend(labels.cpu().numpy())\n",
    "\n",
    "test_accuracy = accuracy_score(all_labels, all_predictions)\n",
    "test_precision, test_recall, test_f1, _ = precision_recall_fscore_support(all_labels, all_predictions, average='weighted')\n",
    "\n",
    "print(f'Test Loss: {test_loss/len(test_loader)}')\n",
    "print(f'Test Accuracy: {test_accuracy:.4f}')\n",
    "print(f'Test Precision: {test_precision:.4f}')\n",
    "print(f'Test Recall: {test_recall:.4f}')\n",
    "print(f'Test F1-score: {test_f1:.4f}')\n"
   ]
  },
  {
   "cell_type": "code",
   "execution_count": 58,
   "metadata": {},
   "outputs": [
    {
     "data": {
      "text/plain": [
       "('/data/nmamit-interns/grp3/new/all_models/tokenizer_roberta/tokenizer_config.json',\n",
       " '/data/nmamit-interns/grp3/new/all_models/tokenizer_roberta/special_tokens_map.json',\n",
       " '/data/nmamit-interns/grp3/new/all_models/tokenizer_roberta/vocab.json',\n",
       " '/data/nmamit-interns/grp3/new/all_models/tokenizer_roberta/merges.txt',\n",
       " '/data/nmamit-interns/grp3/new/all_models/tokenizer_roberta/added_tokens.json')"
      ]
     },
     "execution_count": 58,
     "metadata": {},
     "output_type": "execute_result"
    }
   ],
   "source": [
    "roberta_model.save_pretrained('/data/nmamit-interns/grp3/new/all_models/model_roberta')\n",
    "tokenizer_roberta.save_pretrained('/data/nmamit-interns/grp3/new/all_models/tokenizer_roberta')"
   ]
  },
  {
   "cell_type": "code",
   "execution_count": 19,
   "metadata": {},
   "outputs": [],
   "source": [
    "from transformers import RobertaTokenizer, RobertaForSequenceClassification\n",
    "#LOADING THE MODEL\n",
    "tokenizer_roberta = RobertaTokenizer.from_pretrained('/data/nmamit-interns/grp3/new/all_models/tokenizer_roberta')\n",
    "model_roberta = RobertaForSequenceClassification.from_pretrained('/data/nmamit-interns/grp3/new/all_models/model_roberta')"
   ]
  },
  {
   "cell_type": "code",
   "execution_count": 60,
   "metadata": {},
   "outputs": [
    {
     "name": "stdout",
     "output_type": "stream",
     "text": [
      "Confusion Matrix:\n",
      " [[17990  1008]\n",
      " [  727 18273]]\n",
      "Classification Report:\n",
      "               precision    recall  f1-score   support\n",
      "\n",
      "           0       0.96      0.95      0.95     18998\n",
      "           1       0.95      0.96      0.95     19000\n",
      "\n",
      "    accuracy                           0.95     37998\n",
      "   macro avg       0.95      0.95      0.95     37998\n",
      "weighted avg       0.95      0.95      0.95     37998\n",
      "\n"
     ]
    }
   ],
   "source": [
    "#confusion matrix\n",
    "import torch\n",
    "from transformers import RobertaTokenizer, RobertaForSequenceClassification\n",
    "from sklearn.metrics import confusion_matrix, roc_curve, auc, classification_report\n",
    "import matplotlib.pyplot as plt\n",
    "import numpy as np\n",
    "\n",
    "#LOADING THE MODEL\n",
    "tokenizer_roberta = RobertaTokenizer.from_pretrained('/data/nmamit-interns/grp3/new/all_models/tokenizer_roberta')\n",
    "model_roberta = RobertaForSequenceClassification.from_pretrained('/data/nmamit-interns/grp3/new/all_models/model_roberta')\n",
    "\n",
    "# Load your test data\n",
    "test_texts = test_df['text'].tolist()\n",
    "test_labels = test_df['label'].tolist()\n",
    "# Move model to GPU if available\n",
    "device = torch.device('cuda') if torch.cuda.is_available() else torch.device('cpu')\n",
    "model_roberta.to(device)\n",
    "\n",
    "# Function to get predictions in batches\n",
    "def get_predictions_in_batches(model, tokenizer, texts, batch_size=32):\n",
    "    model.eval()\n",
    "    all_predictions = []\n",
    "    all_logits = []\n",
    "    for i in range(0, len(texts), batch_size):\n",
    "        batch_texts = texts[i:i + batch_size]\n",
    "        encodings = tokenizer(batch_texts, truncation=True, padding=True, max_length=512, return_tensors='pt')\n",
    "        encodings = {key: val.to(device) for key, val in encodings.items()}\n",
    "        \n",
    "        with torch.no_grad():\n",
    "            outputs = model(**encodings)\n",
    "            logits = outputs.logits\n",
    "            predictions = torch.argmax(logits, dim=-1).cpu().numpy()\n",
    "        \n",
    "        all_predictions.extend(predictions)\n",
    "        all_logits.extend(logits.cpu().numpy())\n",
    "    \n",
    "    return np.array(all_predictions), np.array(all_logits)\n",
    "\n",
    "# Get predictions\n",
    "predictions, logits = get_predictions_in_batches(model_roberta,tokenizer_roberta, test_texts)\n",
    "\n",
    "# Calculate confusion matrix\n",
    "cm = confusion_matrix(test_labels, predictions)\n",
    "print(\"Confusion Matrix:\\n\", cm)\n",
    "\n",
    "# Generate classification report\n",
    "print(\"Classification Report:\\n\", classification_report(test_labels, predictions))"
   ]
  },
  {
   "cell_type": "code",
   "execution_count": 61,
   "metadata": {},
   "outputs": [
    {
     "data": {
      "image/png": "[encoded data removed]",
      "text/plain": [
       "<Figure size 432x288 with 1 Axes>"
      ]
     },
     "metadata": {
      "needs_background": "light"
     },
     "output_type": "display_data"
    }
   ],
   "source": [
    "# Calculate ROC curve and AUC\n",
    "if len(np.unique(test_labels)) == 2:\n",
    "    fpr, tpr, _ = roc_curve(test_labels, logits[:, 1])\n",
    "    roc_auc = auc(fpr, tpr)\n",
    "\n",
    "    # Plot ROC curve\n",
    "    plt.figure()\n",
    "    plt.plot(fpr, tpr, color='darkorange', lw=2, label='ROC curve (area = %0.2f)' % roc_auc)\n",
    "    plt.plot([0, 1], [0, 1], color='navy', lw=2, linestyle='--')\n",
    "    plt.xlim([0.0, 1.0])\n",
    "    plt.ylim([0.0, 1.05])\n",
    "    plt.xlabel('False Positive Rate')\n",
    "    plt.ylabel('True Positive Rate')\n",
    "    plt.title('Receiver Operating Characteristic')\n",
    "    plt.legend(loc=\"lower right\")\n",
    "    plt.show()\n",
    "else:\n",
    "    print(\"ROC curve is only applicable for binary classification.\")"
   ]
  },
  {
   "cell_type": "code",
   "execution_count": 65,
   "metadata": {},
   "outputs": [
    {
     "name": "stdout",
     "output_type": "stream",
     "text": [
      "Input Text: mediocre service cold food our food waited so long the lettuce pickles wilted bland food crazy overpriced long waits in the arcade 1 beer per hour maximum avoid at all costs fair manager\n",
      "Predicted label: 0\n",
      "Actual label: 0\n"
     ]
    }
   ],
   "source": [
    "import torch\n",
    "\n",
    "# Function to predict a single sample from the test dataset\n",
    "def predict_single_sample_from_test(test_df, model, tokenizer, sample_index):\n",
    "    model.eval()\n",
    "    device = torch.device('cuda' if torch.cuda.is_available() else 'cpu')\n",
    "    model = model.to(device)\n",
    "    \n",
    "    with torch.no_grad():\n",
    "        # Retrieve the specific sample from test_df\n",
    "        text = test_df['text'].iloc[sample_index]\n",
    "        label = test_df['label'].iloc[sample_index]\n",
    "        \n",
    "        # Tokenize the text\n",
    "        inputs = tokenizer(text, return_tensors='pt', truncation=True, padding=True)\n",
    "        input_ids = inputs['input_ids'].to(device)\n",
    "        attention_mask = inputs['attention_mask'].to(device)\n",
    "        \n",
    "        # Make predictions\n",
    "        outputs = model(input_ids, attention_mask=attention_mask)\n",
    "        logits = outputs.logits\n",
    "        predicted_label = torch.argmax(logits, dim=1).item()\n",
    "        \n",
    "        # Decode the input text\n",
    "        decoded_text = tokenizer.decode(input_ids.squeeze().cpu(), skip_special_tokens=True)\n",
    "        \n",
    "        return decoded_text, predicted_label, label\n",
    "\n",
    "# Example usage to predict a specific sample index from test_df\n",
    "sample_index = 6  # Example: predict the 3rd sample from test_df\n",
    "decoded_text, predicted_label, actual_label = predict_single_sample_from_test(test_df, model_roberta, tokenizer_roberta, sample_index)\n",
    "\n",
    "print(f'Input Text: {decoded_text}')\n",
    "print(f'Predicted label: {predicted_label}')\n",
    "print(f'Actual label: {actual_label}')\n"
   ]
  },
  {
   "cell_type": "code",
   "execution_count": 21,
   "metadata": {},
   "outputs": [
    {
     "name": "stdout",
     "output_type": "stream",
     "text": [
      "False predictions saved to 'false_predictions.csv'\n"
     ]
    }
   ],
   "source": [
    "import torch\n",
    "import pandas as pd\n",
    "\n",
    "# Function to predict all samples from the test dataset and identify false predictions\n",
    "def get_false_predictions(test_df, model, tokenizer):\n",
    "    model.eval()\n",
    "    device = torch.device('cuda' if torch.cuda.is_available() else 'cpu')\n",
    "    model = model.to(device)\n",
    "    \n",
    "    false_predictions = []\n",
    "    \n",
    "    with torch.no_grad():\n",
    "        for index, row in test_df.iterrows():\n",
    "            text = row['text']\n",
    "            actual_label = row['label']\n",
    "            \n",
    "            # Tokenize the text\n",
    "            inputs = tokenizer(text, return_tensors='pt', truncation=True, padding=True)\n",
    "            input_ids = inputs['input_ids'].to(device)\n",
    "            attention_mask = inputs['attention_mask'].to(device)\n",
    "            \n",
    "            # Make predictions\n",
    "            outputs = model(input_ids, attention_mask=attention_mask)\n",
    "            logits = outputs.logits\n",
    "            predicted_label = torch.argmax(logits, dim=1).item()\n",
    "            \n",
    "            if predicted_label != actual_label:\n",
    "                decoded_text = tokenizer.decode(input_ids.squeeze().cpu(), skip_special_tokens=True)\n",
    "                false_predictions.append({\n",
    "                    'text': decoded_text,\n",
    "                    'predicted_label': predicted_label,\n",
    "                    'actual_label': actual_label\n",
    "                })\n",
    "    \n",
    "    return false_predictions\n",
    "\n",
    "# Get false predictions\n",
    "false_predictions = get_false_predictions(test_df, model_roberta, tokenizer_roberta)\n",
    "\n",
    "# Create a DataFrame and save to CSV\n",
    "false_predictions_df = pd.DataFrame(false_predictions)\n",
    "false_predictions_df.to_csv('/data/nmamit-interns/grp3/new/false2_predictions.csv', index=False)\n",
    "\n",
    "print(\"False predictions saved to 'false_predictions.csv'\")\n"
   ]
  },
  {
   "cell_type": "markdown",
   "metadata": {},
   "source": [
    "## ALBERTa"
   ]
  },
  {
   "cell_type": "code",
   "execution_count": 70,
   "metadata": {},
   "outputs": [],
   "source": [
    "import torch\n",
    "from torch.utils.data import DataLoader, TensorDataset\n",
    "from sklearn.model_selection import train_test_split\n",
    "from transformers import AlbertTokenizer, AlbertForSequenceClassification\n",
    "from sklearn.metrics import accuracy_score, precision_recall_fscore_support\n",
    "import torch.optim as optim"
   ]
  },
  {
   "cell_type": "code",
   "execution_count": 73,
   "metadata": {},
   "outputs": [
    {
     "name": "stderr",
     "output_type": "stream",
     "text": [
      "Some weights of AlbertForSequenceClassification were not initialized from the model checkpoint at albert-base-v2 and are newly initialized: ['classifier.bias', 'classifier.weight']\n",
      "You should probably TRAIN this model on a down-stream task to be able to use it for predictions and inference.\n"
     ]
    },
    {
     "name": "stdout",
     "output_type": "stream",
     "text": [
      "Epoch [1/3], Train Loss: 0.3340317437509075\n",
      "Validation Loss: 0.2667958633170817\n",
      "Validation Accuracy: 0.8924\n",
      "Validation Precision: 0.8979\n",
      "Validation Recall: 0.8924\n",
      "Validation F1-score: 0.8920\n",
      "Epoch [2/3], Train Loss: 0.21599592599128373\n",
      "Validation Loss: 0.2144722283309022\n",
      "Validation Accuracy: 0.9148\n",
      "Validation Precision: 0.9154\n",
      "Validation Recall: 0.9148\n",
      "Validation F1-score: 0.9148\n",
      "Epoch [3/3], Train Loss: 0.16025632768808865\n",
      "Validation Loss: 0.2015432677508448\n",
      "Validation Accuracy: 0.9234\n",
      "Validation Precision: 0.9236\n",
      "Validation Recall: 0.9234\n",
      "Validation F1-score: 0.9234\n"
     ]
    }
   ],
   "source": [
    "import torch\n",
    "from transformers import AlbertForSequenceClassification, AlbertTokenizer\n",
    "from torch.utils.data import DataLoader, TensorDataset\n",
    "from sklearn.metrics import accuracy_score, precision_recall_fscore_support\n",
    "import torch.optim as optim\n",
    "\n",
    "# Assuming alberta_model and alberta_tokenizer are loaded from 'alberta-base-v2'\n",
    "alberta_tokenizer = AlbertTokenizer.from_pretrained('albert-base-v2')\n",
    "\n",
    "train_encodings = alberta_tokenizer(list(X_train), truncation=True, padding=True, return_tensors='pt')\n",
    "val_encodings = alberta_tokenizer(list(X_val), truncation=True, padding=True, return_tensors='pt')\n",
    "test_encodings = alberta_tokenizer(list(X_test), truncation=True, padding=True, return_tensors='pt')\n",
    "\n",
    "train_dataset = TensorDataset(train_encodings['input_ids'], train_encodings['attention_mask'], torch.tensor(y_train.values))\n",
    "val_dataset = TensorDataset(val_encodings['input_ids'], val_encodings['attention_mask'], torch.tensor(y_val.values))\n",
    "test_dataset = TensorDataset(test_encodings['input_ids'], test_encodings['attention_mask'], torch.tensor(y_test.values))\n",
    "\n",
    "train_loader = DataLoader(train_dataset, batch_size=8, shuffle=True)\n",
    "val_loader = DataLoader(val_dataset, batch_size=16, shuffle=False)\n",
    "test_loader = DataLoader(test_dataset, batch_size=16, shuffle=False)\n",
    "\n",
    "alberta_model = AlbertForSequenceClassification.from_pretrained('albert-base-v2', num_labels=3)  \n",
    "device = torch.device('cuda') if torch.cuda.is_available() else torch.device('cpu')\n",
    "alberta_model.to(device)\n",
    "optimizer = optim.AdamW(alberta_model.parameters(), lr=2e-5)\n",
    "\n",
    "num_epochs = 3\n",
    "for epoch in range(num_epochs):\n",
    "    alberta_model.train()\n",
    "    train_loss = 0\n",
    "    for batch in train_loader:\n",
    "        input_ids, attention_mask, labels = batch\n",
    "        input_ids = input_ids.to(device)\n",
    "        attention_mask = attention_mask.to(device)\n",
    "        labels = labels.to(device)\n",
    "\n",
    "        optimizer.zero_grad()\n",
    "        outputs = alberta_model(input_ids, attention_mask=attention_mask, labels=labels)\n",
    "        loss = outputs.loss\n",
    "        loss.backward()\n",
    "        optimizer.step()\n",
    "\n",
    "        train_loss += loss.item()\n",
    "\n",
    "    print(f'Epoch [{epoch+1}/{num_epochs}], Train Loss: {train_loss/len(train_loader)}')\n",
    "\n",
    "    # Evaluation on validation set\n",
    "    alberta_model.eval()\n",
    "    val_loss = 0\n",
    "    all_predictions = []\n",
    "    all_labels = []\n",
    "    with torch.no_grad():\n",
    "        for batch in val_loader:\n",
    "            input_ids, attention_mask, labels = batch\n",
    "            input_ids = input_ids.to(device)\n",
    "            attention_mask = attention_mask.to(device)\n",
    "            labels = labels.to(device)\n",
    "\n",
    "            outputs = alberta_model(input_ids, attention_mask=attention_mask, labels=labels)\n",
    "            loss = outputs.loss\n",
    "            val_loss += loss.item()\n",
    "\n",
    "            logits = outputs.logits\n",
    "            predictions = torch.argmax(logits, dim=1)\n",
    "            all_predictions.extend(predictions.cpu().numpy())\n",
    "            all_labels.extend(labels.cpu().numpy())\n",
    "\n",
    "    val_accuracy = accuracy_score(all_labels, all_predictions)\n",
    "    val_precision, val_recall, val_f1, _ = precision_recall_fscore_support(all_labels, all_predictions, average='weighted')\n",
    "\n",
    "    print(f'Validation Loss: {val_loss/len(val_loader)}')\n",
    "    print(f'Validation Accuracy: {val_accuracy:.4f}')\n",
    "    print(f'Validation Precision: {val_precision:.4f}')\n",
    "    print(f'Validation Recall: {val_recall:.4f}')\n",
    "    print(f'Validation F1-score: {val_f1:.4f}')\n"
   ]
  },
  {
   "cell_type": "markdown",
   "metadata": {},
   "source": [
    " ## Evaluate on the Test Set"
   ]
  },
  {
   "cell_type": "code",
   "execution_count": 74,
   "metadata": {},
   "outputs": [
    {
     "name": "stdout",
     "output_type": "stream",
     "text": [
      "Test Loss: 0.22260132557548845\n",
      "Test Accuracy: 0.9112\n",
      "Test Precision: 0.9114\n",
      "Test Recall: 0.9112\n",
      "Test F1-score: 0.9112\n"
     ]
    }
   ],
   "source": [
    "alberta_model.eval()  \n",
    "test_loss = 0\n",
    "all_predictions = []\n",
    "all_labels = []\n",
    "\n",
    "with torch.no_grad():\n",
    "    for batch in test_loader:\n",
    "        input_ids, attention_mask, labels = batch\n",
    "        input_ids = input_ids.to(device)\n",
    "        attention_mask = attention_mask.to(device)\n",
    "        labels = labels.to(device)\n",
    "\n",
    "        outputs = alberta_model(input_ids, attention_mask=attention_mask, labels=labels)\n",
    "        loss = outputs.loss\n",
    "        test_loss += loss.item()\n",
    "\n",
    "        logits = outputs.logits\n",
    "        predictions = torch.argmax(logits, dim=1)\n",
    "        all_predictions.extend(predictions.cpu().numpy())\n",
    "        all_labels.extend(labels.cpu().numpy())\n",
    "\n",
    "test_accuracy = accuracy_score(all_labels, all_predictions)\n",
    "test_precision, test_recall, test_f1, _ = precision_recall_fscore_support(all_labels, all_predictions, average='weighted')\n",
    "\n",
    "print(f'Test Loss: {test_loss/len(test_loader)}')\n",
    "print(f'Test Accuracy: {test_accuracy:.4f}')\n",
    "print(f'Test Precision: {test_precision:.4f}')\n",
    "print(f'Test Recall: {test_recall:.4f}')\n",
    "print(f'Test F1-score: {test_f1:.4f}')\n"
   ]
  },
  {
   "cell_type": "code",
   "execution_count": 75,
   "metadata": {},
   "outputs": [
    {
     "data": {
      "text/plain": [
       "('/data/nmamit-interns/grp3/new/all_models/tokenizer_albert/tokenizer_config.json',\n",
       " '/data/nmamit-interns/grp3/new/all_models/tokenizer_albert/special_tokens_map.json',\n",
       " '/data/nmamit-interns/grp3/new/all_models/tokenizer_albert/spiece.model',\n",
       " '/data/nmamit-interns/grp3/new/all_models/tokenizer_albert/added_tokens.json')"
      ]
     },
     "execution_count": 75,
     "metadata": {},
     "output_type": "execute_result"
    }
   ],
   "source": [
    "alberta_model.save_pretrained('/data/nmamit-interns/grp3/new/all_models/model_albert')\n",
    "alberta_tokenizer.save_pretrained('/data/nmamit-interns/grp3/new/all_models/tokenizer_albert')"
   ]
  },
  {
   "cell_type": "code",
   "execution_count": 76,
   "metadata": {},
   "outputs": [
    {
     "name": "stdout",
     "output_type": "stream",
     "text": [
      "Confusion Matrix:\n",
      " [[17381  1617]\n",
      " [ 1969 17031]]\n",
      "Classification Report:\n",
      "               precision    recall  f1-score   support\n",
      "\n",
      "           0       0.90      0.91      0.91     18998\n",
      "           1       0.91      0.90      0.90     19000\n",
      "\n",
      "    accuracy                           0.91     37998\n",
      "   macro avg       0.91      0.91      0.91     37998\n",
      "weighted avg       0.91      0.91      0.91     37998\n",
      "\n"
     ]
    }
   ],
   "source": [
    "#confusion matrix\n",
    "import torch\n",
    "from transformers import AlbertTokenizer, AlbertForSequenceClassification\n",
    "from sklearn.metrics import confusion_matrix, roc_curve, auc, classification_report\n",
    "import matplotlib.pyplot as plt\n",
    "import numpy as np\n",
    "\n",
    "#LOADING THE MODEL\n",
    "tokenizer_albert = AlbertTokenizer.from_pretrained('/data/nmamit-interns/grp3/new/all_models/tokenizer_albert')\n",
    "model_albert = AlbertForSequenceClassification.from_pretrained('/data/nmamit-interns/grp3/new/all_models/model_albert')\n",
    "\n",
    "# Load your test data\n",
    "test_texts = test_df['text'].tolist()\n",
    "test_labels = test_df['label'].tolist()\n",
    "# Move model to GPU if available\n",
    "device = torch.device('cuda') if torch.cuda.is_available() else torch.device('cpu')\n",
    "model_albert.to(device)\n",
    "\n",
    "# Function to get predictions in batches\n",
    "def get_predictions_in_batches(model, tokenizer, texts, batch_size=32):\n",
    "    model.eval()\n",
    "    all_predictions = []\n",
    "    all_logits = []\n",
    "    for i in range(0, len(texts), batch_size):\n",
    "        batch_texts = texts[i:i + batch_size]\n",
    "        encodings = tokenizer(batch_texts, truncation=True, padding=True, max_length=512, return_tensors='pt')\n",
    "        encodings = {key: val.to(device) for key, val in encodings.items()}\n",
    "        \n",
    "        with torch.no_grad():\n",
    "            outputs = model(**encodings)\n",
    "            logits = outputs.logits\n",
    "            predictions = torch.argmax(logits, dim=-1).cpu().numpy()\n",
    "        \n",
    "        all_predictions.extend(predictions)\n",
    "        all_logits.extend(logits.cpu().numpy())\n",
    "    \n",
    "    return np.array(all_predictions), np.array(all_logits)\n",
    "\n",
    "# Get predictions\n",
    "predictions, logits = get_predictions_in_batches(model_albert,tokenizer_albert, test_texts)\n",
    "\n",
    "# Calculate confusion matrix\n",
    "cm = confusion_matrix(test_labels, predictions)\n",
    "print(\"Confusion Matrix:\\n\", cm)\n",
    "\n",
    "# Generate classification report\n",
    "print(\"Classification Report:\\n\", classification_report(test_labels, predictions))\n"
   ]
  },
  {
   "cell_type": "code",
   "execution_count": 77,
   "metadata": {},
   "outputs": [
    {
     "data": {
      "image/png": "[encoded data removed]",
      "text/plain": [
       "<Figure size 432x288 with 1 Axes>"
      ]
     },
     "metadata": {
      "needs_background": "light"
     },
     "output_type": "display_data"
    }
   ],
   "source": [
    "# Calculate ROC curve and AUC\n",
    "if len(np.unique(test_labels)) == 2:\n",
    "    fpr, tpr, _ = roc_curve(test_labels, logits[:, 1])\n",
    "    roc_auc = auc(fpr, tpr)\n",
    "\n",
    "    # Plot ROC curve\n",
    "    plt.figure()\n",
    "    plt.plot(fpr, tpr, color='darkorange', lw=2, label='ROC curve (area = %0.2f)' % roc_auc)\n",
    "    plt.plot([0, 1], [0, 1], color='navy', lw=2, linestyle='--')\n",
    "    plt.xlim([0.0, 1.0])\n",
    "    plt.ylim([0.0, 1.05])\n",
    "    plt.xlabel('False Positive Rate')\n",
    "    plt.ylabel('True Positive Rate')\n",
    "    plt.title('Receiver Operating Characteristic')\n",
    "    plt.legend(loc=\"lower right\")\n",
    "    plt.show()\n",
    "else:\n",
    "    print(\"ROC curve is only applicable for binary classification.\")"
   ]
  },
  {
   "cell_type": "code",
   "execution_count": 79,
   "metadata": {},
   "outputs": [
    {
     "name": "stdout",
     "output_type": "stream",
     "text": [
      "Input Text: contrary to other reviews have zero complaints about the service or the prices have been getting tire service here for the past 5 years now and compared to my experience with places like pep boys these guys are experienced and know what they re doing nalso this is one place that do not feel like am being taken advantage of just because of my gender other auto mechanics have been notorious for capitalizing on my ignorance of cars and have sucked my bank account dry but here my service and road coverage has all been well explained and let up to me to decide nand they just renovated the waiting room it looks lot better than it did in previous years\n",
      "Predicted label: 0\n",
      "Actual label: 1\n"
     ]
    }
   ],
   "source": [
    "import torch\n",
    "\n",
    "# Function to predict a single sample from the test dataset\n",
    "def predict_single_sample_from_test(test_df, model, tokenizer, sample_index):\n",
    "    model.eval()\n",
    "    device = torch.device('cuda' if torch.cuda.is_available() else 'cpu')\n",
    "    model = model.to(device)\n",
    "    \n",
    "    with torch.no_grad():\n",
    "        # Retrieve the specific sample from test_df\n",
    "        text = test_df['text'].iloc[sample_index]\n",
    "        label = test_df['label'].iloc[sample_index]\n",
    "        \n",
    "        # Tokenize the text\n",
    "        inputs = tokenizer(text, return_tensors='pt', truncation=True, padding=True)\n",
    "        input_ids = inputs['input_ids'].to(device)\n",
    "        attention_mask = inputs['attention_mask'].to(device)\n",
    "        \n",
    "        # Make predictions\n",
    "        outputs = model(input_ids, attention_mask=attention_mask)\n",
    "        logits = outputs.logits\n",
    "        predicted_label = torch.argmax(logits, dim=1).item()\n",
    "        \n",
    "        # Decode the input text\n",
    "        decoded_text = tokenizer.decode(input_ids.squeeze().cpu(), skip_special_tokens=True)\n",
    "        \n",
    "        return decoded_text, predicted_label, label\n",
    "\n",
    "# Example usage to predict a specific sample index from test_df\n",
    "sample_index = 0  # Example: predict the 3rd sample from test_df\n",
    "decoded_text, predicted_label, actual_label = predict_single_sample_from_test(test_df, model_albert, tokenizer_albert, sample_index)\n",
    "\n",
    "print(f'Input Text: {decoded_text}')\n",
    "print(f'Predicted label: {predicted_label}')\n",
    "print(f'Actual label: {actual_label}')\n"
   ]
  },
  {
   "cell_type": "code",
   "execution_count": null,
   "metadata": {},
   "outputs": [],
   "source": []
  },
  {
   "cell_type": "markdown",
   "metadata": {},
   "source": [
    "## DistilRoberta code"
   ]
  },
  {
   "cell_type": "code",
   "execution_count": 26,
   "metadata": {},
   "outputs": [],
   "source": [
    "import torch\n",
    "from torch.utils.data import DataLoader, TensorDataset\n",
    "from sklearn.model_selection import train_test_split\n",
    "from sklearn.metrics import accuracy_score, precision_recall_fscore_support\n",
    "import torch.optim as optim\n"
   ]
  },
  {
   "cell_type": "code",
   "execution_count": 27,
   "metadata": {},
   "outputs": [
    {
     "data": {
      "application/vnd.jupyter.widget-view+json": {
       "model_id": "799152ebac574868b24bd52564f8bcdc",
       "version_major": 2,
       "version_minor": 0
      },
      "text/plain": [
       "tokenizer_config.json:   0%|          | 0.00/25.0 [00:00<?, ?B/s]"
      ]
     },
     "metadata": {},
     "output_type": "display_data"
    },
    {
     "data": {
      "application/vnd.jupyter.widget-view+json": {
       "model_id": "c2b0d08ec5ff42fb9656ce21022190a4",
       "version_major": 2,
       "version_minor": 0
      },
      "text/plain": [
       "config.json:   0%|          | 0.00/480 [00:00<?, ?B/s]"
      ]
     },
     "metadata": {},
     "output_type": "display_data"
    },
    {
     "data": {
      "application/vnd.jupyter.widget-view+json": {
       "model_id": "abc65907e1304c4e82d8e7b013946438",
       "version_major": 2,
       "version_minor": 0
      },
      "text/plain": [
       "tokenizer_config.json:   0%|          | 0.00/25.0 [00:00<?, ?B/s]"
      ]
     },
     "metadata": {},
     "output_type": "display_data"
    },
    {
     "data": {
      "application/vnd.jupyter.widget-view+json": {
       "model_id": "239019089a484c76b91ab75aad3d5ed9",
       "version_major": 2,
       "version_minor": 0
      },
      "text/plain": [
       "vocab.json:   0%|          | 0.00/899k [00:00<?, ?B/s]"
      ]
     },
     "metadata": {},
     "output_type": "display_data"
    },
    {
     "data": {
      "application/vnd.jupyter.widget-view+json": {
       "model_id": "8c4edd123ee04c93ae02c42edc7962ef",
       "version_major": 2,
       "version_minor": 0
      },
      "text/plain": [
       "merges.txt:   0%|          | 0.00/456k [00:00<?, ?B/s]"
      ]
     },
     "metadata": {},
     "output_type": "display_data"
    },
    {
     "data": {
      "application/vnd.jupyter.widget-view+json": {
       "model_id": "2b5fc4832b104518b389c0a95ba9a217",
       "version_major": 2,
       "version_minor": 0
      },
      "text/plain": [
       "tokenizer.json:   0%|          | 0.00/1.36M [00:00<?, ?B/s]"
      ]
     },
     "metadata": {},
     "output_type": "display_data"
    },
    {
     "data": {
      "application/vnd.jupyter.widget-view+json": {
       "model_id": "5b368598ef9d4cc7b8d37f0d243ca6bb",
       "version_major": 2,
       "version_minor": 0
      },
      "text/plain": [
       "tokenizer_config.json:   0%|          | 0.00/25.0 [00:00<?, ?B/s]"
      ]
     },
     "metadata": {},
     "output_type": "display_data"
    },
    {
     "data": {
      "text/plain": [
       "RobertaTokenizerFast(name_or_path='distilroberta-base', vocab_size=50265, model_max_length=512, is_fast=True, padding_side='right', truncation_side='right', special_tokens={'bos_token': '<s>', 'eos_token': '</s>', 'unk_token': '<unk>', 'sep_token': '</s>', 'pad_token': '<pad>', 'cls_token': '<s>', 'mask_token': '<mask>'}, clean_up_tokenization_spaces=True),  added_tokens_decoder={\n",
       "\t0: AddedToken(\"<s>\", rstrip=False, lstrip=False, single_word=False, normalized=True, special=True),\n",
       "\t1: AddedToken(\"<pad>\", rstrip=False, lstrip=False, single_word=False, normalized=True, special=True),\n",
       "\t2: AddedToken(\"</s>\", rstrip=False, lstrip=False, single_word=False, normalized=True, special=True),\n",
       "\t3: AddedToken(\"<unk>\", rstrip=False, lstrip=False, single_word=False, normalized=True, special=True),\n",
       "\t50264: AddedToken(\"<mask>\", rstrip=False, lstrip=True, single_word=False, normalized=False, special=True),\n",
       "}"
      ]
     },
     "execution_count": 27,
     "metadata": {},
     "output_type": "execute_result"
    }
   ],
   "source": [
    "from transformers import AutoTokenizer, AutoModelForSequenceClassification\n",
    "\n",
    "# Remove cached files\n",
    "AutoTokenizer.from_pretrained('distilroberta-base', cache_dir='./cache', force_download=True)\n"
   ]
  },
  {
   "cell_type": "code",
   "execution_count": 30,
   "metadata": {},
   "outputs": [
    {
     "name": "stderr",
     "output_type": "stream",
     "text": [
      "Some weights of RobertaForSequenceClassification were not initialized from the model checkpoint at distilroberta-base and are newly initialized: ['classifier.dense.bias', 'classifier.dense.weight', 'classifier.out_proj.bias', 'classifier.out_proj.weight']\n",
      "You should probably TRAIN this model on a down-stream task to be able to use it for predictions and inference.\n"
     ]
    }
   ],
   "source": [
    "from transformers import AutoTokenizer, AutoModelForSequenceClassification\n",
    "\n",
    "# Initialize tokenizer\n",
    "distilroberta_tokenizer = AutoTokenizer.from_pretrained('distilroberta-base')\n",
    "\n",
    "# Initialize model\n",
    "distilroberta_model = AutoModelForSequenceClassification.from_pretrained('distilroberta-base', num_labels=3)\n",
    "#here remember the speed"
   ]
  },
  {
   "cell_type": "code",
   "execution_count": 33,
   "metadata": {},
   "outputs": [
    {
     "name": "stderr",
     "output_type": "stream",
     "text": [
      "You are using a model of type roberta to instantiate a model of type distilbert. This is not supported for all configurations of models and can yield errors.\n",
      "Some weights of DistilBertForSequenceClassification were not initialized from the model checkpoint at distilroberta-base and are newly initialized: ['classifier.bias', 'classifier.weight', 'embeddings.LayerNorm.bias', 'embeddings.LayerNorm.weight', 'embeddings.position_embeddings.weight', 'embeddings.word_embeddings.weight', 'pre_classifier.bias', 'pre_classifier.weight', 'transformer.layer.0.attention.k_lin.bias', 'transformer.layer.0.attention.k_lin.weight', 'transformer.layer.0.attention.out_lin.bias', 'transformer.layer.0.attention.out_lin.weight', 'transformer.layer.0.attention.q_lin.bias', 'transformer.layer.0.attention.q_lin.weight', 'transformer.layer.0.attention.v_lin.bias', 'transformer.layer.0.attention.v_lin.weight', 'transformer.layer.0.ffn.lin1.bias', 'transformer.layer.0.ffn.lin1.weight', 'transformer.layer.0.ffn.lin2.bias', 'transformer.layer.0.ffn.lin2.weight', 'transformer.layer.0.output_layer_norm.bias', 'transformer.layer.0.output_layer_norm.weight', 'transformer.layer.0.sa_layer_norm.bias', 'transformer.layer.0.sa_layer_norm.weight', 'transformer.layer.1.attention.k_lin.bias', 'transformer.layer.1.attention.k_lin.weight', 'transformer.layer.1.attention.out_lin.bias', 'transformer.layer.1.attention.out_lin.weight', 'transformer.layer.1.attention.q_lin.bias', 'transformer.layer.1.attention.q_lin.weight', 'transformer.layer.1.attention.v_lin.bias', 'transformer.layer.1.attention.v_lin.weight', 'transformer.layer.1.ffn.lin1.bias', 'transformer.layer.1.ffn.lin1.weight', 'transformer.layer.1.ffn.lin2.bias', 'transformer.layer.1.ffn.lin2.weight', 'transformer.layer.1.output_layer_norm.bias', 'transformer.layer.1.output_layer_norm.weight', 'transformer.layer.1.sa_layer_norm.bias', 'transformer.layer.1.sa_layer_norm.weight', 'transformer.layer.2.attention.k_lin.bias', 'transformer.layer.2.attention.k_lin.weight', 'transformer.layer.2.attention.out_lin.bias', 'transformer.layer.2.attention.out_lin.weight', 'transformer.layer.2.attention.q_lin.bias', 'transformer.layer.2.attention.q_lin.weight', 'transformer.layer.2.attention.v_lin.bias', 'transformer.layer.2.attention.v_lin.weight', 'transformer.layer.2.ffn.lin1.bias', 'transformer.layer.2.ffn.lin1.weight', 'transformer.layer.2.ffn.lin2.bias', 'transformer.layer.2.ffn.lin2.weight', 'transformer.layer.2.output_layer_norm.bias', 'transformer.layer.2.output_layer_norm.weight', 'transformer.layer.2.sa_layer_norm.bias', 'transformer.layer.2.sa_layer_norm.weight', 'transformer.layer.3.attention.k_lin.bias', 'transformer.layer.3.attention.k_lin.weight', 'transformer.layer.3.attention.out_lin.bias', 'transformer.layer.3.attention.out_lin.weight', 'transformer.layer.3.attention.q_lin.bias', 'transformer.layer.3.attention.q_lin.weight', 'transformer.layer.3.attention.v_lin.bias', 'transformer.layer.3.attention.v_lin.weight', 'transformer.layer.3.ffn.lin1.bias', 'transformer.layer.3.ffn.lin1.weight', 'transformer.layer.3.ffn.lin2.bias', 'transformer.layer.3.ffn.lin2.weight', 'transformer.layer.3.output_layer_norm.bias', 'transformer.layer.3.output_layer_norm.weight', 'transformer.layer.3.sa_layer_norm.bias', 'transformer.layer.3.sa_layer_norm.weight', 'transformer.layer.4.attention.k_lin.bias', 'transformer.layer.4.attention.k_lin.weight', 'transformer.layer.4.attention.out_lin.bias', 'transformer.layer.4.attention.out_lin.weight', 'transformer.layer.4.attention.q_lin.bias', 'transformer.layer.4.attention.q_lin.weight', 'transformer.layer.4.attention.v_lin.bias', 'transformer.layer.4.attention.v_lin.weight', 'transformer.layer.4.ffn.lin1.bias', 'transformer.layer.4.ffn.lin1.weight', 'transformer.layer.4.ffn.lin2.bias', 'transformer.layer.4.ffn.lin2.weight', 'transformer.layer.4.output_layer_norm.bias', 'transformer.layer.4.output_layer_norm.weight', 'transformer.layer.4.sa_layer_norm.bias', 'transformer.layer.4.sa_layer_norm.weight', 'transformer.layer.5.attention.k_lin.bias', 'transformer.layer.5.attention.k_lin.weight', 'transformer.layer.5.attention.out_lin.bias', 'transformer.layer.5.attention.out_lin.weight', 'transformer.layer.5.attention.q_lin.bias', 'transformer.layer.5.attention.q_lin.weight', 'transformer.layer.5.attention.v_lin.bias', 'transformer.layer.5.attention.v_lin.weight', 'transformer.layer.5.ffn.lin1.bias', 'transformer.layer.5.ffn.lin1.weight', 'transformer.layer.5.ffn.lin2.bias', 'transformer.layer.5.ffn.lin2.weight', 'transformer.layer.5.output_layer_norm.bias', 'transformer.layer.5.output_layer_norm.weight', 'transformer.layer.5.sa_layer_norm.bias', 'transformer.layer.5.sa_layer_norm.weight']\n",
      "You should probably TRAIN this model on a down-stream task to be able to use it for predictions and inference.\n"
     ]
    },
    {
     "name": "stdout",
     "output_type": "stream",
     "text": [
      "Epoch [1/3], Train Loss: 0.3151386135125533\n",
      "Validation Loss: 0.24076746860608317\n",
      "Validation Accuracy: 0.9014\n",
      "Validation Precision: 0.9040\n",
      "Validation Recall: 0.9014\n",
      "Validation F1-score: 0.9012\n",
      "Epoch [2/3], Train Loss: 0.213956016928982\n",
      "Validation Loss: 0.23593522022112298\n",
      "Validation Accuracy: 0.8972\n",
      "Validation Precision: 0.8994\n",
      "Validation Recall: 0.8972\n",
      "Validation F1-score: 0.8971\n",
      "Epoch [3/3], Train Loss: 0.1855966711871326\n",
      "Validation Loss: 0.25218581763384773\n",
      "Validation Accuracy: 0.9044\n",
      "Validation Precision: 0.9052\n",
      "Validation Recall: 0.9044\n",
      "Validation F1-score: 0.9043\n"
     ]
    }
   ],
   "source": [
    "\n",
    "# Encode datasets\n",
    "train_encodings = distilroberta_tokenizer(list(X_train), truncation=True, padding=True, return_tensors='pt')\n",
    "val_encodings = distilroberta_tokenizer(list(X_val), truncation=True, padding=True, return_tensors='pt')\n",
    "test_encodings = distilroberta_tokenizer(list(X_test), truncation=True, padding=True, return_tensors='pt')\n",
    "\n",
    "# Create TensorDatasets\n",
    "train_dataset = TensorDataset(train_encodings['input_ids'], train_encodings['attention_mask'], torch.tensor(y_train.values))\n",
    "val_dataset = TensorDataset(val_encodings['input_ids'], val_encodings['attention_mask'], torch.tensor(y_val.values))\n",
    "test_dataset = TensorDataset(test_encodings['input_ids'], test_encodings['attention_mask'], torch.tensor(y_test.values))\n",
    "\n",
    "# Create DataLoaders\n",
    "train_loader = DataLoader(train_dataset, batch_size=8, shuffle=True)\n",
    "val_loader = DataLoader(val_dataset, batch_size=16, shuffle=False)\n",
    "test_loader = DataLoader(test_dataset, batch_size=16, shuffle=False)\n",
    "\n",
    "# Initialize model\n",
    "distilroberta_model = DistilBertForSequenceClassification.from_pretrained('distilroberta-base', num_labels=3)  # Adjust num_labels based on your sentiment classes\n",
    "\n",
    "# Set device\n",
    "device = torch.device('cuda') if torch.cuda.is_available() else torch.device('cpu')\n",
    "distilroberta_model.to(device)\n",
    "\n",
    "# Set optimizer\n",
    "optimizer = optim.AdamW(distilroberta_model.parameters(), lr=2e-5)\n",
    "\n",
    "# Training and evaluation loop\n",
    "num_epochs = 3\n",
    "for epoch in range(num_epochs):\n",
    "    distilroberta_model.train()\n",
    "    train_loss = 0\n",
    "    for batch in train_loader:\n",
    "        input_ids, attention_mask, labels = batch\n",
    "        input_ids = input_ids.to(device)\n",
    "        attention_mask = attention_mask.to(device)\n",
    "        labels = labels.to(device)\n",
    "\n",
    "        optimizer.zero_grad()\n",
    "        outputs = distilroberta_model(input_ids, attention_mask=attention_mask, labels=labels)\n",
    "        loss = outputs.loss\n",
    "        loss.backward()\n",
    "        optimizer.step()\n",
    "\n",
    "        train_loss += loss.item()\n",
    "\n",
    "    print(f'Epoch [{epoch+1}/{num_epochs}], Train Loss: {train_loss/len(train_loader)}')\n",
    "\n",
    "    # Evaluation on validation set\n",
    "    distilroberta_model.eval()\n",
    "    val_loss = 0\n",
    "    all_predictions = []\n",
    "    all_labels = []\n",
    "    with torch.no_grad():\n",
    "        for batch in val_loader:\n",
    "            input_ids, attention_mask, labels = batch\n",
    "            input_ids = input_ids.to(device)\n",
    "            attention_mask = attention_mask.to(device)\n",
    "            labels = labels.to(device)\n",
    "\n",
    "            outputs = distilroberta_model(input_ids, attention_mask=attention_mask, labels=labels)\n",
    "            loss = outputs.loss\n",
    "            val_loss += loss.item()\n",
    "\n",
    "            logits = outputs.logits\n",
    "            predictions = torch.argmax(logits, dim=1)\n",
    "            all_predictions.extend(predictions.cpu().numpy())\n",
    "            all_labels.extend(labels.cpu().numpy())\n",
    "\n",
    "    val_accuracy = accuracy_score(all_labels, all_predictions)\n",
    "    val_precision, val_recall, val_f1, _ = precision_recall_fscore_support(all_labels, all_predictions, average='weighted')\n",
    "\n",
    "    print(f'Validation Loss: {val_loss/len(val_loader)}')\n",
    "    print(f'Validation Accuracy: {val_accuracy:.4f}')\n",
    "    print(f'Validation Precision: {val_precision:.4f}')\n",
    "    print(f'Validation Recall: {val_recall:.4f}')\n",
    "    print(f'Validation F1-score: {val_f1:.4f}')\n"
   ]
  },
  {
   "cell_type": "code",
   "execution_count": 35,
   "metadata": {},
   "outputs": [
    {
     "name": "stdout",
     "output_type": "stream",
     "text": [
      "Test Loss: 0.24460058358197395\n",
      "Test Accuracy: 0.9066\n",
      "Test Precision: 0.9072\n",
      "Test Recall: 0.9066\n",
      "Test F1-score: 0.9065\n"
     ]
    }
   ],
   "source": [
    "# Evaluation on test set\n",
    "distilroberta_model.eval()\n",
    "test_loss = 0\n",
    "all_predictions = []\n",
    "all_labels = []\n",
    "with torch.no_grad():\n",
    "    for batch in test_loader:\n",
    "        input_ids, attention_mask, labels = batch\n",
    "        input_ids = input_ids.to(device)\n",
    "        attention_mask = attention_mask.to(device)\n",
    "        labels = labels.to(device)\n",
    "\n",
    "        outputs = distilroberta_model(input_ids, attention_mask=attention_mask, labels=labels)\n",
    "        loss = outputs.loss\n",
    "        test_loss += loss.item()\n",
    "\n",
    "        logits = outputs.logits\n",
    "        predictions = torch.argmax(logits, dim=1)\n",
    "        all_predictions.extend(predictions.cpu().numpy())\n",
    "        all_labels.extend(labels.cpu().numpy())\n",
    "\n",
    "test_accuracy = accuracy_score(all_labels, all_predictions)\n",
    "test_precision, test_recall, test_f1, _ = precision_recall_fscore_support(all_labels, all_predictions, average='weighted')\n",
    "\n",
    "print(f'Test Loss: {test_loss/len(test_loader)}')\n",
    "print(f'Test Accuracy: {test_accuracy:.4f}')\n",
    "print(f'Test Precision: {test_precision:.4f}')\n",
    "print(f'Test Recall: {test_recall:.4f}')\n",
    "print(f'Test F1-score: {test_f1:.4f}')\n"
   ]
  },
  {
   "cell_type": "code",
   "execution_count": 36,
   "metadata": {},
   "outputs": [
    {
     "data": {
      "text/plain": [
       "('/data/nmamit-interns/grp3/new/all_models/tokenizer_distilroberta/tokenizer_config.json',\n",
       " '/data/nmamit-interns/grp3/new/all_models/tokenizer_distilroberta/special_tokens_map.json',\n",
       " '/data/nmamit-interns/grp3/new/all_models/tokenizer_distilroberta/vocab.json',\n",
       " '/data/nmamit-interns/grp3/new/all_models/tokenizer_distilroberta/merges.txt',\n",
       " '/data/nmamit-interns/grp3/new/all_models/tokenizer_distilroberta/added_tokens.json',\n",
       " '/data/nmamit-interns/grp3/new/all_models/tokenizer_distilroberta/tokenizer.json')"
      ]
     },
     "execution_count": 36,
     "metadata": {},
     "output_type": "execute_result"
    }
   ],
   "source": [
    "distilroberta_model.save_pretrained('/data/nmamit-interns/grp3/new/all_models/model_distilroberta')\n",
    "distilroberta_tokenizer.save_pretrained('/data/nmamit-interns/grp3/new/all_models/tokenizer_distilroberta')"
   ]
  },
  {
   "cell_type": "code",
   "execution_count": 37,
   "metadata": {},
   "outputs": [],
   "source": [
    "from transformers import AutoTokenizer, AutoModelForSequenceClassification\n",
    "distilroberta_model=AutoModelForSequenceClassification.from_pretrained('/data/nmamit-interns/grp3/new/all_models/model_distilroberta')\n",
    "distilroberta_tokenizer=AutoTokenizer.from_pretrained('/data/nmamit-interns/grp3/new/all_models/tokenizer_distilroberta')"
   ]
  },
  {
   "cell_type": "code",
   "execution_count": 38,
   "metadata": {},
   "outputs": [
    {
     "name": "stdout",
     "output_type": "stream",
     "text": [
      "Confusion Matrix:\n",
      " [[15262  3736]\n",
      " [ 3288 15712]]\n",
      "Classification Report:\n",
      "               precision    recall  f1-score   support\n",
      "\n",
      "           0       0.82      0.80      0.81     18998\n",
      "           1       0.81      0.83      0.82     19000\n",
      "\n",
      "    accuracy                           0.82     37998\n",
      "   macro avg       0.82      0.82      0.82     37998\n",
      "weighted avg       0.82      0.82      0.82     37998\n",
      "\n"
     ]
    }
   ],
   "source": [
    "#confusion matrix\n",
    "import torch\n",
    "from transformers import AlbertTokenizer, AlbertForSequenceClassification\n",
    "from sklearn.metrics import confusion_matrix, roc_curve, auc, classification_report\n",
    "import matplotlib.pyplot as plt\n",
    "import numpy as np\n",
    "\n",
    "# Load your test data\n",
    "test_texts = test_df['text'].tolist()\n",
    "test_labels = test_df['label'].tolist()\n",
    "# Move model to GPU if available\n",
    "device = torch.device('cuda') if torch.cuda.is_available() else torch.device('cpu')\n",
    "distilroberta_model.to(device)\n",
    "\n",
    "# Function to get predictions in batches\n",
    "def get_predictions_in_batches(model, tokenizer, texts, batch_size=32):\n",
    "    model.eval()\n",
    "    all_predictions = []\n",
    "    all_logits = []\n",
    "    for i in range(0, len(texts), batch_size):\n",
    "        batch_texts = texts[i:i + batch_size]\n",
    "        encodings = tokenizer(batch_texts, truncation=True, padding=True, max_length=512, return_tensors='pt')\n",
    "        encodings = {key: val.to(device) for key, val in encodings.items()}\n",
    "        \n",
    "        with torch.no_grad():\n",
    "            outputs = model(**encodings)\n",
    "            logits = outputs.logits\n",
    "            predictions = torch.argmax(logits, dim=-1).cpu().numpy()\n",
    "        \n",
    "        all_predictions.extend(predictions)\n",
    "        all_logits.extend(logits.cpu().numpy())\n",
    "    \n",
    "    return np.array(all_predictions), np.array(all_logits)\n",
    "\n",
    "# Get predictions\n",
    "predictions, logits = get_predictions_in_batches(distilroberta_model,distilroberta_tokenizer, test_texts)\n",
    "\n",
    "# Calculate confusion matrix\n",
    "cm = confusion_matrix(test_labels, predictions)\n",
    "print(\"Confusion Matrix:\\n\", cm)\n",
    "\n",
    "# Generate classification report\n",
    "print(\"Classification Report:\\n\", classification_report(test_labels, predictions))\n"
   ]
  },
  {
   "cell_type": "code",
   "execution_count": 39,
   "metadata": {},
   "outputs": [
    {
     "data": {
      "image/png": "[encoded data removed]",
      "text/plain": [
       "<Figure size 432x288 with 1 Axes>"
      ]
     },
     "metadata": {
      "needs_background": "light"
     },
     "output_type": "display_data"
    }
   ],
   "source": [
    "# Calculate ROC curve and AUC\n",
    "if len(np.unique(test_labels)) == 2:\n",
    "    fpr, tpr, _ = roc_curve(test_labels, logits[:, 1])\n",
    "    roc_auc = auc(fpr, tpr)\n",
    "\n",
    "    # Plot ROC curve\n",
    "    plt.figure()\n",
    "    plt.plot(fpr, tpr, color='darkorange', lw=2, label='ROC curve (area = %0.2f)' % roc_auc)\n",
    "    plt.plot([0, 1], [0, 1], color='navy', lw=2, linestyle='--')\n",
    "    plt.xlim([0.0, 1.0])\n",
    "    plt.ylim([0.0, 1.05])\n",
    "    plt.xlabel('False Positive Rate')\n",
    "    plt.ylabel('True Positive Rate')\n",
    "    plt.title('Receiver Operating Characteristic')\n",
    "    plt.legend(loc=\"lower right\")\n",
    "    plt.show()\n",
    "else:\n",
    "    print(\"ROC curve is only applicable for binary classification.\")"
   ]
  },
  {
   "cell_type": "code",
   "execution_count": 45,
   "metadata": {},
   "outputs": [
    {
     "name": "stdout",
     "output_type": "stream",
     "text": [
      "Input Text: ok let me tell you about my bad experience first went to last night for post wedding party which side note is great idea nit was around midnight and the bar wasn really populated there were three bartenders and only one was actually making rounds to see if anyone needed anything the two other bartenders were chatting on the far side of the bar that no one was sitting at kind of counter productive if you ask me ni stood there for about 5 minutes which for busy bar is fine but when am the only one with my card out then it just seems little ridiculous made eye contact with the one girl twice and gave her smile and she literally turned away finally had to walk to them to get their attention was standing right in front of them smiling and they didn ask if need anything finally said are you working and they gave each other weird look felt like was the crazy one asked for beer got the beer nin between that time the other bartender brought food over and set it down she took fry from the plate right in front of me and then served it to someone on the other side of the bar what the hell felt like was in some grimy bar in out in the sticks not an established ni was just really turned off from that experience nthe good is that provides different type of entertainment when you want to mix things up remember going here with my grandparents when was kid and it was the best treat ever we would eat at the restaurant and then spend hours playing games this place holds some really good memories for me nit shame that my experience last night has spoiled the high standards held for it\n",
      "Predicted label: 0\n",
      "Actual label: 0\n"
     ]
    }
   ],
   "source": [
    "import torch\n",
    "\n",
    "# Function to predict a single sample from the test dataset\n",
    "def predict_single_sample_from_test(test_df, model, tokenizer, sample_index):\n",
    "    model.eval()\n",
    "    device = torch.device('cuda' if torch.cuda.is_available() else 'cpu')\n",
    "    model = model.to(device)\n",
    "    \n",
    "    with torch.no_grad():\n",
    "        # Retrieve the specific sample from test_df\n",
    "        text = test_df['text'].iloc[sample_index]\n",
    "        label = test_df['label'].iloc[sample_index]\n",
    "        \n",
    "        # Tokenize the text\n",
    "        inputs = tokenizer(text, return_tensors='pt', truncation=True, padding=True)\n",
    "        input_ids = inputs['input_ids'].to(device)\n",
    "        attention_mask = inputs['attention_mask'].to(device)\n",
    "        \n",
    "        # Make predictions\n",
    "        outputs = model(input_ids, attention_mask=attention_mask)\n",
    "        logits = outputs.logits\n",
    "        predicted_label = torch.argmax(logits, dim=1).item()\n",
    "        \n",
    "        # Decode the input text\n",
    "        decoded_text = tokenizer.decode(input_ids.squeeze().cpu(), skip_special_tokens=True)\n",
    "        \n",
    "        return decoded_text, predicted_label, label\n",
    "\n",
    "# Example usage to predict a specific sample index from test_df\n",
    "sample_index = 7  \n",
    "decoded_text, predicted_label, actual_label = predict_single_sample_from_test(test_df, distilroberta_model, distilroberta_tokenizer, sample_index)\n",
    "\n",
    "print(f'Input Text: {decoded_text}')\n",
    "print(f'Predicted label: {predicted_label}')\n",
    "print(f'Actual label: {actual_label}')\n"
   ]
  },
  {
   "cell_type": "code",
   "execution_count": null,
   "metadata": {},
   "outputs": [],
   "source": []
  }
 ],
 "metadata": {
  "colab": {
   "authorship_tag": "ABX9TyPiTgA+G9V+QtQzHg20HTds",
   "mount_file_id": "1q9E-PZLPrwcpVQ3SayYLrfLZxrMltinB",
   "provenance": []
  },
  "kernelspec": {
   "display_name": "Python 3 (ipykernel)",
   "language": "python",
   "name": "python3"
  },
  "language_info": {
   "codemirror_mode": {
    "name": "ipython",
    "version": 3
   },
   "file_extension": ".py",
   "mimetype": "text/x-python",
   "name": "python",
   "nbconvert_exporter": "python",
   "pygments_lexer": "ipython3",
   "version": "3.10.12"
  }
 },
 "nbformat": 4,
 "nbformat_minor": 4
}
