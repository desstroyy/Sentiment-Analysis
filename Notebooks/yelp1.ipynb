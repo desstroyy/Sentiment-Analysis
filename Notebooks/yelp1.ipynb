{
 "cells": [
  {
   "cell_type": "markdown",
   "id": "6a7439e0-435f-402e-857f-9f30a7fa9d20",
   "metadata": {},
   "source": [
    "## **Importing the library**"
   ]
  },
  {
   "cell_type": "code",
   "execution_count": 4,
   "id": "99c1dccd-3e00-4216-a889-eab7884418b1",
   "metadata": {},
   "outputs": [],
   "source": [
    "import numpy as np\n",
    "import pandas as pd\n",
    "import re\n",
    "import torch\n",
    "from nltk.corpus import stopwords\n",
    "from sklearn.model_selection import train_test_split"
   ]
  },
  {
   "cell_type": "code",
   "execution_count": 5,
   "id": "80dea103-379c-4e63-a87d-0203c6f764a3",
   "metadata": {},
   "outputs": [],
   "source": [
    "#RETRIVING THE DATASETS\n",
    "df_test=pd.read_csv('/data/nmamit-interns/grp3/new/test.csv')\n",
    "df_train1=pd.read_csv('/data/nmamit-interns/grp3/new/train.csv')"
   ]
  },
  {
   "cell_type": "code",
   "execution_count": 6,
   "id": "307051a1-013e-4080-97e3-4f4be386aacf",
   "metadata": {},
   "outputs": [
    {
     "data": {
      "text/html": [
       "<div>\n",
       "<style scoped>\n",
       "    .dataframe tbody tr th:only-of-type {\n",
       "        vertical-align: middle;\n",
       "    }\n",
       "\n",
       "    .dataframe tbody tr th {\n",
       "        vertical-align: top;\n",
       "    }\n",
       "\n",
       "    .dataframe thead th {\n",
       "        text-align: right;\n",
       "    }\n",
       "</style>\n",
       "<table border=\"1\" class=\"dataframe\">\n",
       "  <thead>\n",
       "    <tr style=\"text-align: right;\">\n",
       "      <th></th>\n",
       "      <th>1</th>\n",
       "      <th>Unfortunately, the frustration of being Dr. Goldberg's patient is a repeat of the experience I've had with so many other doctors in NYC -- good doctor, terrible staff.  It seems that his staff simply never answers the phone.  It usually takes 2 hours of repeated calling to get an answer.  Who has time for that or wants to deal with it?  I have run into this problem with many other doctors and I just don't get it.  You have office workers, you have patients with medical needs, why isn't anyone answering the phone?  It's incomprehensible and not work the aggravation.  It's with regret that I feel that I have to give Dr. Goldberg 2 stars.</th>\n",
       "    </tr>\n",
       "  </thead>\n",
       "  <tbody>\n",
       "    <tr>\n",
       "      <th>0</th>\n",
       "      <td>2</td>\n",
       "      <td>Been going to Dr. Goldberg for over 10 years. ...</td>\n",
       "    </tr>\n",
       "    <tr>\n",
       "      <th>1</th>\n",
       "      <td>1</td>\n",
       "      <td>I don't know what Dr. Goldberg was like before...</td>\n",
       "    </tr>\n",
       "    <tr>\n",
       "      <th>2</th>\n",
       "      <td>1</td>\n",
       "      <td>I'm writing this review to give you a heads up...</td>\n",
       "    </tr>\n",
       "    <tr>\n",
       "      <th>3</th>\n",
       "      <td>2</td>\n",
       "      <td>All the food is great here. But the best thing...</td>\n",
       "    </tr>\n",
       "    <tr>\n",
       "      <th>4</th>\n",
       "      <td>1</td>\n",
       "      <td>Wing sauce is like water. Pretty much a lot of...</td>\n",
       "    </tr>\n",
       "  </tbody>\n",
       "</table>\n",
       "</div>"
      ],
      "text/plain": [
       "   1  \\\n",
       "0  2   \n",
       "1  1   \n",
       "2  1   \n",
       "3  2   \n",
       "4  1   \n",
       "\n",
       "  Unfortunately, the frustration of being Dr. Goldberg's patient is a repeat of the experience I've had with so many other doctors in NYC -- good doctor, terrible staff.  It seems that his staff simply never answers the phone.  It usually takes 2 hours of repeated calling to get an answer.  Who has time for that or wants to deal with it?  I have run into this problem with many other doctors and I just don't get it.  You have office workers, you have patients with medical needs, why isn't anyone answering the phone?  It's incomprehensible and not work the aggravation.  It's with regret that I feel that I have to give Dr. Goldberg 2 stars.  \n",
       "0  Been going to Dr. Goldberg for over 10 years. ...                                                                                                                                                                                                                                                                                                                                                                                                                                                                                                                                                                                                                   \n",
       "1  I don't know what Dr. Goldberg was like before...                                                                                                                                                                                                                                                                                                                                                                                                                                                                                                                                                                                                                   \n",
       "2  I'm writing this review to give you a heads up...                                                                                                                                                                                                                                                                                                                                                                                                                                                                                                                                                                                                                   \n",
       "3  All the food is great here. But the best thing...                                                                                                                                                                                                                                                                                                                                                                                                                                                                                                                                                                                                                   \n",
       "4  Wing sauce is like water. Pretty much a lot of...                                                                                                                                                                                                                                                                                                                                                                                                                                                                                                                                                                                                                   "
      ]
     },
     "execution_count": 6,
     "metadata": {},
     "output_type": "execute_result"
    }
   ],
   "source": [
    "df_train1.head()"
   ]
  },
  {
   "cell_type": "code",
   "execution_count": 7,
   "id": "bd41be86-9e71-4b0c-9611-39edf75971de",
   "metadata": {},
   "outputs": [
    {
     "data": {
      "text/html": [
       "<div>\n",
       "<style scoped>\n",
       "    .dataframe tbody tr th:only-of-type {\n",
       "        vertical-align: middle;\n",
       "    }\n",
       "\n",
       "    .dataframe tbody tr th {\n",
       "        vertical-align: top;\n",
       "    }\n",
       "\n",
       "    .dataframe thead th {\n",
       "        text-align: right;\n",
       "    }\n",
       "</style>\n",
       "<table border=\"1\" class=\"dataframe\">\n",
       "  <thead>\n",
       "    <tr style=\"text-align: right;\">\n",
       "      <th></th>\n",
       "      <th>2</th>\n",
       "      <th>Contrary to other reviews, I have zero complaints about the service or the prices. I have been getting tire service here for the past 5 years now, and compared to my experience with places like Pep Boys, these guys are experienced and know what they're doing. \\nAlso, this is one place that I do not feel like I am being taken advantage of, just because of my gender. Other auto mechanics have been notorious for capitalizing on my ignorance of cars, and have sucked my bank account dry. But here, my service and road coverage has all been well explained - and let up to me to decide. \\nAnd they just renovated the waiting room. It looks a lot better than it did in previous years.</th>\n",
       "    </tr>\n",
       "  </thead>\n",
       "  <tbody>\n",
       "    <tr>\n",
       "      <th>0</th>\n",
       "      <td>1</td>\n",
       "      <td>Last summer I had an appointment to get new ti...</td>\n",
       "    </tr>\n",
       "    <tr>\n",
       "      <th>1</th>\n",
       "      <td>2</td>\n",
       "      <td>Friendly staff, same starbucks fair you get an...</td>\n",
       "    </tr>\n",
       "    <tr>\n",
       "      <th>2</th>\n",
       "      <td>1</td>\n",
       "      <td>The food is good. Unfortunately the service is...</td>\n",
       "    </tr>\n",
       "    <tr>\n",
       "      <th>3</th>\n",
       "      <td>2</td>\n",
       "      <td>Even when we didn't have a car Filene's Baseme...</td>\n",
       "    </tr>\n",
       "    <tr>\n",
       "      <th>4</th>\n",
       "      <td>2</td>\n",
       "      <td>Picture Billy Joel's \\\"Piano Man\\\" DOUBLED mix...</td>\n",
       "    </tr>\n",
       "  </tbody>\n",
       "</table>\n",
       "</div>"
      ],
      "text/plain": [
       "   2  \\\n",
       "0  1   \n",
       "1  2   \n",
       "2  1   \n",
       "3  2   \n",
       "4  2   \n",
       "\n",
       "  Contrary to other reviews, I have zero complaints about the service or the prices. I have been getting tire service here for the past 5 years now, and compared to my experience with places like Pep Boys, these guys are experienced and know what they're doing. \\nAlso, this is one place that I do not feel like I am being taken advantage of, just because of my gender. Other auto mechanics have been notorious for capitalizing on my ignorance of cars, and have sucked my bank account dry. But here, my service and road coverage has all been well explained - and let up to me to decide. \\nAnd they just renovated the waiting room. It looks a lot better than it did in previous years.  \n",
       "0  Last summer I had an appointment to get new ti...                                                                                                                                                                                                                                                                                                                                                                                                                                                                                                                                                                                                                                                         \n",
       "1  Friendly staff, same starbucks fair you get an...                                                                                                                                                                                                                                                                                                                                                                                                                                                                                                                                                                                                                                                         \n",
       "2  The food is good. Unfortunately the service is...                                                                                                                                                                                                                                                                                                                                                                                                                                                                                                                                                                                                                                                         \n",
       "3  Even when we didn't have a car Filene's Baseme...                                                                                                                                                                                                                                                                                                                                                                                                                                                                                                                                                                                                                                                         \n",
       "4  Picture Billy Joel's \\\"Piano Man\\\" DOUBLED mix...                                                                                                                                                                                                                                                                                                                                                                                                                                                                                                                                                                                                                                                         "
      ]
     },
     "execution_count": 7,
     "metadata": {},
     "output_type": "execute_result"
    }
   ],
   "source": [
    "df_test.head()"
   ]
  },
  {
   "cell_type": "code",
   "execution_count": 8,
   "id": "c5425742-32f3-4ded-a8ba-2ae6afaaa922",
   "metadata": {},
   "outputs": [],
   "source": [
    "#adding the columns names\n",
    "columns=['target','text']\n",
    "df_test=pd.read_csv('/data/nmamit-interns/grp3/new/test.csv',names=columns)\n",
    "df_train1=pd.read_csv('/data/nmamit-interns/grp3/new/train.csv',names=columns)"
   ]
  },
  {
   "cell_type": "code",
   "execution_count": 9,
   "id": "67e833f0-325c-4f4d-abc6-a035019fa2b8",
   "metadata": {},
   "outputs": [
    {
     "name": "stdout",
     "output_type": "stream",
     "text": [
      "Using device: cuda\n"
     ]
    }
   ],
   "source": [
    "## USING THE DEVICE\n",
    "device = 'cuda' if torch.cuda.is_available() else 'cpu'\n",
    "print(f\"Using device: {device}\")"
   ]
  },
  {
   "cell_type": "code",
   "execution_count": 10,
   "id": "a41155f5-bf31-4049-b85b-c79dd8ff2d11",
   "metadata": {},
   "outputs": [
    {
     "data": {
      "text/html": [
       "<div>\n",
       "<style scoped>\n",
       "    .dataframe tbody tr th:only-of-type {\n",
       "        vertical-align: middle;\n",
       "    }\n",
       "\n",
       "    .dataframe tbody tr th {\n",
       "        vertical-align: top;\n",
       "    }\n",
       "\n",
       "    .dataframe thead th {\n",
       "        text-align: right;\n",
       "    }\n",
       "</style>\n",
       "<table border=\"1\" class=\"dataframe\">\n",
       "  <thead>\n",
       "    <tr style=\"text-align: right;\">\n",
       "      <th></th>\n",
       "      <th>target</th>\n",
       "      <th>text</th>\n",
       "    </tr>\n",
       "  </thead>\n",
       "  <tbody>\n",
       "    <tr>\n",
       "      <th>0</th>\n",
       "      <td>1</td>\n",
       "      <td>Unfortunately, the frustration of being Dr. Go...</td>\n",
       "    </tr>\n",
       "    <tr>\n",
       "      <th>1</th>\n",
       "      <td>2</td>\n",
       "      <td>Been going to Dr. Goldberg for over 10 years. ...</td>\n",
       "    </tr>\n",
       "    <tr>\n",
       "      <th>2</th>\n",
       "      <td>1</td>\n",
       "      <td>I don't know what Dr. Goldberg was like before...</td>\n",
       "    </tr>\n",
       "    <tr>\n",
       "      <th>3</th>\n",
       "      <td>1</td>\n",
       "      <td>I'm writing this review to give you a heads up...</td>\n",
       "    </tr>\n",
       "    <tr>\n",
       "      <th>4</th>\n",
       "      <td>2</td>\n",
       "      <td>All the food is great here. But the best thing...</td>\n",
       "    </tr>\n",
       "  </tbody>\n",
       "</table>\n",
       "</div>"
      ],
      "text/plain": [
       "   target                                               text\n",
       "0       1  Unfortunately, the frustration of being Dr. Go...\n",
       "1       2  Been going to Dr. Goldberg for over 10 years. ...\n",
       "2       1  I don't know what Dr. Goldberg was like before...\n",
       "3       1  I'm writing this review to give you a heads up...\n",
       "4       2  All the food is great here. But the best thing..."
      ]
     },
     "execution_count": 10,
     "metadata": {},
     "output_type": "execute_result"
    }
   ],
   "source": [
    "df_train1.head()"
   ]
  },
  {
   "cell_type": "code",
   "execution_count": 11,
   "id": "497b3a79-96e7-4535-a0da-f734178c10e0",
   "metadata": {},
   "outputs": [
    {
     "data": {
      "text/html": [
       "<div>\n",
       "<style scoped>\n",
       "    .dataframe tbody tr th:only-of-type {\n",
       "        vertical-align: middle;\n",
       "    }\n",
       "\n",
       "    .dataframe tbody tr th {\n",
       "        vertical-align: top;\n",
       "    }\n",
       "\n",
       "    .dataframe thead th {\n",
       "        text-align: right;\n",
       "    }\n",
       "</style>\n",
       "<table border=\"1\" class=\"dataframe\">\n",
       "  <thead>\n",
       "    <tr style=\"text-align: right;\">\n",
       "      <th></th>\n",
       "      <th>target</th>\n",
       "      <th>text</th>\n",
       "    </tr>\n",
       "  </thead>\n",
       "  <tbody>\n",
       "    <tr>\n",
       "      <th>0</th>\n",
       "      <td>2</td>\n",
       "      <td>Contrary to other reviews, I have zero complai...</td>\n",
       "    </tr>\n",
       "    <tr>\n",
       "      <th>1</th>\n",
       "      <td>1</td>\n",
       "      <td>Last summer I had an appointment to get new ti...</td>\n",
       "    </tr>\n",
       "    <tr>\n",
       "      <th>2</th>\n",
       "      <td>2</td>\n",
       "      <td>Friendly staff, same starbucks fair you get an...</td>\n",
       "    </tr>\n",
       "    <tr>\n",
       "      <th>3</th>\n",
       "      <td>1</td>\n",
       "      <td>The food is good. Unfortunately the service is...</td>\n",
       "    </tr>\n",
       "    <tr>\n",
       "      <th>4</th>\n",
       "      <td>2</td>\n",
       "      <td>Even when we didn't have a car Filene's Baseme...</td>\n",
       "    </tr>\n",
       "  </tbody>\n",
       "</table>\n",
       "</div>"
      ],
      "text/plain": [
       "   target                                               text\n",
       "0       2  Contrary to other reviews, I have zero complai...\n",
       "1       1  Last summer I had an appointment to get new ti...\n",
       "2       2  Friendly staff, same starbucks fair you get an...\n",
       "3       1  The food is good. Unfortunately the service is...\n",
       "4       2  Even when we didn't have a car Filene's Baseme..."
      ]
     },
     "execution_count": 11,
     "metadata": {},
     "output_type": "execute_result"
    }
   ],
   "source": [
    "df_test.head()"
   ]
  },
  {
   "cell_type": "markdown",
   "id": "e8589c12-4259-473e-a173-ef04105fc8b9",
   "metadata": {},
   "source": [
    "### **REDUCING THE DATA**"
   ]
  },
  {
   "cell_type": "code",
   "execution_count": 14,
   "id": "8f6d4053-0d1c-4b94-9835-800c3004435e",
   "metadata": {},
   "outputs": [
    {
     "name": "stdout",
     "output_type": "stream",
     "text": [
      "target\n",
      "1    56000\n",
      "2    56000\n",
      "Name: count, dtype: int64\n"
     ]
    }
   ],
   "source": [
    "# stratified sampling \n",
    "from sklearn.model_selection import train_test_split\n",
    "\n",
    "df_train, _ = train_test_split(df_train1, test_size=0.8, stratify=df_train1['target'], random_state=42)\n",
    "\n",
    "print(df_train['target'].value_counts())\n"
   ]
  },
  {
   "cell_type": "code",
   "execution_count": null,
   "id": "6645a488-4918-4ec8-b3b2-361248b6ae2b",
   "metadata": {},
   "outputs": [],
   "source": []
  },
  {
   "cell_type": "code",
   "execution_count": 15,
   "id": "f370ba69-3693-4712-b5ed-09071ba88125",
   "metadata": {},
   "outputs": [
    {
     "data": {
      "text/plain": [
       "(112000, 2)"
      ]
     },
     "execution_count": 15,
     "metadata": {},
     "output_type": "execute_result"
    }
   ],
   "source": [
    "df_train.shape"
   ]
  },
  {
   "cell_type": "code",
   "execution_count": 16,
   "id": "98b238ef-608e-4567-9f29-20a2496265b1",
   "metadata": {},
   "outputs": [
    {
     "data": {
      "text/plain": [
       "(38000, 2)"
      ]
     },
     "execution_count": 16,
     "metadata": {},
     "output_type": "execute_result"
    }
   ],
   "source": [
    "df_test.shape"
   ]
  },
  {
   "cell_type": "code",
   "execution_count": 17,
   "id": "3604f2e7-77e3-49dd-9243-e997f57d9f76",
   "metadata": {},
   "outputs": [
    {
     "name": "stdout",
     "output_type": "stream",
     "text": [
      "target\n",
      "2    19000\n",
      "1    19000\n",
      "Name: count, dtype: int64\n"
     ]
    }
   ],
   "source": [
    "print(df_test['target'].value_counts())"
   ]
  },
  {
   "cell_type": "code",
   "execution_count": 18,
   "id": "6055d586-0abd-4bd2-986b-86425cbbd7c0",
   "metadata": {},
   "outputs": [
    {
     "data": {
      "text/plain": [
       "target    0\n",
       "text      0\n",
       "dtype: int64"
      ]
     },
     "execution_count": 18,
     "metadata": {},
     "output_type": "execute_result"
    }
   ],
   "source": [
    "df_train.isnull().sum()"
   ]
  },
  {
   "cell_type": "code",
   "execution_count": 19,
   "id": "f5033d1e-7d23-4bac-a62f-0a9e36a9d919",
   "metadata": {},
   "outputs": [
    {
     "name": "stdout",
     "output_type": "stream",
     "text": [
      "<class 'pandas.core.frame.DataFrame'>\n",
      "RangeIndex: 38000 entries, 0 to 37999\n",
      "Data columns (total 2 columns):\n",
      " #   Column  Non-Null Count  Dtype \n",
      "---  ------  --------------  ----- \n",
      " 0   target  38000 non-null  int64 \n",
      " 1   text    38000 non-null  object\n",
      "dtypes: int64(1), object(1)\n",
      "memory usage: 593.9+ KB\n"
     ]
    }
   ],
   "source": [
    "df_test.info()"
   ]
  },
  {
   "cell_type": "code",
   "execution_count": null,
   "id": "82f2e9e6-940d-44b6-9d05-1b2e575d7ef0",
   "metadata": {},
   "outputs": [],
   "source": []
  },
  {
   "cell_type": "markdown",
   "id": "d7f48c9c-4964-4f54-8833-124d4144d731",
   "metadata": {},
   "source": [
    "### *To check what does 1 and 2 represent*"
   ]
  },
  {
   "cell_type": "code",
   "execution_count": 21,
   "id": "b0392328-9ca9-4442-95b3-2ff6f05d0942",
   "metadata": {},
   "outputs": [
    {
     "name": "stdout",
     "output_type": "stream",
     "text": [
      "The food was pretty good but the server was so bad it ruined our experience.  Everything you could imagine a server could do wrong happened...Better service would have bumped this review to a 3.5 or 4 star spot.\n"
     ]
    }
   ],
   "source": [
    "texts = df_train[df_train['target'] == 1]['text']\n",
    "text_2 = texts.iloc[0] if not texts.empty else None\n",
    "print(text_2)"
   ]
  },
  {
   "cell_type": "code",
   "execution_count": 22,
   "id": "4663e778-b69a-4f9a-b267-d0b53c5e98ce",
   "metadata": {},
   "outputs": [
    {
     "name": "stdout",
     "output_type": "stream",
     "text": [
      "Contrary to other reviews, I have zero complaints about the service or the prices. I have been getting tire service here for the past 5 years now, and compared to my experience with places like Pep Boys, these guys are experienced and know what they're doing. \\nAlso, this is one place that I do not feel like I am being taken advantage of, just because of my gender. Other auto mechanics have been notorious for capitalizing on my ignorance of cars, and have sucked my bank account dry. But here, my service and road coverage has all been well explained - and let up to me to decide. \\nAnd they just renovated the waiting room. It looks a lot better than it did in previous years.\n"
     ]
    }
   ],
   "source": [
    "texts = df_test[df_test['target'] == 2]['text']\n",
    "text_1 = texts.iloc[0] if not texts.empty else None\n",
    "print(text_1)"
   ]
  },
  {
   "cell_type": "code",
   "execution_count": null,
   "id": "7a990528-3c1c-45d1-b921-e979ef6cff30",
   "metadata": {},
   "outputs": [],
   "source": []
  },
  {
   "cell_type": "markdown",
   "id": "2e64bb10-e647-462e-a863-33d46a6a7a6c",
   "metadata": {},
   "source": [
    "#### *2-->postivie 1--> negative*"
   ]
  },
  {
   "cell_type": "code",
   "execution_count": 23,
   "id": "2f5fe21d-3554-4caa-8674-0f9a8e443411",
   "metadata": {},
   "outputs": [],
   "source": [
    "#converting the lable 1-->0 and 2-->1\n",
    "df_train.replace(1,0,inplace=True)\n",
    "df_train.replace(2,1,inplace=True)\n"
   ]
  },
  {
   "cell_type": "code",
   "execution_count": 24,
   "id": "b168806c-9010-47b5-b74a-88e49f73f3fe",
   "metadata": {},
   "outputs": [],
   "source": [
    "df_test.replace(1,0,inplace=True)\n",
    "df_test.replace(2,1,inplace=True)"
   ]
  },
  {
   "cell_type": "code",
   "execution_count": 25,
   "id": "a182b3fa-f88e-4c8c-a21b-a06c5685e21f",
   "metadata": {},
   "outputs": [
    {
     "data": {
      "text/plain": [
       "target\n",
       "0    56000\n",
       "1    56000\n",
       "Name: count, dtype: int64"
      ]
     },
     "execution_count": 25,
     "metadata": {},
     "output_type": "execute_result"
    }
   ],
   "source": [
    "df_train['target'].value_counts()"
   ]
  },
  {
   "cell_type": "code",
   "execution_count": 26,
   "id": "2c99e1bb-82d7-42a9-834c-0848aedb155a",
   "metadata": {},
   "outputs": [
    {
     "data": {
      "text/plain": [
       "target\n",
       "1    19000\n",
       "0    19000\n",
       "Name: count, dtype: int64"
      ]
     },
     "execution_count": 26,
     "metadata": {},
     "output_type": "execute_result"
    }
   ],
   "source": [
    "df_test['target'].value_counts()"
   ]
  },
  {
   "cell_type": "markdown",
   "id": "9f43e7c4-fa36-41e3-b4c8-375f5eef4718",
   "metadata": {},
   "source": [
    "### **CLEANING THE DATA**"
   ]
  },
  {
   "cell_type": "code",
   "execution_count": 27,
   "id": "1b0ba1bd-f624-4226-ab97-06c8f48cc8de",
   "metadata": {},
   "outputs": [],
   "source": [
    "import re\n",
    "\n",
    "def clean_text(text):\n",
    "  # Remove special characters and punctuation\n",
    "  text = re.sub(r\"[^\\w\\s]\", \" \", text)\n",
    "\n",
    "  # Remove single characters\n",
    "  text = re.sub(r\"\\b[a-zA-Z]\\b\", \" \", text)\n",
    "\n",
    "  # Remove HTML tags\n",
    "  text = re.sub(r\"<[^>]*>\", \" \", text)\n",
    "\n",
    "  # Lowercase the text\n",
    "  text = text.lower()\n",
    "\n",
    "  # Use regex to remove numbers\n",
    "  text = re.sub(r'\\d+', '', text)\n",
    "\n",
    "  # Remove extra whitespace\n",
    "  text = re.sub(r\"\\s+\", \" \", text)\n",
    "\n",
    "  # Trim leading and trailing spaces\n",
    "  text = text.strip()\n",
    "\n",
    "  return text"
   ]
  },
  {
   "cell_type": "code",
   "execution_count": 28,
   "id": "f097682d-9087-4a39-9bb0-857a9abd863b",
   "metadata": {},
   "outputs": [
    {
     "data": {
      "text/html": [
       "<div>\n",
       "<style scoped>\n",
       "    .dataframe tbody tr th:only-of-type {\n",
       "        vertical-align: middle;\n",
       "    }\n",
       "\n",
       "    .dataframe tbody tr th {\n",
       "        vertical-align: top;\n",
       "    }\n",
       "\n",
       "    .dataframe thead th {\n",
       "        text-align: right;\n",
       "    }\n",
       "</style>\n",
       "<table border=\"1\" class=\"dataframe\">\n",
       "  <thead>\n",
       "    <tr style=\"text-align: right;\">\n",
       "      <th></th>\n",
       "      <th>target</th>\n",
       "      <th>text</th>\n",
       "    </tr>\n",
       "  </thead>\n",
       "  <tbody>\n",
       "    <tr>\n",
       "      <th>407494</th>\n",
       "      <td>0</td>\n",
       "      <td>the food was pretty good but the server was so...</td>\n",
       "    </tr>\n",
       "    <tr>\n",
       "      <th>44351</th>\n",
       "      <td>0</td>\n",
       "      <td>horrible manager she told us we only needed to...</td>\n",
       "    </tr>\n",
       "    <tr>\n",
       "      <th>418933</th>\n",
       "      <td>1</td>\n",
       "      <td>love the black bean burger so much so came bac...</td>\n",
       "    </tr>\n",
       "    <tr>\n",
       "      <th>394896</th>\n",
       "      <td>0</td>\n",
       "      <td>off the beaten path and you can either park yo...</td>\n",
       "    </tr>\n",
       "    <tr>\n",
       "      <th>128149</th>\n",
       "      <td>1</td>\n",
       "      <td>awesome nyc pizza my second favorite nyc style...</td>\n",
       "    </tr>\n",
       "  </tbody>\n",
       "</table>\n",
       "</div>"
      ],
      "text/plain": [
       "        target                                               text\n",
       "407494       0  the food was pretty good but the server was so...\n",
       "44351        0  horrible manager she told us we only needed to...\n",
       "418933       1  love the black bean burger so much so came bac...\n",
       "394896       0  off the beaten path and you can either park yo...\n",
       "128149       1  awesome nyc pizza my second favorite nyc style..."
      ]
     },
     "execution_count": 28,
     "metadata": {},
     "output_type": "execute_result"
    }
   ],
   "source": [
    "# Apply the cleaning function to the 'text' column\n",
    "df_train['text'] = df_train['text'].apply(clean_text)\n",
    "\n",
    "# Verify the changes\n",
    "df_train.head()\n"
   ]
  },
  {
   "cell_type": "code",
   "execution_count": 29,
   "id": "3e22ef10-a847-4e5c-89f1-47c861524e27",
   "metadata": {},
   "outputs": [
    {
     "data": {
      "text/html": [
       "<div>\n",
       "<style scoped>\n",
       "    .dataframe tbody tr th:only-of-type {\n",
       "        vertical-align: middle;\n",
       "    }\n",
       "\n",
       "    .dataframe tbody tr th {\n",
       "        vertical-align: top;\n",
       "    }\n",
       "\n",
       "    .dataframe thead th {\n",
       "        text-align: right;\n",
       "    }\n",
       "</style>\n",
       "<table border=\"1\" class=\"dataframe\">\n",
       "  <thead>\n",
       "    <tr style=\"text-align: right;\">\n",
       "      <th></th>\n",
       "      <th>target</th>\n",
       "      <th>text</th>\n",
       "    </tr>\n",
       "  </thead>\n",
       "  <tbody>\n",
       "    <tr>\n",
       "      <th>0</th>\n",
       "      <td>1</td>\n",
       "      <td>contrary to other reviews have zero complaints...</td>\n",
       "    </tr>\n",
       "    <tr>\n",
       "      <th>1</th>\n",
       "      <td>0</td>\n",
       "      <td>last summer had an appointment to get new tire...</td>\n",
       "    </tr>\n",
       "    <tr>\n",
       "      <th>2</th>\n",
       "      <td>1</td>\n",
       "      <td>friendly staff same starbucks fair you get any...</td>\n",
       "    </tr>\n",
       "    <tr>\n",
       "      <th>3</th>\n",
       "      <td>0</td>\n",
       "      <td>the food is good unfortunately the service is ...</td>\n",
       "    </tr>\n",
       "    <tr>\n",
       "      <th>4</th>\n",
       "      <td>1</td>\n",
       "      <td>even when we didn have car filene basement was...</td>\n",
       "    </tr>\n",
       "  </tbody>\n",
       "</table>\n",
       "</div>"
      ],
      "text/plain": [
       "   target                                               text\n",
       "0       1  contrary to other reviews have zero complaints...\n",
       "1       0  last summer had an appointment to get new tire...\n",
       "2       1  friendly staff same starbucks fair you get any...\n",
       "3       0  the food is good unfortunately the service is ...\n",
       "4       1  even when we didn have car filene basement was..."
      ]
     },
     "execution_count": 29,
     "metadata": {},
     "output_type": "execute_result"
    }
   ],
   "source": [
    "\n",
    "# Apply the cleaning function to the 'text' column\n",
    "df_test['text'] = df_test['text'].apply(clean_text)\n",
    "\n",
    "# Verify the changes\n",
    "df_test.head()"
   ]
  },
  {
   "cell_type": "markdown",
   "id": "ccdefbc9-d7f9-496b-8a51-9fa41b1c6443",
   "metadata": {},
   "source": [
    "### **Saving the model**"
   ]
  },
  {
   "cell_type": "code",
   "execution_count": 30,
   "id": "e44c3423-a161-4dd3-ac02-3c5399be58e7",
   "metadata": {},
   "outputs": [],
   "source": [
    "import pickle\n",
    "\n",
    "with open('/data/nmamit-interns/grp3/new/df_train.pkl', 'wb') as f:\n",
    "    pickle.dump(df_train, f)\n",
    "\n",
    "with open('/data/nmamit-interns/grp3/new/df_test.pkl', 'wb') as f:\n",
    "    pickle.dump(df_test, f)"
   ]
  },
  {
   "cell_type": "markdown",
   "id": "6a23d5cc-4a9b-4d7e-b0d0-6f76bc460343",
   "metadata": {},
   "source": [
    "### **Loading the model**"
   ]
  },
  {
   "cell_type": "code",
   "execution_count": 1,
   "id": "19efdbb4-a8d6-47e2-8cc6-e5504af9e57e",
   "metadata": {},
   "outputs": [],
   "source": [
    "import pickle\n",
    "\n",
    "with open('/data/nmamit-interns/grp3/new/df_train.pkl','rb') as f:\n",
    "    df_train=pickle.load(f)\n",
    "\n",
    "with open('/data/nmamit-interns/grp3/new/df_test.pkl','rb') as f:\n",
    "    df_test=pickle.load(f)"
   ]
  },
  {
   "cell_type": "code",
   "execution_count": 2,
   "id": "d086ef26-b961-4b4a-9377-fa56393326db",
   "metadata": {},
   "outputs": [],
   "source": [
    "#to check the length of the text\n",
    "text_lengths = df_train['text'].apply(len)\n",
    "max_length = text_lengths.max()\n",
    "min_length = text_lengths.min()"
   ]
  },
  {
   "cell_type": "code",
   "execution_count": 3,
   "id": "87d91292-5f15-4151-9656-21fdb5e25451",
   "metadata": {},
   "outputs": [
    {
     "name": "stdout",
     "output_type": "stream",
     "text": [
      "Maximum length of text: 4810\n",
      "Minimum length of text: 0\n"
     ]
    }
   ],
   "source": [
    "print(f\"Maximum length of text: {max_length}\")\n",
    "print(f\"Minimum length of text: {min_length}\")"
   ]
  },
  {
   "cell_type": "code",
   "execution_count": 4,
   "id": "84c48ca4-2e51-457b-bc2c-65d30abc62cd",
   "metadata": {},
   "outputs": [],
   "source": [
    "#to check the length of the text\n",
    "text_length = df_test['text'].apply(len)\n",
    "max_lengths = text_length.max()\n",
    "min_lengths = text_length.min()\n"
   ]
  },
  {
   "cell_type": "code",
   "execution_count": 5,
   "id": "d65d447e-a7e7-40f6-b5b9-2724c0eb7d20",
   "metadata": {},
   "outputs": [
    {
     "name": "stdout",
     "output_type": "stream",
     "text": [
      "Maximum length of text: 4810\n",
      "Minimum length of text: 2\n"
     ]
    }
   ],
   "source": [
    "print(f\"Maximum length of text: {max_lengths}\")\n",
    "print(f\"Minimum length of text: {min_lengths}\")"
   ]
  },
  {
   "cell_type": "code",
   "execution_count": 6,
   "id": "72da78c1-f176-4803-9f05-ad82899af15b",
   "metadata": {},
   "outputs": [],
   "source": [
    "#DROPING THE TEXT COLUMN WITH LENGTH ZERO\n",
    "text_lengths=df_train['text'].apply(len)\n",
    "rows_to_remove=text_lengths[text_lengths==0].index\n",
    "df_train.drop(rows_to_remove,inplace=True)"
   ]
  },
  {
   "cell_type": "code",
   "execution_count": 7,
   "id": "a9b31783-52ae-4867-9c6b-67522da09c72",
   "metadata": {},
   "outputs": [
    {
     "data": {
      "text/plain": [
       "(111993, 2)"
      ]
     },
     "execution_count": 7,
     "metadata": {},
     "output_type": "execute_result"
    }
   ],
   "source": [
    "df_train.shape"
   ]
  },
  {
   "cell_type": "code",
   "execution_count": null,
   "id": "8be9681a-ba55-4e52-97cc-e73fb8faff26",
   "metadata": {},
   "outputs": [],
   "source": []
  },
  {
   "cell_type": "markdown",
   "id": "b418a725-5d23-4c24-84af-9e48d899cf8c",
   "metadata": {},
   "source": [
    "## **Training the data**"
   ]
  },
  {
   "cell_type": "code",
   "execution_count": 8,
   "id": "2759eacb-ea5f-4653-bb5c-71496ebf0825",
   "metadata": {},
   "outputs": [
    {
     "name": "stderr",
     "output_type": "stream",
     "text": [
      "/usr/lib/python3/dist-packages/scipy/__init__.py:146: UserWarning: A NumPy version >=1.17.3 and <1.25.0 is required for this version of SciPy (detected version 1.26.4\n",
      "  warnings.warn(f\"A NumPy version >={np_minversion} and <{np_maxversion}\"\n"
     ]
    }
   ],
   "source": [
    "from sklearn.model_selection import train_test_split\n",
    "from datasets import Dataset\n",
    "from sklearn.metrics import accuracy_score, precision_recall_fscore_support"
   ]
  },
  {
   "cell_type": "code",
   "execution_count": 10,
   "id": "71005a6b-2ecb-44bc-b212-8534cabcb0e9",
   "metadata": {},
   "outputs": [],
   "source": [
    "#SPLITTING THE DATA\n",
    "X_train=df_train['text']\n",
    "y_train=df_train['target']\n",
    "X_test=df_test['text']\n",
    "y_test=df_test['target']\n",
    "\n",
    "X_train, X_val, y_train, y_val = train_test_split(X_train, y_train, test_size=0.2, random_state=42)\n"
   ]
  },
  {
   "cell_type": "markdown",
   "id": "d91beb46-7f29-484d-95fa-eab8cd07f5b3",
   "metadata": {},
   "source": [
    "#### **FEATURE EXTRACTION**"
   ]
  },
  {
   "cell_type": "code",
   "execution_count": 10,
   "id": "0167d13d-29dd-452b-a067-3b856b806b40",
   "metadata": {},
   "outputs": [],
   "source": [
    "# Function to prune text with TFIDF\n",
    "from sklearn.feature_extraction.text import TfidfVectorizer\n",
    "def prune_text_with_tfidf(texts, max_features=1000):\n",
    "    vectorizer = TfidfVectorizer(max_features=max_features)\n",
    "    x = vectorizer.fit_transform(texts)\n",
    "    feature_names = vectorizer.get_feature_names_out()\n",
    "    pruned_texts = []\n",
    "    for i in range(x.shape[0]):\n",
    "        indices = x[i].indices\n",
    "        words = [feature_names[idx] for idx in indices]\n",
    "        pruned_texts.append(' '.join(words))\n",
    "    return pruned_texts"
   ]
  },
  {
   "cell_type": "code",
   "execution_count": 11,
   "id": "c0e255f2-e233-46a5-8351-71afdb56c043",
   "metadata": {},
   "outputs": [],
   "source": [
    "# Apply TFIDF pruning\n",
    "X_train_pruned = prune_text_with_tfidf(X_train.tolist())\n",
    "X_val_pruned = prune_text_with_tfidf(X_val.tolist())\n",
    "X_test_pruned = prune_text_with_tfidf(df_test['text'].tolist())"
   ]
  },
  {
   "cell_type": "code",
   "execution_count": 12,
   "id": "43fbf819-d63a-45a3-996c-73f3e8795384",
   "metadata": {},
   "outputs": [],
   "source": [
    "#CONVERTING TO THE HUGGING FACE DATASET\n",
    "from datasets import Dataset\n",
    "import pandas as pd\n",
    "\n",
    "#Creating the dataframe with pruned texts\n",
    "df_train_pruned=pd.DataFrame({'text':X_train_pruned,'label':y_train})\n",
    "df_val_pruned=pd.DataFrame({'text':X_val_pruned,'label':y_val})\n",
    "df_test_pruned=pd.DataFrame({'text':X_test_pruned,'label':y_test})\n",
    "\n",
    "# Convert Pandas DataFrame to Hugging Face Dataset\n",
    "train_dataset = Dataset.from_pandas(df_train_pruned)\n",
    "val_dataset = Dataset.from_pandas(df_val_pruned)\n",
    "test_dataset = Dataset.from_pandas(df_test_pruned)\n",
    "\n",
    "print(train_dataset)\n",
    "print(val_dataset)\n",
    "print(test_dataset)\n"
   ]
  },
  {
   "cell_type": "code",
   "execution_count": 11,
   "id": "2e00f26e-6839-4d2e-b84a-e06413bbebfb",
   "metadata": {},
   "outputs": [
    {
     "name": "stdout",
     "output_type": "stream",
     "text": [
      "Dataset({\n",
      "    features: ['text', 'label', '__index_level_0__'],\n",
      "    num_rows: 89594\n",
      "})\n",
      "Dataset({\n",
      "    features: ['text', 'label', '__index_level_0__'],\n",
      "    num_rows: 22399\n",
      "})\n",
      "Dataset({\n",
      "    features: ['text', 'label'],\n",
      "    num_rows: 38000\n",
      "})\n"
     ]
    }
   ],
   "source": [
    "#CONVERTING TO THE HUGGING FACE DATASET\n",
    "from datasets import Dataset\n",
    "import pandas as pd\n",
    "\n",
    "#Creating the dataframe with pruned texts\n",
    "df_train_pruned=pd.DataFrame({'text':X_train,'label':y_train})\n",
    "df_val_pruned=pd.DataFrame({'text':X_val,'label':y_val})\n",
    "df_test_pruned=pd.DataFrame({'text':X_test,'label':y_test})\n",
    "\n",
    "# Convert Pandas DataFrame to Hugging Face Dataset\n",
    "train_dataset = Dataset.from_pandas(df_train_pruned)\n",
    "val_dataset = Dataset.from_pandas(df_val_pruned)\n",
    "test_dataset = Dataset.from_pandas(df_test_pruned)\n",
    "\n",
    "print(train_dataset)\n",
    "print(val_dataset)\n",
    "print(test_dataset)\n"
   ]
  },
  {
   "cell_type": "markdown",
   "id": "67f37ea0-c6a8-4d6f-9861-a35d75558ac9",
   "metadata": {},
   "source": [
    "#### *COMPUTE METRICS*"
   ]
  },
  {
   "cell_type": "code",
   "execution_count": 12,
   "id": "d04c63b6-a3ac-4efa-91ee-bf7dfb359c02",
   "metadata": {},
   "outputs": [],
   "source": [
    "def compute_metrics(pred):\n",
    "    labels = pred.label_ids\n",
    "    preds = pred.predictions.argmax(-1)\n",
    "    precision, recall, f1, _ = precision_recall_fscore_support(labels, preds, average='binary')\n",
    "    acc = accuracy_score(labels, preds)\n",
    "    return {\n",
    "        'accuracy': acc,\n",
    "        'f1': f1,\n",
    "        'precision': precision,\n",
    "        'recall': recall\n",
    "    }"
   ]
  },
  {
   "cell_type": "markdown",
   "id": "49413e1e-5feb-4368-905c-f509cbf84184",
   "metadata": {},
   "source": [
    "## **BERT-base**"
   ]
  },
  {
   "cell_type": "code",
   "execution_count": 14,
   "id": "e34fbb4b-d932-48f8-8aea-94cff0cf2d12",
   "metadata": {},
   "outputs": [
    {
     "data": {
      "application/vnd.jupyter.widget-view+json": {
       "model_id": "d6a5218817634424a192681636eeba2c",
       "version_major": 2,
       "version_minor": 0
      },
      "text/plain": [
       "Map:   0%|          | 0/89594 [00:00<?, ? examples/s]"
      ]
     },
     "metadata": {},
     "output_type": "display_data"
    },
    {
     "data": {
      "application/vnd.jupyter.widget-view+json": {
       "model_id": "88d11d9532384a39a2a77d6a94bcd806",
       "version_major": 2,
       "version_minor": 0
      },
      "text/plain": [
       "Map:   0%|          | 0/22399 [00:00<?, ? examples/s]"
      ]
     },
     "metadata": {},
     "output_type": "display_data"
    },
    {
     "data": {
      "application/vnd.jupyter.widget-view+json": {
       "model_id": "c00cc5a888fb47e09e2e7dfe14600a8e",
       "version_major": 2,
       "version_minor": 0
      },
      "text/plain": [
       "Map:   0%|          | 0/38000 [00:00<?, ? examples/s]"
      ]
     },
     "metadata": {},
     "output_type": "display_data"
    }
   ],
   "source": [
    "from transformers import BertTokenizer, BertForSequenceClassification, Trainer, TrainingArguments\n",
    "\n",
    "#adds the special tokens\n",
    "def tokenize(batch, tokenizer):\n",
    "    return tokenizer(batch['text'], padding=True, truncation=True, max_length=512, return_tensors='pt')\n",
    "\n",
    "# Tokenizer for BERT\n",
    "bert_tokenizer = BertTokenizer.from_pretrained('bert-base-uncased')\n",
    "\n",
    "\n",
    "# Tokenize using BERT tokenizer\n",
    "tokenized_train_dataset_bert = train_dataset.map(lambda x: tokenize(x, bert_tokenizer), batched=True)\n",
    "tokenizd_val_dataset_bert = val_dataset.map(lambda x: tokenize(x, bert_tokenizer), batched=True)\n",
    "tokenized_test_dataset_bert = test_dataset.map(lambda x: tokenize(x, bert_tokenizer), batched=True)\n"
   ]
  },
  {
   "cell_type": "code",
   "execution_count": null,
   "id": "e6e3bcc9-37ae-47ae-a4bf-71e20f81fb36",
   "metadata": {},
   "outputs": [],
   "source": [
    "# Ensure correct format\n",
    "tokenized_train_dataset_bert.set_format('torch', columns=['input_ids', 'attention_mask', 'labels'])\n",
    "tokenized_val_dataset_bert.set_format('torch', columns=['input_ids', 'attention_mask', 'labels'])\n",
    "tokenized_test_dataset_bert.set_format('torch', columns=['input_ids', 'attention_mask', 'labels'])"
   ]
  },
  {
   "cell_type": "code",
   "execution_count": 16,
   "id": "3c31c2a2-f51c-4000-823f-9001f4a9fee3",
   "metadata": {},
   "outputs": [
    {
     "name": "stderr",
     "output_type": "stream",
     "text": [
      "Some weights of BertForSequenceClassification were not initialized from the model checkpoint at bert-base-uncased and are newly initialized: ['classifier.bias', 'classifier.weight']\n",
      "You should probably TRAIN this model on a down-stream task to be able to use it for predictions and inference.\n",
      "/home/shrishask/.local/lib/python3.10/site-packages/transformers/training_args.py:1494: FutureWarning: `evaluation_strategy` is deprecated and will be removed in version 4.46 of 🤗 Transformers. Use `eval_strategy` instead\n",
      "  warnings.warn(\n"
     ]
    },
    {
     "data": {
      "text/html": [
       "\n",
       "    <div>\n",
       "      \n",
       "      <progress value='33600' max='33600' style='width:300px; height:20px; vertical-align: middle;'></progress>\n",
       "      [33600/33600 3:41:03, Epoch 3/3]\n",
       "    </div>\n",
       "    <table border=\"1\" class=\"dataframe\">\n",
       "  <thead>\n",
       " <tr style=\"text-align: left;\">\n",
       "      <th>Epoch</th>\n",
       "      <th>Training Loss</th>\n",
       "      <th>Validation Loss</th>\n",
       "      <th>Accuracy</th>\n",
       "      <th>F1</th>\n",
       "      <th>Precision</th>\n",
       "      <th>Recall</th>\n",
       "    </tr>\n",
       "  </thead>\n",
       "  <tbody>\n",
       "    <tr>\n",
       "      <td>1</td>\n",
       "      <td>0.315900</td>\n",
       "      <td>0.306921</td>\n",
       "      <td>0.896692</td>\n",
       "      <td>0.897556</td>\n",
       "      <td>0.900746</td>\n",
       "      <td>0.894389</td>\n",
       "    </tr>\n",
       "    <tr>\n",
       "      <td>2</td>\n",
       "      <td>0.162800</td>\n",
       "      <td>0.339796</td>\n",
       "      <td>0.897808</td>\n",
       "      <td>0.900973</td>\n",
       "      <td>0.883881</td>\n",
       "      <td>0.918740</td>\n",
       "    </tr>\n",
       "    <tr>\n",
       "      <td>3</td>\n",
       "      <td>0.182700</td>\n",
       "      <td>0.350154</td>\n",
       "      <td>0.902272</td>\n",
       "      <td>0.902793</td>\n",
       "      <td>0.908806</td>\n",
       "      <td>0.896859</td>\n",
       "    </tr>\n",
       "  </tbody>\n",
       "</table><p>"
      ],
      "text/plain": [
       "<IPython.core.display.HTML object>"
      ]
     },
     "metadata": {},
     "output_type": "display_data"
    },
    {
     "data": {
      "text/html": [
       "\n",
       "    <div>\n",
       "      \n",
       "      <progress value='2375' max='2375' style='width:300px; height:20px; vertical-align: middle;'></progress>\n",
       "      [2375/2375 07:43]\n",
       "    </div>\n",
       "    "
      ],
      "text/plain": [
       "<IPython.core.display.HTML object>"
      ]
     },
     "metadata": {},
     "output_type": "display_data"
    },
    {
     "name": "stdout",
     "output_type": "stream",
     "text": [
      "BERT Results: {'eval_loss': 0.34424889087677, 'eval_accuracy': 0.9043684210526316, 'eval_f1': 0.9037911680609976, 'eval_precision': 0.9092797783933518, 'eval_recall': 0.8983684210526316, 'eval_runtime': 463.7308, 'eval_samples_per_second': 81.944, 'eval_steps_per_second': 5.122, 'epoch': 3.0}\n"
     ]
    }
   ],
   "source": [
    "# Model for BERT\n",
    "from transformers import BertForSequenceClassification, Trainer, TrainingArguments, DataCollatorWithPadding\n",
    "import torch\n",
    "\n",
    "# Data collator for BERT\n",
    "data_collator_bert = DataCollatorWithPadding(tokenizer=bert_tokenizer)\n",
    "\n",
    "bert_model = BertForSequenceClassification.from_pretrained('bert-base-uncased')\n",
    "# Training arguments for BERT\n",
    "bert_training_args = TrainingArguments(\n",
    "    output_dir='/data/nmamit-interns/grp3/new/result/bert',\n",
    "    num_train_epochs=3, #larger epoch gets overfitted\n",
    "    per_device_train_batch_size=8,\n",
    "    per_device_eval_batch_size=16,\n",
    "    warmup_steps=500,\n",
    "    weight_decay=0.01,\n",
    "    #logging_dir='/data/nmamit-interns/grp3/new/logs/bert',\n",
    "    logging_steps=10,\n",
    "    evaluation_strategy=\"epoch\",\n",
    "    learning_rate=2e-5,  \n",
    "    lr_scheduler_type='linear'\n",
    ")\n",
    "\n",
    "\n",
    "# Trainer for BERT\n",
    "bert_trainer = Trainer(\n",
    "    model=bert_model,\n",
    "    args=bert_training_args,\n",
    "    train_dataset=tokenized_train_dataset_bert,\n",
    "    eval_dataset=tokenizd_val_dataset_bert,\n",
    "    data_collator=data_collator_bert,\n",
    "    compute_metrics=compute_metrics\n",
    ")\n",
    "\n",
    "# Train  BERT\n",
    "bert_trainer.train()\n",
    "#evluation\n",
    "bert_results = bert_trainer.evaluate(tokenized_test_dataset_bert)\n",
    "print(\"BERT Results:\", bert_results)"
   ]
  },
  {
   "cell_type": "code",
   "execution_count": 19,
   "id": "cc3373a9-2a88-4054-8b6a-b48e1ff5bc8a",
   "metadata": {},
   "outputs": [
    {
     "data": {
      "text/plain": [
       "('/data/nmamit-interns/grp3/new/saved_models/bert_tokenizer/tokenizer_config.json',\n",
       " '/data/nmamit-interns/grp3/new/saved_models/bert_tokenizer/special_tokens_map.json',\n",
       " '/data/nmamit-interns/grp3/new/saved_models/bert_tokenizer/vocab.txt',\n",
       " '/data/nmamit-interns/grp3/new/saved_models/bert_tokenizer/added_tokens.json')"
      ]
     },
     "execution_count": 19,
     "metadata": {},
     "output_type": "execute_result"
    }
   ],
   "source": [
    "bert_model.save_pretrained('/data/nmamit-interns/grp3/new/saved_models/bert')\n",
    "bert_tokenizer.save_pretrained('/data/nmamit-interns/grp3/new/saved_models/bert_tokenizer')"
   ]
  },
  {
   "cell_type": "code",
   "execution_count": 20,
   "id": "86c9def4-0639-41d5-b887-5bb2d7708047",
   "metadata": {},
   "outputs": [],
   "source": [
    "from transformers import BertForSequenceClassification, BertTokenizer\n",
    "\n",
    "# Load the BERT model\n",
    "loaded_bert_model = BertForSequenceClassification.from_pretrained('/data/nmamit-interns/grp3/new/saved_models/bert')\n",
    "\n",
    "# Load the BERT tokenizer\n",
    "loaded_bert_tokenizer = BertTokenizer.from_pretrained('/data/nmamit-interns/grp3/new/saved_models/bert_tokenizer')\n"
   ]
  },
  {
   "cell_type": "code",
   "execution_count": 26,
   "id": "9706f48e-da79-48e0-adde-c3e9f4517aa1",
   "metadata": {},
   "outputs": [
    {
     "data": {
      "text/html": [
       "<div>\n",
       "<style scoped>\n",
       "    .dataframe tbody tr th:only-of-type {\n",
       "        vertical-align: middle;\n",
       "    }\n",
       "\n",
       "    .dataframe tbody tr th {\n",
       "        vertical-align: top;\n",
       "    }\n",
       "\n",
       "    .dataframe thead th {\n",
       "        text-align: right;\n",
       "    }\n",
       "</style>\n",
       "<table border=\"1\" class=\"dataframe\">\n",
       "  <thead>\n",
       "    <tr style=\"text-align: right;\">\n",
       "      <th></th>\n",
       "      <th>target</th>\n",
       "      <th>text</th>\n",
       "    </tr>\n",
       "  </thead>\n",
       "  <tbody>\n",
       "    <tr>\n",
       "      <th>0</th>\n",
       "      <td>1</td>\n",
       "      <td>contrary to other reviews have zero complaints...</td>\n",
       "    </tr>\n",
       "    <tr>\n",
       "      <th>1</th>\n",
       "      <td>0</td>\n",
       "      <td>last summer had an appointment to get new tire...</td>\n",
       "    </tr>\n",
       "    <tr>\n",
       "      <th>2</th>\n",
       "      <td>1</td>\n",
       "      <td>friendly staff same starbucks fair you get any...</td>\n",
       "    </tr>\n",
       "    <tr>\n",
       "      <th>3</th>\n",
       "      <td>0</td>\n",
       "      <td>the food is good unfortunately the service is ...</td>\n",
       "    </tr>\n",
       "    <tr>\n",
       "      <th>4</th>\n",
       "      <td>1</td>\n",
       "      <td>even when we didn have car filene basement was...</td>\n",
       "    </tr>\n",
       "  </tbody>\n",
       "</table>\n",
       "</div>"
      ],
      "text/plain": [
       "   target                                               text\n",
       "0       1  contrary to other reviews have zero complaints...\n",
       "1       0  last summer had an appointment to get new tire...\n",
       "2       1  friendly staff same starbucks fair you get any...\n",
       "3       0  the food is good unfortunately the service is ...\n",
       "4       1  even when we didn have car filene basement was..."
      ]
     },
     "execution_count": 26,
     "metadata": {},
     "output_type": "execute_result"
    }
   ],
   "source": [
    "df_test.head()"
   ]
  },
  {
   "cell_type": "markdown",
   "id": "4f2095a1-1674-4b1c-ad60-af963e8fdcd7",
   "metadata": {},
   "source": [
    "#### *CONFUSION MATRIX / CLASSIFICATION REPORT*"
   ]
  },
  {
   "cell_type": "code",
   "execution_count": 22,
   "id": "7e54c3a4-a128-46c3-985b-e97832ffb549",
   "metadata": {},
   "outputs": [
    {
     "name": "stdout",
     "output_type": "stream",
     "text": [
      "Confusion Matrix:\n",
      " [[17594  1406]\n",
      " [ 1593 17407]]\n",
      "Classification Report:\n",
      "               precision    recall  f1-score   support\n",
      "\n",
      "           0       0.92      0.93      0.92     19000\n",
      "           1       0.93      0.92      0.92     19000\n",
      "\n",
      "    accuracy                           0.92     38000\n",
      "   macro avg       0.92      0.92      0.92     38000\n",
      "weighted avg       0.92      0.92      0.92     38000\n",
      "\n"
     ]
    }
   ],
   "source": [
    "import torch\n",
    "from transformers import BertForSequenceClassification, BertTokenizer\n",
    "from sklearn.metrics import confusion_matrix, roc_curve, auc, classification_report\n",
    "import matplotlib.pyplot as plt\n",
    "import numpy as np\n",
    "\n",
    "# Load the BERT model\n",
    "loaded_bert_model = BertForSequenceClassification.from_pretrained('/data/nmamit-interns/grp3/new/saved_models/bert')\n",
    "\n",
    "# Load the BERT tokenizer\n",
    "loaded_bert_tokenizer = BertTokenizer.from_pretrained('/data/nmamit-interns/grp3/new/saved_models/bert_tokenizer')\n",
    "\n",
    "# Load your test data\n",
    "test_texts = df_test['text'].tolist()  \n",
    "test_labels = df_test['target'].tolist()  \n",
    "\n",
    "# Move model to GPU if available\n",
    "device = torch.device('cuda') if torch.cuda.is_available() else torch.device('cpu')\n",
    "loaded_bert_model.to(device)\n",
    "\n",
    "# Function to get predictions in batches\n",
    "def get_predictions_in_batches(model, tokenizer, texts, batch_size=32):\n",
    "    model.eval()\n",
    "    all_predictions = []\n",
    "    all_logits = []\n",
    "    for i in range(0, len(texts), batch_size):\n",
    "        batch_texts = texts[i:i + batch_size]\n",
    "        encodings = tokenizer(batch_texts, truncation=True, padding=True, max_length=512, return_tensors='pt')\n",
    "        encodings = {key: val.to(device) for key, val in encodings.items()}\n",
    "        \n",
    "        with torch.no_grad():\n",
    "            outputs = model(**encodings)\n",
    "            logits = outputs.logits\n",
    "            predictions = torch.argmax(logits, dim=-1).cpu().numpy()\n",
    "        \n",
    "        all_predictions.extend(predictions)\n",
    "        all_logits.extend(logits.cpu().numpy())\n",
    "    \n",
    "    return np.array(all_predictions), np.array(all_logits)\n",
    "\n",
    "# Get predictions\n",
    "predictions, logits = get_predictions_in_batches(loaded_bert_model, loaded_bert_tokenizer, test_texts)\n",
    "\n",
    "# Calculate confusion matrix\n",
    "cm = confusion_matrix(test_labels, predictions)\n",
    "print(\"Confusion Matrix:\\n\", cm)\n",
    "\n",
    "# Generate classification report\n",
    "print(\"Classification Report:\\n\", classification_report(test_labels, predictions))\n"
   ]
  },
  {
   "cell_type": "markdown",
   "id": "84c75f5f-14a8-43d2-b594-8b094878667c",
   "metadata": {},
   "source": [
    "### *ROC and AUC*"
   ]
  },
  {
   "cell_type": "code",
   "execution_count": 23,
   "id": "51307dfd-83d4-4368-b202-3c83bc1741b7",
   "metadata": {},
   "outputs": [
    {
     "data": {
      "image/png": "[encoded data removed]",
      "text/plain": [
       "<Figure size 432x288 with 1 Axes>"
      ]
     },
     "metadata": {
      "needs_background": "light"
     },
     "output_type": "display_data"
    }
   ],
   "source": [
    "# Calculate ROC curve and AUC\n",
    "if len(np.unique(test_labels)) == 2:\n",
    "    fpr, tpr, _ = roc_curve(test_labels, logits[:, 1])\n",
    "    roc_auc = auc(fpr, tpr)\n",
    "\n",
    "    # Plot ROC curve\n",
    "    plt.figure()\n",
    "    plt.plot(fpr, tpr, color='darkorange', lw=2, label='ROC curve (area = %0.2f)' % roc_auc)\n",
    "    plt.plot([0, 1], [0, 1], color='navy', lw=2, linestyle='--')\n",
    "    plt.xlim([0.0, 1.0])\n",
    "    plt.ylim([0.0, 1.05])\n",
    "    plt.xlabel('False Positive Rate')\n",
    "    plt.ylabel('True Positive Rate')\n",
    "    plt.title('Receiver Operating Characteristic')\n",
    "    plt.legend(loc=\"lower right\")\n",
    "    plt.show()\n",
    "else:\n",
    "    print(\"ROC curve is only applicable for binary classification.\")"
   ]
  },
  {
   "cell_type": "markdown",
   "id": "a871d438-b15b-4904-9be6-c53d0a87f1f2",
   "metadata": {},
   "source": [
    "### *PREDICTION*"
   ]
  },
  {
   "cell_type": "code",
   "execution_count": 45,
   "id": "6723ef29-d1c5-4ac3-a190-c6eedf2c1bee",
   "metadata": {},
   "outputs": [],
   "source": [
    "import torch\n",
    "\n",
    "# Function to predict a single sample\n",
    "def predict_single_sample(text):\n",
    "    device = torch.device(\"cuda\" if torch.cuda.is_available() else \"cpu\")\n",
    "    \n",
    "    # Load tokenizer and model (using the provided variable names)\n",
    "    tokenizer = loaded_bert_tokenizer\n",
    "    model = loaded_bert_model.to(device)\n",
    "    \n",
    "    model.eval()  # Set the model to evaluation mode\n",
    "    inputs = tokenizer(text, return_tensors=\"pt\", truncation=True, padding=True, max_length=512)\n",
    "    inputs = {key: value.to(device) for key, value in inputs.items()}  # Move inputs to the same device as the model\n",
    "    \n",
    "    with torch.no_grad():\n",
    "        outputs = model(**inputs)\n",
    "    logits = outputs.logits\n",
    "    prediction = torch.argmax(logits, dim=-1).item()\n",
    "    return \"1\" if prediction == 1 else \"0\""
   ]
  },
  {
   "cell_type": "code",
   "execution_count": 47,
   "id": "2db99c29-7958-49bf-899b-532152ef53d3",
   "metadata": {},
   "outputs": [
    {
     "name": "stdout",
     "output_type": "stream",
     "text": [
      "Input text: ve heard all the hype and wanted to try it tonight was my second attempt here first time new girl on the grill apologized to me at minutes at walked not even an acknowledgement from the wait staff tonight the waiter seemed mad that didn know what wanted to order after explained that never been there he brought me menu and then proceeded to ignore me for minutes walked again no more tries here maybe doing something wrong haha\n",
      "Actual prediction:0\n",
      "Example prediction : 0\n"
     ]
    }
   ],
   "source": [
    " # Example usage for a single test sample\n",
    "example_text = df_test['text'].iloc[98]\n",
    "example_target = df_test['target'].iloc[98]\n",
    "prediction = predict_single_sample(example_text)\n",
    "print(f\"Input text: {example_text}\")\n",
    "print(f\"Actual prediction:{example_target}\")\n",
    "print(f\"Example prediction : {prediction}\")"
   ]
  },
  {
   "cell_type": "markdown",
   "id": "4db2a29e-e44c-4c17-b7d7-8ff740a8ea75",
   "metadata": {},
   "source": [
    "## **DistilRoBERTa**"
   ]
  },
  {
   "cell_type": "code",
   "execution_count": 16,
   "id": "dd7a46c3-598b-419e-b71e-aa87bda07a9a",
   "metadata": {
    "scrolled": true
   },
   "outputs": [
    {
     "data": {
      "application/vnd.jupyter.widget-view+json": {
       "model_id": "99c1817ac76f4aaf9e94012680eac95d",
       "version_major": 2,
       "version_minor": 0
      },
      "text/plain": [
       "Map:   0%|          | 0/89594 [00:00<?, ? examples/s]"
      ]
     },
     "metadata": {},
     "output_type": "display_data"
    },
    {
     "data": {
      "application/vnd.jupyter.widget-view+json": {
       "model_id": "c9e1458c4d96443e8f74a1f8ba810acb",
       "version_major": 2,
       "version_minor": 0
      },
      "text/plain": [
       "Map:   0%|          | 0/22399 [00:00<?, ? examples/s]"
      ]
     },
     "metadata": {},
     "output_type": "display_data"
    },
    {
     "data": {
      "application/vnd.jupyter.widget-view+json": {
       "model_id": "7803ad3435354ad4aab423de34919fa4",
       "version_major": 2,
       "version_minor": 0
      },
      "text/plain": [
       "Map:   0%|          | 0/38000 [00:00<?, ? examples/s]"
      ]
     },
     "metadata": {},
     "output_type": "display_data"
    },
    {
     "name": "stderr",
     "output_type": "stream",
     "text": [
      "/home/shrishask/.local/lib/python3.10/site-packages/transformers/training_args.py:1494: FutureWarning: `evaluation_strategy` is deprecated and will be removed in version 4.46 of 🤗 Transformers. Use `eval_strategy` instead\n",
      "  warnings.warn(\n"
     ]
    },
    {
     "data": {
      "text/html": [
       "\n",
       "    <div>\n",
       "      \n",
       "      <progress value='67197' max='67197' style='width:300px; height:20px; vertical-align: middle;'></progress>\n",
       "      [67197/67197 2:49:09, Epoch 3/3]\n",
       "    </div>\n",
       "    <table border=\"1\" class=\"dataframe\">\n",
       "  <thead>\n",
       " <tr style=\"text-align: left;\">\n",
       "      <th>Epoch</th>\n",
       "      <th>Training Loss</th>\n",
       "      <th>Validation Loss</th>\n",
       "      <th>Accuracy</th>\n",
       "      <th>F1</th>\n",
       "      <th>Precision</th>\n",
       "      <th>Recall</th>\n",
       "    </tr>\n",
       "  </thead>\n",
       "  <tbody>\n",
       "    <tr>\n",
       "      <td>1</td>\n",
       "      <td>0.256600</td>\n",
       "      <td>0.417537</td>\n",
       "      <td>0.894370</td>\n",
       "      <td>0.893901</td>\n",
       "      <td>0.908900</td>\n",
       "      <td>0.879389</td>\n",
       "    </tr>\n",
       "    <tr>\n",
       "      <td>2</td>\n",
       "      <td>0.230900</td>\n",
       "      <td>0.459877</td>\n",
       "      <td>0.893522</td>\n",
       "      <td>0.898090</td>\n",
       "      <td>0.870743</td>\n",
       "      <td>0.927210</td>\n",
       "    </tr>\n",
       "    <tr>\n",
       "      <td>3</td>\n",
       "      <td>0.171600</td>\n",
       "      <td>0.399492</td>\n",
       "      <td>0.899415</td>\n",
       "      <td>0.900517</td>\n",
       "      <td>0.901352</td>\n",
       "      <td>0.899682</td>\n",
       "    </tr>\n",
       "  </tbody>\n",
       "</table><p>"
      ],
      "text/plain": [
       "<IPython.core.display.HTML object>"
      ]
     },
     "metadata": {},
     "output_type": "display_data"
    },
    {
     "data": {
      "text/html": [
       "\n",
       "    <div>\n",
       "      \n",
       "      <progress value='2375' max='2375' style='width:300px; height:20px; vertical-align: middle;'></progress>\n",
       "      [2375/2375 05:44]\n",
       "    </div>\n",
       "    "
      ],
      "text/plain": [
       "<IPython.core.display.HTML object>"
      ]
     },
     "metadata": {},
     "output_type": "display_data"
    },
    {
     "name": "stdout",
     "output_type": "stream",
     "text": [
      "DistilRoBERTa Results: {'eval_loss': 0.3809416592121124, 'eval_accuracy': 0.9037894736842105, 'eval_f1': 0.9037641484601211, 'eval_precision': 0.9040021063717746, 'eval_recall': 0.9035263157894737, 'eval_runtime': 344.2087, 'eval_samples_per_second': 110.398, 'eval_steps_per_second': 6.9, 'epoch': 3.0}\n"
     ]
    }
   ],
   "source": [
    "import torch\n",
    "from transformers import AutoTokenizer, AutoModelForSequenceClassification, Trainer, TrainingArguments, DataCollatorWithPadding\n",
    "\n",
    "# Set device\n",
    "device = torch.device(\"cuda\" if torch.cuda.is_available() else \"cpu\")\n",
    "\n",
    "# Tokenizer for DistilRoBERTa\n",
    "distilroberta_tokenizer = AutoTokenizer.from_pretrained('ProtectAI/distilroberta-base-rejection-v1')\n",
    "\n",
    "# Function to tokenize batch with special tokens\n",
    "def tokenize(batch):\n",
    "    return distilroberta_tokenizer(batch['text'], padding=True, truncation=True, max_length=512)\n",
    "\n",
    "# Tokenize using DistilRoBERTa tokenizer\n",
    "tokenized_train_dataset_distilroberta = train_dataset.map(lambda x: tokenize(x), batched=True)\n",
    "tokenized_val_dataset_distilroberta = val_dataset.map(lambda x: tokenize(x), batched=True)\n",
    "tokenized_test_dataset_distilroberta = test_dataset.map(lambda x: tokenize(x), batched=True)\n",
    "\n",
    "# Model for DistilRoBERTa\n",
    "distilroberta_model = AutoModelForSequenceClassification.from_pretrained('ProtectAI/distilroberta-base-rejection-v1')\n",
    "distilroberta_model.to(device)  # Move model to device\n",
    "\n",
    "# Data collator for DistilRoBERTa\n",
    "data_collator_distilroberta = DataCollatorWithPadding(tokenizer=distilroberta_tokenizer)\n",
    "\n",
    "# Training arguments for DistilRoBERTa\n",
    "distilroberta_training_args = TrainingArguments(\n",
    "    output_dir='/data/nmamit-interns/grp3/new/result/distilroberta',\n",
    "    num_train_epochs=3,\n",
    "    per_device_train_batch_size=4,\n",
    "    per_device_eval_batch_size=16,\n",
    "    warmup_steps=500,\n",
    "    weight_decay=0.01,\n",
    "    logging_steps=10,\n",
    "    evaluation_strategy=\"epoch\",\n",
    "    learning_rate=2e-5, \n",
    "    lr_scheduler_type='linear'\n",
    ")\n",
    "\n",
    "# Trainer for DistilRoBERTa\n",
    "distilroberta_trainer = Trainer(\n",
    "    model=distilroberta_model,\n",
    "    args=distilroberta_training_args,\n",
    "    train_dataset=tokenized_train_dataset_distilroberta,\n",
    "    eval_dataset=tokenized_val_dataset_distilroberta,\n",
    "    data_collator=data_collator_distilroberta,\n",
    "    compute_metrics=compute_metrics\n",
    ")\n",
    "\n",
    "# Train and evaluate DistilRoBERTa\n",
    "distilroberta_trainer.train()\n",
    "distilroberta_results = distilroberta_trainer.evaluate(tokenized_test_dataset_distilroberta)\n",
    "print(\"DistilRoBERTa Results:\", distilroberta_results)\n"
   ]
  },
  {
   "cell_type": "code",
   "execution_count": 17,
   "id": "35ab7a95-542f-46eb-83bc-d96ca4146cf6",
   "metadata": {},
   "outputs": [
    {
     "data": {
      "text/plain": [
       "('/data/nmamit-interns/grp3/new/distilroberta_tokenizer/tokenizer_config.json',\n",
       " '/data/nmamit-interns/grp3/new/distilroberta_tokenizer/special_tokens_map.json',\n",
       " '/data/nmamit-interns/grp3/new/distilroberta_tokenizer/vocab.json',\n",
       " '/data/nmamit-interns/grp3/new/distilroberta_tokenizer/merges.txt',\n",
       " '/data/nmamit-interns/grp3/new/distilroberta_tokenizer/added_tokens.json',\n",
       " '/data/nmamit-interns/grp3/new/distilroberta_tokenizer/tokenizer.json')"
      ]
     },
     "execution_count": 17,
     "metadata": {},
     "output_type": "execute_result"
    }
   ],
   "source": [
    "#save the model\n",
    "distilroberta_model.save_pretrained('/data/nmamit-interns/grp3/new/distilroberta_model')\n",
    "distilroberta_tokenizer.save_pretrained('/data/nmamit-interns/grp3/new/distilroberta_tokenizer')"
   ]
  },
  {
   "cell_type": "code",
   "execution_count": 25,
   "id": "c6be6ddd-b813-4f74-ad33-3c9b72625afb",
   "metadata": {},
   "outputs": [],
   "source": [
    "from transformers import AutoTokenizer, AutoModelForSequenceClassification\n",
    "\n",
    "# Load the saved model and tokenizer\n",
    "loaded_distilroberta_model = AutoModelForSequenceClassification.from_pretrained('/data/nmamit-interns/grp3/new/distilroberta_model')\n",
    "loaded_distilroberta_tokenizer = AutoTokenizer.from_pretrained('/data/nmamit-interns/grp3/new/distilroberta_tokenizer')\n"
   ]
  },
  {
   "cell_type": "markdown",
   "id": "4a310117-bf57-489d-900b-14e2991642d2",
   "metadata": {},
   "source": [
    "### *FINE TUNING THE MODEL*"
   ]
  },
  {
   "cell_type": "code",
   "execution_count": 28,
   "id": "001523da-a331-4e59-95f2-ce6545018556",
   "metadata": {},
   "outputs": [
    {
     "data": {
      "application/vnd.jupyter.widget-view+json": {
       "model_id": "b679bdec2ae34c7ea437059f113b7c75",
       "version_major": 2,
       "version_minor": 0
      },
      "text/plain": [
       "Map:   0%|          | 0/89594 [00:00<?, ? examples/s]"
      ]
     },
     "metadata": {},
     "output_type": "display_data"
    },
    {
     "data": {
      "application/vnd.jupyter.widget-view+json": {
       "model_id": "2e3927b7cb6d410e9f1b00f90d9a610a",
       "version_major": 2,
       "version_minor": 0
      },
      "text/plain": [
       "Map:   0%|          | 0/22399 [00:00<?, ? examples/s]"
      ]
     },
     "metadata": {},
     "output_type": "display_data"
    },
    {
     "data": {
      "application/vnd.jupyter.widget-view+json": {
       "model_id": "1c28b8800e954d16911cc735a014f8f1",
       "version_major": 2,
       "version_minor": 0
      },
      "text/plain": [
       "Map:   0%|          | 0/38000 [00:00<?, ? examples/s]"
      ]
     },
     "metadata": {},
     "output_type": "display_data"
    },
    {
     "name": "stderr",
     "output_type": "stream",
     "text": [
      "/home/shrishask/.local/lib/python3.10/site-packages/transformers/training_args.py:1494: FutureWarning: `evaluation_strategy` is deprecated and will be removed in version 4.46 of 🤗 Transformers. Use `eval_strategy` instead\n",
      "  warnings.warn(\n"
     ]
    },
    {
     "data": {
      "text/html": [
       "\n",
       "    <div>\n",
       "      \n",
       "      <progress value='22400' max='22400' style='width:300px; height:20px; vertical-align: middle;'></progress>\n",
       "      [22400/22400 1:58:42, Epoch 2/2]\n",
       "    </div>\n",
       "    <table border=\"1\" class=\"dataframe\">\n",
       "  <thead>\n",
       " <tr style=\"text-align: left;\">\n",
       "      <th>Epoch</th>\n",
       "      <th>Training Loss</th>\n",
       "      <th>Validation Loss</th>\n",
       "      <th>Accuracy</th>\n",
       "      <th>F1</th>\n",
       "      <th>Precision</th>\n",
       "      <th>Recall</th>\n",
       "    </tr>\n",
       "  </thead>\n",
       "  <tbody>\n",
       "    <tr>\n",
       "      <td>1</td>\n",
       "      <td>0.146200</td>\n",
       "      <td>0.317241</td>\n",
       "      <td>0.893076</td>\n",
       "      <td>0.897802</td>\n",
       "      <td>0.869350</td>\n",
       "      <td>0.928181</td>\n",
       "    </tr>\n",
       "    <tr>\n",
       "      <td>2</td>\n",
       "      <td>0.212000</td>\n",
       "      <td>0.323531</td>\n",
       "      <td>0.898522</td>\n",
       "      <td>0.900747</td>\n",
       "      <td>0.891675</td>\n",
       "      <td>0.910005</td>\n",
       "    </tr>\n",
       "  </tbody>\n",
       "</table><p>"
      ],
      "text/plain": [
       "<IPython.core.display.HTML object>"
      ]
     },
     "metadata": {},
     "output_type": "display_data"
    },
    {
     "data": {
      "text/html": [
       "\n",
       "    <div>\n",
       "      \n",
       "      <progress value='2375' max='2375' style='width:300px; height:20px; vertical-align: middle;'></progress>\n",
       "      [2375/2375 05:43]\n",
       "    </div>\n",
       "    "
      ],
      "text/plain": [
       "<IPython.core.display.HTML object>"
      ]
     },
     "metadata": {},
     "output_type": "display_data"
    },
    {
     "name": "stdout",
     "output_type": "stream",
     "text": [
      "Evaluation Results: {'eval_loss': 0.3106069266796112, 'eval_accuracy': 0.9017631578947368, 'eval_f1': 0.9027839266647569, 'eval_precision': 0.893499664931182, 'eval_recall': 0.9122631578947369, 'eval_runtime': 343.8653, 'eval_samples_per_second': 110.508, 'eval_steps_per_second': 6.907, 'epoch': 2.0}\n"
     ]
    }
   ],
   "source": [
    "import torch\n",
    "from transformers import AutoTokenizer, AutoModelForSequenceClassification, Trainer, TrainingArguments, DataCollatorWithPadding\n",
    "\n",
    "# Set device\n",
    "device = torch.device(\"cuda\" if torch.cuda.is_available() else \"cpu\")\n",
    "\n",
    "# Function to tokenize batch with special tokens using loaded tokenizer\n",
    "def tokenize(batch):\n",
    "    return loaded_distilroberta_tokenizer(batch['text'], padding=True, truncation=True, max_length=512)\n",
    "\n",
    "# Tokenize datasets\n",
    "tokenized_train_dataset = train_dataset.map(tokenize, batched=True)\n",
    "tokenized_val_dataset = val_dataset.map(tokenize, batched=True)\n",
    "tokenized_test_dataset = test_dataset.map(tokenize, batched=True)\n",
    "\n",
    "# Data collator\n",
    "data_collator = DataCollatorWithPadding(tokenizer=loaded_distilroberta_tokenizer)\n",
    "\n",
    "# Training arguments\n",
    "training_args = TrainingArguments(\n",
    "    output_dir='/data/nmamit-interns/grp3/new/result/distilroberta_finetuned',\n",
    "    num_train_epochs=2,\n",
    "    per_device_train_batch_size=8,\n",
    "    per_device_eval_batch_size=16,\n",
    "    warmup_steps=500,\n",
    "    weight_decay=0.01,\n",
    "    logging_steps=10,\n",
    "    evaluation_strategy=\"epoch\",\n",
    "    learning_rate=2e-5,\n",
    "    lr_scheduler_type='linear'\n",
    ")\n",
    "\n",
    "# Trainer\n",
    "trainer = Trainer(\n",
    "    model=loaded_distilroberta_model,\n",
    "    args=training_args,\n",
    "    train_dataset=tokenized_train_dataset,\n",
    "    eval_dataset=tokenized_val_dataset,\n",
    "    data_collator=data_collator,\n",
    "    compute_metrics=compute_metrics  \n",
    ")\n",
    "\n",
    "# Fine-tune the model\n",
    "trainer.train()\n",
    "\n",
    "# Evaluate on the test dataset\n",
    "eval_results = trainer.evaluate(eval_dataset=tokenized_test_dataset)\n",
    "print(\"Evaluation Results:\", eval_results)\n"
   ]
  },
  {
   "cell_type": "markdown",
   "id": "167c63ca-6409-437a-b9f3-241276f70099",
   "metadata": {},
   "source": [
    "### *CONFUSION MATRIX / CLASSIFICATION REPORT*"
   ]
  },
  {
   "cell_type": "code",
   "execution_count": 29,
   "id": "d2115741-9f1e-4859-95df-9fcd05006c72",
   "metadata": {},
   "outputs": [
    {
     "name": "stdout",
     "output_type": "stream",
     "text": [
      "Confusion Matrix:\n",
      " [[17287  1713]\n",
      " [ 1543 17457]]\n",
      "Classification Report:\n",
      "               precision    recall  f1-score   support\n",
      "\n",
      "           0       0.92      0.91      0.91     19000\n",
      "           1       0.91      0.92      0.91     19000\n",
      "\n",
      "    accuracy                           0.91     38000\n",
      "   macro avg       0.91      0.91      0.91     38000\n",
      "weighted avg       0.91      0.91      0.91     38000\n",
      "\n"
     ]
    }
   ],
   "source": [
    "import torch\n",
    "from transformers import AutoTokenizer, AutoModelForSequenceClassification\n",
    " \n",
    "from sklearn.metrics import confusion_matrix, roc_curve, auc, classification_report\n",
    "import matplotlib.pyplot as plt\n",
    "import numpy as np\n",
    "\n",
    "# Load the BERT model\n",
    "loaded_bert_model = AutoModelForSequenceClassification.from_pretrained('/data/nmamit-interns/grp3/new/distilroberta_model')\n",
    "\n",
    "# Load the BERT tokenizer\n",
    "loaded_bert_tokenizer =  AutoTokenizer.from_pretrained('/data/nmamit-interns/grp3/new/distilroberta_tokenizer')\n",
    "\n",
    "# Load your test data\n",
    "test_texts = df_test['text'].tolist()  \n",
    "test_labels = df_test['target'].tolist()  \n",
    "\n",
    "# Move model to GPU if available\n",
    "device = torch.device('cuda') if torch.cuda.is_available() else torch.device('cpu')\n",
    "loaded_bert_model.to(device)\n",
    "\n",
    "# Function to get predictions in batches\n",
    "def get_predictions_in_batches(model, tokenizer, texts, batch_size=32):\n",
    "    model.eval()\n",
    "    all_predictions = []\n",
    "    all_logits = []\n",
    "    for i in range(0, len(texts), batch_size):\n",
    "        batch_texts = texts[i:i + batch_size]\n",
    "        encodings = tokenizer(batch_texts, truncation=True, padding=True, max_length=512, return_tensors='pt')\n",
    "        encodings = {key: val.to(device) for key, val in encodings.items()}\n",
    "        \n",
    "        with torch.no_grad():\n",
    "            outputs = model(**encodings)\n",
    "            logits = outputs.logits\n",
    "            predictions = torch.argmax(logits, dim=-1).cpu().numpy()\n",
    "        \n",
    "        all_predictions.extend(predictions)\n",
    "        all_logits.extend(logits.cpu().numpy())\n",
    "    \n",
    "    return np.array(all_predictions), np.array(all_logits)\n",
    "\n",
    "# Get predictions\n",
    "predictions, logits = get_predictions_in_batches(loaded_bert_model, loaded_bert_tokenizer, test_texts)\n",
    "\n",
    "# Calculate confusion matrix\n",
    "cm = confusion_matrix(test_labels, predictions)\n",
    "print(\"Confusion Matrix:\\n\", cm)\n",
    "\n",
    "# Generate classification report\n",
    "print(\"Classification Report:\\n\", classification_report(test_labels, predictions))\n"
   ]
  },
  {
   "cell_type": "code",
   "execution_count": null,
   "id": "363997a6-91ae-4a86-b874-d5870451f805",
   "metadata": {},
   "outputs": [],
   "source": []
  },
  {
   "cell_type": "markdown",
   "id": "fc6c7631-140a-4146-96c7-c4ab5c8db8f9",
   "metadata": {},
   "source": [
    "### *ROC and AUC*"
   ]
  },
  {
   "cell_type": "code",
   "execution_count": 30,
   "id": "9807d46b-0ac0-4860-88ec-c2e8ca2ce339",
   "metadata": {},
   "outputs": [
    {
     "data": {
      "image/png": "[encoded data removed]",
      "text/plain": [
       "<Figure size 432x288 with 1 Axes>"
      ]
     },
     "metadata": {
      "needs_background": "light"
     },
     "output_type": "display_data"
    }
   ],
   "source": [
    "# Calculate ROC curve and AUC\n",
    "if len(np.unique(test_labels)) == 2:\n",
    "    fpr, tpr, _ = roc_curve(test_labels, logits[:, 1])\n",
    "    roc_auc = auc(fpr, tpr)\n",
    "\n",
    "    # Plot ROC curve\n",
    "    plt.figure()\n",
    "    plt.plot(fpr, tpr, color='darkorange', lw=2, label='ROC curve (area = %0.2f)' % roc_auc)\n",
    "    plt.plot([0, 1], [0, 1], color='navy', lw=2, linestyle='--')\n",
    "    plt.xlim([0.0, 1.0])\n",
    "    plt.ylim([0.0, 1.05])\n",
    "    plt.xlabel('False Positive Rate')\n",
    "    plt.ylabel('True Positive Rate')\n",
    "    plt.title('Receiver Operating Characteristic')\n",
    "    plt.legend(loc=\"lower right\")\n",
    "    plt.show()\n",
    "else:\n",
    "    print(\"ROC curve is only applicable for binary classification.\")"
   ]
  },
  {
   "cell_type": "markdown",
   "id": "f670fc6b-1fa0-4473-836d-7bb3229b45ef",
   "metadata": {},
   "source": [
    "### **PREDICTION**"
   ]
  },
  {
   "cell_type": "code",
   "execution_count": 48,
   "id": "4ca3d149-ba9b-4353-b5f5-0c7ff983082b",
   "metadata": {},
   "outputs": [],
   "source": [
    "import torch\n",
    "\n",
    "# Function to predict a single sample\n",
    "def predict_single_sample(text):\n",
    "    device = torch.device(\"cuda\" if torch.cuda.is_available() else \"cpu\")\n",
    "    \n",
    "    # Load tokenizer and model (using the provided variable names)\n",
    "    tokenizer = loaded_distilroberta_tokenizer\n",
    "    model = loaded_distilroberta_model.to(device)\n",
    "    \n",
    "    model.eval()  # Set the model to evaluation mode\n",
    "    inputs = tokenizer(text, return_tensors=\"pt\", truncation=True, padding=True, max_length=512)\n",
    "    inputs = {key: value.to(device) for key, value in inputs.items()}  # Move inputs to the same device as the model\n",
    "    \n",
    "    with torch.no_grad():\n",
    "        outputs = model(**inputs)\n",
    "    logits = outputs.logits\n",
    "    prediction = torch.argmax(logits, dim=-1).item()\n",
    "    return \"1\" if prediction == 1 else \"0\""
   ]
  },
  {
   "cell_type": "code",
   "execution_count": 49,
   "id": "8bf7a42c-001d-4089-9169-96e587fbd9ba",
   "metadata": {},
   "outputs": [
    {
     "name": "stdout",
     "output_type": "stream",
     "text": [
      "Input text: last summer had an appointment to get new tires and had to wait super long time also went in this week for them to fix minor problem with tire they put on they fixed it for free and the very next morning had the same issue called to complain and the manager didn even apologize so frustrated never going back they seem overpriced too\n",
      "Actual prediction:0\n",
      "Example prediction : 0\n"
     ]
    }
   ],
   "source": [
    " # Example usage for a single test sample\n",
    "example_text = df_test['text'].iloc[1]\n",
    "example_target = df_test['target'].iloc[1]\n",
    "prediction = predict_single_sample(example_text)\n",
    "print(f\"Input text: {example_text}\")\n",
    "print(f\"Actual prediction:{example_target}\")\n",
    "print(f\"Example prediction : {prediction}\")"
   ]
  },
  {
   "cell_type": "markdown",
   "id": "c486f82c-a1b1-4c19-83d1-bc95710a4af7",
   "metadata": {},
   "source": [
    "## **RoBERTa**"
   ]
  },
  {
   "cell_type": "code",
   "execution_count": 16,
   "id": "cd51ff36-2494-45e6-881d-93ebc3692d04",
   "metadata": {},
   "outputs": [
    {
     "data": {
      "application/vnd.jupyter.widget-view+json": {
       "model_id": "e88777744fad4615a6f3f28da6c69139",
       "version_major": 2,
       "version_minor": 0
      },
      "text/plain": [
       "Map:   0%|          | 0/89594 [00:00<?, ? examples/s]"
      ]
     },
     "metadata": {},
     "output_type": "display_data"
    },
    {
     "data": {
      "application/vnd.jupyter.widget-view+json": {
       "model_id": "047bb398adeb434a961ee5c2904df87c",
       "version_major": 2,
       "version_minor": 0
      },
      "text/plain": [
       "Map:   0%|          | 0/22399 [00:00<?, ? examples/s]"
      ]
     },
     "metadata": {},
     "output_type": "display_data"
    },
    {
     "data": {
      "application/vnd.jupyter.widget-view+json": {
       "model_id": "7d49c870a097476f8ae65826cc1d653a",
       "version_major": 2,
       "version_minor": 0
      },
      "text/plain": [
       "Map:   0%|          | 0/38000 [00:00<?, ? examples/s]"
      ]
     },
     "metadata": {},
     "output_type": "display_data"
    }
   ],
   "source": [
    "from transformers import RobertaTokenizer, RobertaForSequenceClassification, Trainer, TrainingArguments, DataCollatorWithPadding\n",
    "\n",
    "# Function to tokenize the dataset using the provided tokenizer\n",
    "def tokenize(batch, tokenizer):\n",
    "    return tokenizer(batch['text'], padding=True, truncation=True, max_length=512, return_tensors='pt')\n",
    "\n",
    "# Tokenizer for RoBERTa\n",
    "roberta_tokenizer = RobertaTokenizer.from_pretrained('roberta-base')\n",
    "\n",
    "# Tokenize using RoBERTa tokenizer\n",
    "tokenized_train_dataset_roberta = train_dataset.map(lambda x: tokenize(x, roberta_tokenizer), batched=True)\n",
    "tokenized_val_dataset_roberta = val_dataset.map(lambda x: tokenize(x, roberta_tokenizer), batched=True)\n",
    "tokenized_test_dataset_roberta = test_dataset.map(lambda x: tokenize(x, roberta_tokenizer), batched=True)"
   ]
  },
  {
   "cell_type": "code",
   "execution_count": 18,
   "id": "1e6cfde7-d753-4ffb-92e7-7e40d7ea280d",
   "metadata": {},
   "outputs": [
    {
     "name": "stderr",
     "output_type": "stream",
     "text": [
      "Some weights of RobertaForSequenceClassification were not initialized from the model checkpoint at roberta-base and are newly initialized: ['classifier.dense.bias', 'classifier.dense.weight', 'classifier.out_proj.bias', 'classifier.out_proj.weight']\n",
      "You should probably TRAIN this model on a down-stream task to be able to use it for predictions and inference.\n",
      "/home/shrishask/.local/lib/python3.10/site-packages/transformers/training_args.py:1494: FutureWarning: `evaluation_strategy` is deprecated and will be removed in version 4.46 of 🤗 Transformers. Use `eval_strategy` instead\n",
      "  warnings.warn(\n"
     ]
    },
    {
     "data": {
      "text/html": [
       "\n",
       "    <div>\n",
       "      \n",
       "      <progress value='33600' max='33600' style='width:300px; height:20px; vertical-align: middle;'></progress>\n",
       "      [33600/33600 1:37:37, Epoch 3/3]\n",
       "    </div>\n",
       "    <table border=\"1\" class=\"dataframe\">\n",
       "  <thead>\n",
       " <tr style=\"text-align: left;\">\n",
       "      <th>Epoch</th>\n",
       "      <th>Training Loss</th>\n",
       "      <th>Validation Loss</th>\n",
       "      <th>Accuracy</th>\n",
       "      <th>F1</th>\n",
       "      <th>Precision</th>\n",
       "      <th>Recall</th>\n",
       "    </tr>\n",
       "  </thead>\n",
       "  <tbody>\n",
       "    <tr>\n",
       "      <td>1</td>\n",
       "      <td>0.242700</td>\n",
       "      <td>0.292165</td>\n",
       "      <td>0.894460</td>\n",
       "      <td>0.897369</td>\n",
       "      <td>0.883333</td>\n",
       "      <td>0.911858</td>\n",
       "    </tr>\n",
       "    <tr>\n",
       "      <td>2</td>\n",
       "      <td>0.232500</td>\n",
       "      <td>0.330296</td>\n",
       "      <td>0.896022</td>\n",
       "      <td>0.899556</td>\n",
       "      <td>0.879862</td>\n",
       "      <td>0.920152</td>\n",
       "    </tr>\n",
       "    <tr>\n",
       "      <td>3</td>\n",
       "      <td>0.218100</td>\n",
       "      <td>0.331033</td>\n",
       "      <td>0.899415</td>\n",
       "      <td>0.901826</td>\n",
       "      <td>0.890917</td>\n",
       "      <td>0.913005</td>\n",
       "    </tr>\n",
       "  </tbody>\n",
       "</table><p>"
      ],
      "text/plain": [
       "<IPython.core.display.HTML object>"
      ]
     },
     "metadata": {},
     "output_type": "display_data"
    },
    {
     "data": {
      "text/html": [
       "\n",
       "    <div>\n",
       "      \n",
       "      <progress value='2375' max='2375' style='width:300px; height:20px; vertical-align: middle;'></progress>\n",
       "      [2375/2375 05:03]\n",
       "    </div>\n",
       "    "
      ],
      "text/plain": [
       "<IPython.core.display.HTML object>"
      ]
     },
     "metadata": {},
     "output_type": "display_data"
    },
    {
     "name": "stdout",
     "output_type": "stream",
     "text": [
      "RoBERTa Results: {'eval_loss': 0.31900325417518616, 'eval_accuracy': 0.9038947368421053, 'eval_f1': 0.9053346466898232, 'eval_precision': 0.8919705792215752, 'eval_recall': 0.9191052631578948, 'eval_runtime': 303.3237, 'eval_samples_per_second': 125.279, 'eval_steps_per_second': 7.83, 'epoch': 3.0}\n"
     ]
    }
   ],
   "source": [
    "# Data collator for RoBERTa\n",
    "data_collator_roberta = DataCollatorWithPadding(tokenizer=roberta_tokenizer)\n",
    "\n",
    "# Model for RoBERTa\n",
    "roberta_model = RobertaForSequenceClassification.from_pretrained('roberta-base')\n",
    "\n",
    "# Training arguments for RoBERTa\n",
    "roberta_training_args = TrainingArguments(\n",
    "    output_dir='/data/nmamit-interns/grp3/new/result/roberta',\n",
    "    num_train_epochs=3,\n",
    "    per_device_train_batch_size=8,\n",
    "    per_device_eval_batch_size=16,\n",
    "    warmup_steps=500,\n",
    "    weight_decay=0.01,\n",
    "    logging_steps=10,\n",
    "    evaluation_strategy=\"epoch\",\n",
    "    learning_rate=2e-5,\n",
    "    lr_scheduler_type='linear'\n",
    ")\n",
    "\n",
    "# Trainer for RoBERTa\n",
    "roberta_trainer = Trainer(\n",
    "    model=roberta_model,\n",
    "    args=roberta_training_args,\n",
    "    train_dataset=tokenized_train_dataset_roberta,\n",
    "    eval_dataset=tokenized_val_dataset_roberta,\n",
    "    data_collator=data_collator_roberta,\n",
    "    compute_metrics=compute_metrics\n",
    ")\n",
    "\n",
    "# Train RoBERTa\n",
    "roberta_trainer.train(resume_from_checkpoint=True)\n",
    "\n",
    "# Evaluate RoBERTa\n",
    "roberta_results = roberta_trainer.evaluate(tokenized_test_dataset_roberta)\n",
    "print(\"RoBERTa Results:\", roberta_results)\n"
   ]
  },
  {
   "cell_type": "code",
   "execution_count": 19,
   "id": "79265c19-24de-4854-8c62-b873dd116881",
   "metadata": {},
   "outputs": [
    {
     "data": {
      "text/plain": [
       "('/data/nmamit-interns/grp3/new/roberta_tokenizer/tokenizer_config.json',\n",
       " '/data/nmamit-interns/grp3/new/roberta_tokenizer/special_tokens_map.json',\n",
       " '/data/nmamit-interns/grp3/new/roberta_tokenizer/vocab.json',\n",
       " '/data/nmamit-interns/grp3/new/roberta_tokenizer/merges.txt',\n",
       " '/data/nmamit-interns/grp3/new/roberta_tokenizer/added_tokens.json')"
      ]
     },
     "execution_count": 19,
     "metadata": {},
     "output_type": "execute_result"
    }
   ],
   "source": [
    "#saved reberta model \n",
    "roberta_model.save_pretrained('/data/nmamit-interns/grp3/new/roberta_model')\n",
    "roberta_tokenizer.save_pretrained('/data/nmamit-interns/grp3/new/roberta_tokenizer')"
   ]
  },
  {
   "cell_type": "code",
   "execution_count": 9,
   "id": "dd9f205d-5c7f-454d-ae82-841d9df8a90a",
   "metadata": {},
   "outputs": [],
   "source": [
    "from transformers import RobertaTokenizer, RobertaForSequenceClassification\n",
    "# Load the BERT model\n",
    "loaded_roberta_model =  RobertaForSequenceClassification.from_pretrained('/data/nmamit-interns/grp3/new/roberta_model')\n",
    "\n",
    "# Load the BERT tokenizer\n",
    "loaded_roberta_tokenizer = RobertaTokenizer.from_pretrained('/data/nmamit-interns/grp3/new/roberta_tokenizer')\n"
   ]
  },
  {
   "cell_type": "markdown",
   "id": "dddef94e-f6a4-41b1-b508-553c154846db",
   "metadata": {},
   "source": [
    "#### *CONFUSION MATRIX / CLASSIFICATION REPORT*"
   ]
  },
  {
   "cell_type": "code",
   "execution_count": 21,
   "id": "5638a318-ac7e-4ee7-8728-a82849140aee",
   "metadata": {},
   "outputs": [
    {
     "name": "stdout",
     "output_type": "stream",
     "text": [
      "Confusion Matrix:\n",
      " [[17802  1198]\n",
      " [ 1509 17491]]\n",
      "Classification Report:\n",
      "               precision    recall  f1-score   support\n",
      "\n",
      "           0       0.92      0.94      0.93     19000\n",
      "           1       0.94      0.92      0.93     19000\n",
      "\n",
      "    accuracy                           0.93     38000\n",
      "   macro avg       0.93      0.93      0.93     38000\n",
      "weighted avg       0.93      0.93      0.93     38000\n",
      "\n"
     ]
    }
   ],
   "source": [
    "import torch\n",
    "from transformers import RobertaTokenizer, RobertaForSequenceClassification\n",
    " \n",
    "from sklearn.metrics import confusion_matrix, roc_curve, auc, classification_report\n",
    "import matplotlib.pyplot as plt\n",
    "import numpy as np\n",
    "\n",
    "# Load the BERT model\n",
    "loaded_roberta_model =  RobertaForSequenceClassification.from_pretrained('/data/nmamit-interns/grp3/new/roberta_model')\n",
    "\n",
    "# Load the BERT tokenizer\n",
    "loaded_roberta_tokenizer = RobertaTokenizer.from_pretrained('/data/nmamit-interns/grp3/new/roberta_tokenizer')\n",
    "\n",
    "# Load your test data\n",
    "test_texts = df_test['text'].tolist()  \n",
    "test_labels = df_test['target'].tolist()  \n",
    "\n",
    "# Move model to GPU if available\n",
    "device = torch.device('cuda') if torch.cuda.is_available() else torch.device('cpu')\n",
    "loaded_roberta_model.to(device)\n",
    "\n",
    "# Function to get predictions in batches\n",
    "def get_predictions_in_batches(model, tokenizer, texts, batch_size=32):\n",
    "    model.eval()\n",
    "    all_predictions = []\n",
    "    all_logits = []\n",
    "    for i in range(0, len(texts), batch_size):\n",
    "        batch_texts = texts[i:i + batch_size]\n",
    "        encodings = tokenizer(batch_texts, truncation=True, padding=True, max_length=512, return_tensors='pt')\n",
    "        encodings = {key: val.to(device) for key, val in encodings.items()}\n",
    "        \n",
    "        with torch.no_grad():\n",
    "            outputs = model(**encodings)\n",
    "            logits = outputs.logits\n",
    "            predictions = torch.argmax(logits, dim=-1).cpu().numpy()\n",
    "        \n",
    "        all_predictions.extend(predictions)\n",
    "        all_logits.extend(logits.cpu().numpy())\n",
    "    \n",
    "    return np.array(all_predictions), np.array(all_logits)\n",
    "\n",
    "# Get predictions\n",
    "predictions, logits = get_predictions_in_batches(loaded_roberta_model, loaded_roberta_tokenizer, test_texts)\n",
    "\n",
    "# Calculate confusion matrix\n",
    "cm = confusion_matrix(test_labels, predictions)\n",
    "print(\"Confusion Matrix:\\n\", cm)\n",
    "\n",
    "# Generate classification report\n",
    "print(\"Classification Report:\\n\", classification_report(test_labels, predictions))\n"
   ]
  },
  {
   "cell_type": "markdown",
   "id": "2fdf268d-e2f9-4257-a0d8-fcf845908772",
   "metadata": {},
   "source": [
    "### *ROC and AUC*"
   ]
  },
  {
   "cell_type": "code",
   "execution_count": 22,
   "id": "01ffcb9b-1818-4474-8b8a-499a9dbb27dd",
   "metadata": {},
   "outputs": [
    {
     "data": {
      "image/png": "[encoded data removed]",
      "text/plain": [
       "<Figure size 432x288 with 1 Axes>"
      ]
     },
     "metadata": {
      "needs_background": "light"
     },
     "output_type": "display_data"
    }
   ],
   "source": [
    "# Calculate ROC curve and AUC\n",
    "if len(np.unique(test_labels)) == 2:\n",
    "    fpr, tpr, _ = roc_curve(test_labels, logits[:, 1])\n",
    "    roc_auc = auc(fpr, tpr)\n",
    "\n",
    "    # Plot ROC curve\n",
    "    plt.figure()\n",
    "    plt.plot(fpr, tpr, color='darkorange', lw=2, label='ROC curve (area = %0.2f)' % roc_auc)\n",
    "    plt.plot([0, 1], [0, 1], color='navy', lw=2, linestyle='--')\n",
    "    plt.xlim([0.0, 1.0])\n",
    "    plt.ylim([0.0, 1.05])\n",
    "    plt.xlabel('False Positive Rate')\n",
    "    plt.ylabel('True Positive Rate')\n",
    "    plt.title('Receiver Operating Characteristic')\n",
    "    plt.legend(loc=\"lower right\")\n",
    "    plt.show()\n",
    "else:\n",
    "    print(\"ROC curve is only applicable for binary classification.\")"
   ]
  },
  {
   "cell_type": "markdown",
   "id": "6d0b5e3a-2780-4d35-b951-e9ac8f51d463",
   "metadata": {},
   "source": [
    "### **PREDICTION**"
   ]
  },
  {
   "cell_type": "code",
   "execution_count": 23,
   "id": "24667468-8cda-4e60-9ec0-4a07131ffd18",
   "metadata": {},
   "outputs": [],
   "source": [
    "import torch\n",
    "\n",
    "# Function to predict a single sample\n",
    "def predict_single_sample(text):\n",
    "    device = torch.device(\"cuda\" if torch.cuda.is_available() else \"cpu\")\n",
    "    \n",
    "    # Load tokenizer and model (using the provided variable names)\n",
    "    tokenizer = loaded_roberta_tokenizer\n",
    "    model = loaded_roberta_model.to(device)\n",
    "    \n",
    "    model.eval()  # Set the model to evaluation mode\n",
    "    inputs = tokenizer(text, return_tensors=\"pt\", truncation=True, padding=True, max_length=512)\n",
    "    inputs = {key: value.to(device) for key, value in inputs.items()}  # Move inputs to the same device as the model\n",
    "    \n",
    "    with torch.no_grad():\n",
    "        outputs = model(**inputs)\n",
    "    logits = outputs.logits\n",
    "    prediction = torch.argmax(logits, dim=-1).item()\n",
    "    return \"1\" if prediction == 1 else \"0\""
   ]
  },
  {
   "cell_type": "code",
   "execution_count": 25,
   "id": "4f58d609-d3a9-4259-acf3-193ebd9aec0a",
   "metadata": {},
   "outputs": [
    {
     "name": "stdout",
     "output_type": "stream",
     "text": [
      "Input text: contrary to other reviews have zero complaints about the service or the prices have been getting tire service here for the past years now and compared to my experience with places like pep boys these guys are experienced and know what they re doing nalso this is one place that do not feel like am being taken advantage of just because of my gender other auto mechanics have been notorious for capitalizing on my ignorance of cars and have sucked my bank account dry but here my service and road coverage has all been well explained and let up to me to decide nand they just renovated the waiting room it looks lot better than it did in previous years\n",
      "Actual prediction:1\n",
      "Example prediction : 0\n"
     ]
    }
   ],
   "source": [
    " # Example usage for a single test sample\n",
    "example_text = df_test['text'].iloc[0]\n",
    "example_target = df_test['target'].iloc[0]\n",
    "prediction = predict_single_sample(example_text)\n",
    "print(f\"Input text: {example_text}\")\n",
    "print(f\"Actual prediction:{example_target}\")\n",
    "print(f\"Example prediction : {prediction}\")"
   ]
  },
  {
   "cell_type": "code",
   "execution_count": 12,
   "id": "a9d4c088-d2fb-4c06-97a7-1fb041df356d",
   "metadata": {},
   "outputs": [
    {
     "name": "stdout",
     "output_type": "stream",
     "text": [
      "False predictions saved to 'false_predictions.csv'\n"
     ]
    }
   ],
   "source": [
    "import torch\n",
    "import pandas as pd\n",
    "\n",
    "# Function to predict all samples from the test dataset and identify false predictions\n",
    "def get_false_predictions(df_test, model, tokenizer):\n",
    "    model.eval()\n",
    "    device = torch.device('cuda' if torch.cuda.is_available() else 'cpu')\n",
    "    model = model.to(device)\n",
    "    \n",
    "    false_predictions = []\n",
    "    \n",
    "    with torch.no_grad():\n",
    "        for index, row in df_test.iterrows():\n",
    "            text = row['text']\n",
    "            actual_label = row['target']\n",
    "            \n",
    "            # Tokenize the text\n",
    "            inputs = tokenizer(text, return_tensors='pt', truncation=True, padding=True)\n",
    "            input_ids = inputs['input_ids'].to(device)\n",
    "            attention_mask = inputs['attention_mask'].to(device)\n",
    "            \n",
    "            # Make predictions\n",
    "            outputs = model(input_ids, attention_mask=attention_mask)\n",
    "            logits = outputs.logits\n",
    "            predicted_label = torch.argmax(logits, dim=1).item()\n",
    "            \n",
    "            if predicted_label != actual_label:\n",
    "                decoded_text = tokenizer.decode(input_ids.squeeze().cpu(), skip_special_tokens=True)\n",
    "                false_predictions.append({\n",
    "                    'text': decoded_text,\n",
    "                    'predicted_label': predicted_label,\n",
    "                    'actual_label': actual_label\n",
    "                })\n",
    "    \n",
    "    return false_predictions\n",
    "\n",
    "# Get false predictions\n",
    "false_predictions = get_false_predictions(df_test, loaded_roberta_model, loaded_roberta_tokenizer)\n",
    "\n",
    "# Create a DataFrame and save to CSV\n",
    "false_predictions_df = pd.DataFrame(false_predictions)\n",
    "false_predictions_df.to_csv('/data/nmamit-interns/grp3/new/wrong_predictions.csv', index=False)\n",
    "\n",
    "print(\"False predictions saved to 'false_predictions.csv'\")\n"
   ]
  },
  {
   "cell_type": "markdown",
   "id": "91f2daf4-d717-418d-98ca-b045742a5af1",
   "metadata": {},
   "source": [
    "### **DistilBERT**"
   ]
  },
  {
   "cell_type": "code",
   "execution_count": 26,
   "id": "8f1383ee-2397-43b8-a74f-ece202b8d35f",
   "metadata": {},
   "outputs": [
    {
     "data": {
      "application/vnd.jupyter.widget-view+json": {
       "model_id": "73c61e009c9a48b3ac65fa8d194f3be3",
       "version_major": 2,
       "version_minor": 0
      },
      "text/plain": [
       "Map:   0%|          | 0/89594 [00:00<?, ? examples/s]"
      ]
     },
     "metadata": {},
     "output_type": "display_data"
    },
    {
     "data": {
      "application/vnd.jupyter.widget-view+json": {
       "model_id": "2ac84552bc404dc3aa792dde5393338a",
       "version_major": 2,
       "version_minor": 0
      },
      "text/plain": [
       "Map:   0%|          | 0/22399 [00:00<?, ? examples/s]"
      ]
     },
     "metadata": {},
     "output_type": "display_data"
    },
    {
     "data": {
      "application/vnd.jupyter.widget-view+json": {
       "model_id": "e7aba642e61f48158aaf20355a62fc25",
       "version_major": 2,
       "version_minor": 0
      },
      "text/plain": [
       "Map:   0%|          | 0/38000 [00:00<?, ? examples/s]"
      ]
     },
     "metadata": {},
     "output_type": "display_data"
    }
   ],
   "source": [
    "import os\n",
    "from transformers import DistilBertTokenizer, DistilBertForSequenceClassification, Trainer, TrainingArguments, DataCollatorWithPadding\n",
    "\n",
    "# Function to tokenize the dataset using the provided tokenizer\n",
    "def tokenize(batch, tokenizer):\n",
    "    return tokenizer(batch['text'], padding=True, truncation=True, max_length=512)\n",
    "\n",
    "# Tokenizer for DistilBERT\n",
    "distilbert_tokenizer = DistilBertTokenizer.from_pretrained('distilbert-base-uncased')\n",
    "\n",
    "# Tokenize using DistilBERT tokenizer\n",
    "tokenized_train_dataset_distilbert = train_dataset.map(lambda x: tokenize(x, distilbert_tokenizer), batched=True)\n",
    "tokenized_val_dataset_distilbert = val_dataset.map(lambda x: tokenize(x, distilbert_tokenizer), batched=True)\n",
    "tokenized_test_dataset_distilbert = test_dataset.map(lambda x: tokenize(x, distilbert_tokenizer), batched=True)\n"
   ]
  },
  {
   "cell_type": "code",
   "execution_count": 28,
   "id": "72cd3f73-a521-476a-a1e0-9f831d8bd0ee",
   "metadata": {},
   "outputs": [
    {
     "name": "stderr",
     "output_type": "stream",
     "text": [
      "Some weights of DistilBertForSequenceClassification were not initialized from the model checkpoint at distilbert-base-uncased and are newly initialized: ['classifier.bias', 'classifier.weight', 'pre_classifier.bias', 'pre_classifier.weight']\n",
      "You should probably TRAIN this model on a down-stream task to be able to use it for predictions and inference.\n",
      "/home/shrishask/.local/lib/python3.10/site-packages/transformers/training_args.py:1494: FutureWarning: `evaluation_strategy` is deprecated and will be removed in version 4.46 of 🤗 Transformers. Use `eval_strategy` instead\n",
      "  warnings.warn(\n"
     ]
    },
    {
     "data": {
      "text/html": [
       "\n",
       "    <div>\n",
       "      \n",
       "      <progress value='33600' max='33600' style='width:300px; height:20px; vertical-align: middle;'></progress>\n",
       "      [33600/33600 1:54:06, Epoch 3/3]\n",
       "    </div>\n",
       "    <table border=\"1\" class=\"dataframe\">\n",
       "  <thead>\n",
       " <tr style=\"text-align: left;\">\n",
       "      <th>Epoch</th>\n",
       "      <th>Training Loss</th>\n",
       "      <th>Validation Loss</th>\n",
       "      <th>Accuracy</th>\n",
       "      <th>F1</th>\n",
       "      <th>Precision</th>\n",
       "      <th>Recall</th>\n",
       "    </tr>\n",
       "  </thead>\n",
       "  <tbody>\n",
       "    <tr>\n",
       "      <td>1</td>\n",
       "      <td>0.276200</td>\n",
       "      <td>0.289463</td>\n",
       "      <td>0.893522</td>\n",
       "      <td>0.890501</td>\n",
       "      <td>0.928305</td>\n",
       "      <td>0.855656</td>\n",
       "    </tr>\n",
       "    <tr>\n",
       "      <td>2</td>\n",
       "      <td>0.178700</td>\n",
       "      <td>0.290552</td>\n",
       "      <td>0.899103</td>\n",
       "      <td>0.901850</td>\n",
       "      <td>0.888043</td>\n",
       "      <td>0.916093</td>\n",
       "    </tr>\n",
       "    <tr>\n",
       "      <td>3</td>\n",
       "      <td>0.227600</td>\n",
       "      <td>0.325209</td>\n",
       "      <td>0.900710</td>\n",
       "      <td>0.902078</td>\n",
       "      <td>0.900334</td>\n",
       "      <td>0.903829</td>\n",
       "    </tr>\n",
       "  </tbody>\n",
       "</table><p>"
      ],
      "text/plain": [
       "<IPython.core.display.HTML object>"
      ]
     },
     "metadata": {},
     "output_type": "display_data"
    },
    {
     "data": {
      "text/html": [
       "\n",
       "    <div>\n",
       "      \n",
       "      <progress value='2375' max='2375' style='width:300px; height:20px; vertical-align: middle;'></progress>\n",
       "      [2375/2375 03:39]\n",
       "    </div>\n",
       "    "
      ],
      "text/plain": [
       "<IPython.core.display.HTML object>"
      ]
     },
     "metadata": {},
     "output_type": "display_data"
    },
    {
     "name": "stdout",
     "output_type": "stream",
     "text": [
      "DistilBERT Results: {'eval_loss': 0.3132319450378418, 'eval_accuracy': 0.9029736842105263, 'eval_f1': 0.9035548928823668, 'eval_precision': 0.8981746320661501, 'eval_recall': 0.909, 'eval_runtime': 219.4082, 'eval_samples_per_second': 173.193, 'eval_steps_per_second': 10.825, 'epoch': 3.0}\n"
     ]
    }
   ],
   "source": [
    "\n",
    "# Data collator for DistilBERT\n",
    "data_collator_distilbert = DataCollatorWithPadding(tokenizer=distilbert_tokenizer)\n",
    "\n",
    "# Model for DistilBERT\n",
    "distilbert_model = DistilBertForSequenceClassification.from_pretrained('distilbert-base-uncased')\n",
    "\n",
    "# Training arguments for DistilBERT with limited checkpointing\n",
    "distilbert_training_args = TrainingArguments(\n",
    "    output_dir='/data/nmamit-interns/grp3/new/result/distilbert',\n",
    "    num_train_epochs=3,\n",
    "    per_device_train_batch_size=8,\n",
    "    per_device_eval_batch_size=16,\n",
    "    warmup_steps=500,\n",
    "    weight_decay=0.01,\n",
    "    logging_steps=10,\n",
    "    evaluation_strategy=\"epoch\",\n",
    "    learning_rate=2e-5,\n",
    "    lr_scheduler_type='linear',\n",
    ")\n",
    "\n",
    "# Trainer for DistilBERT\n",
    "distilbert_trainer = Trainer(\n",
    "    model=distilbert_model,\n",
    "    args=distilbert_training_args,\n",
    "    train_dataset=tokenized_train_dataset_distilbert,\n",
    "    eval_dataset=tokenized_val_dataset_distilbert,\n",
    "    data_collator=data_collator_distilbert,\n",
    "    compute_metrics=compute_metrics\n",
    ")\n",
    "\n",
    "# Train DistilBERT and automatically resume from the latest checkpoint if available\n",
    "distilbert_trainer.train(resume_from_checkpoint=True)\n",
    "\n",
    "# Evaluate DistilBERT\n",
    "distilbert_results = distilbert_trainer.evaluate(tokenized_test_dataset_distilbert)\n",
    "print(\"DistilBERT Results:\", distilbert_results)\n"
   ]
  },
  {
   "cell_type": "code",
   "execution_count": 29,
   "id": "5dceea2c-dbc5-4fa4-9a2f-457b545f8a93",
   "metadata": {},
   "outputs": [
    {
     "data": {
      "text/plain": [
       "('/data/nmamit-interns/grp3/new/distilbert_tokenizer/tokenizer_config.json',\n",
       " '/data/nmamit-interns/grp3/new/distilbert_tokenizer/special_tokens_map.json',\n",
       " '/data/nmamit-interns/grp3/new/distilbert_tokenizer/vocab.txt',\n",
       " '/data/nmamit-interns/grp3/new/distilbert_tokenizer/added_tokens.json')"
      ]
     },
     "execution_count": 29,
     "metadata": {},
     "output_type": "execute_result"
    }
   ],
   "source": [
    "distilbert_model.save_pretrained('/data/nmamit-interns/grp3/new/distilbert_model')\n",
    "distilbert_tokenizer.save_pretrained('/data/nmamit-interns/grp3/new/distilbert_tokenizer')"
   ]
  },
  {
   "cell_type": "markdown",
   "id": "7430c89a-6636-4f5b-aa93-3059543cdd27",
   "metadata": {},
   "source": [
    "#### *CONFUSION MATRIX / CLASSIFICATION REPORT*"
   ]
  },
  {
   "cell_type": "code",
   "execution_count": 30,
   "id": "fb3811cb-799b-401b-8751-44212d5d155f",
   "metadata": {},
   "outputs": [
    {
     "name": "stdout",
     "output_type": "stream",
     "text": [
      "Confusion Matrix:\n",
      " [[17461  1539]\n",
      " [ 1449 17551]]\n",
      "Classification Report:\n",
      "               precision    recall  f1-score   support\n",
      "\n",
      "           0       0.92      0.92      0.92     19000\n",
      "           1       0.92      0.92      0.92     19000\n",
      "\n",
      "    accuracy                           0.92     38000\n",
      "   macro avg       0.92      0.92      0.92     38000\n",
      "weighted avg       0.92      0.92      0.92     38000\n",
      "\n"
     ]
    }
   ],
   "source": [
    "import torch\n",
    "from transformers import DistilBertTokenizer, DistilBertForSequenceClassification\n",
    " \n",
    "from sklearn.metrics import confusion_matrix, roc_curve, auc, classification_report\n",
    "import matplotlib.pyplot as plt\n",
    "import numpy as np\n",
    "\n",
    "# Load the BERT model\n",
    "loaded_distilbert_model =  DistilBertForSequenceClassification.from_pretrained('/data/nmamit-interns/grp3/new/distilbert_model')\n",
    "\n",
    "# Load the BERT tokenizer\n",
    "loaded_distilbert_tokenizer = DistilBertTokenizer.from_pretrained('/data/nmamit-interns/grp3/new/distilbert_tokenizer')\n",
    "\n",
    "# Load your test data\n",
    "test_texts = df_test['text'].tolist()  \n",
    "test_labels = df_test['target'].tolist()  \n",
    "\n",
    "# Move model to GPU if available\n",
    "device = torch.device('cuda') if torch.cuda.is_available() else torch.device('cpu')\n",
    "loaded_distilbert_model.to(device)\n",
    "\n",
    "# Function to get predictions in batches\n",
    "def get_predictions_in_batches(model, tokenizer, texts, batch_size=32):\n",
    "    model.eval()\n",
    "    all_predictions = []\n",
    "    all_logits = []\n",
    "    for i in range(0, len(texts), batch_size):\n",
    "        batch_texts = texts[i:i + batch_size]\n",
    "        encodings = tokenizer(batch_texts, truncation=True, padding=True, max_length=512, return_tensors='pt')\n",
    "        encodings = {key: val.to(device) for key, val in encodings.items()}\n",
    "        \n",
    "        with torch.no_grad():\n",
    "            outputs = model(**encodings)\n",
    "            logits = outputs.logits\n",
    "            predictions = torch.argmax(logits, dim=-1).cpu().numpy()\n",
    "        \n",
    "        all_predictions.extend(predictions)\n",
    "        all_logits.extend(logits.cpu().numpy())\n",
    "    \n",
    "    return np.array(all_predictions), np.array(all_logits)\n",
    "\n",
    "# Get predictions\n",
    "predictions, logits = get_predictions_in_batches(loaded_distilbert_model, loaded_distilbert_tokenizer, test_texts)\n",
    "\n",
    "# Calculate confusion matrix\n",
    "cm = confusion_matrix(test_labels, predictions)\n",
    "print(\"Confusion Matrix:\\n\", cm)\n",
    "\n",
    "# Generate classification report\n",
    "print(\"Classification Report:\\n\", classification_report(test_labels, predictions))\n"
   ]
  },
  {
   "cell_type": "markdown",
   "id": "7bd91fd5-d7ea-42b2-a55d-e72bb5a4bbd2",
   "metadata": {},
   "source": [
    "### *ROC and AUC*"
   ]
  },
  {
   "cell_type": "code",
   "execution_count": 31,
   "id": "eb989d5e-551a-437f-8528-8c7dc419d5f2",
   "metadata": {},
   "outputs": [
    {
     "data": {
      "image/png": "[encoded data removed]",
      "text/plain": [
       "<Figure size 432x288 with 1 Axes>"
      ]
     },
     "metadata": {
      "needs_background": "light"
     },
     "output_type": "display_data"
    }
   ],
   "source": [
    "# Calculate ROC curve and AUC\n",
    "if len(np.unique(test_labels)) == 2:\n",
    "    fpr, tpr, _ = roc_curve(test_labels, logits[:, 1])\n",
    "    roc_auc = auc(fpr, tpr)\n",
    "\n",
    "    # Plot ROC curve\n",
    "    plt.figure()\n",
    "    plt.plot(fpr, tpr, color='darkorange', lw=2, label='ROC curve (area = %0.2f)' % roc_auc)\n",
    "    plt.plot([0, 1], [0, 1], color='navy', lw=2, linestyle='--')\n",
    "    plt.xlim([0.0, 1.0])\n",
    "    plt.ylim([0.0, 1.05])\n",
    "    plt.xlabel('False Positive Rate')\n",
    "    plt.ylabel('True Positive Rate')\n",
    "    plt.title('Receiver Operating Characteristic')\n",
    "    plt.legend(loc=\"lower right\")\n",
    "    plt.show()\n",
    "else:\n",
    "    print(\"ROC curve is only applicable for binary classification.\")"
   ]
  },
  {
   "cell_type": "markdown",
   "id": "0c7f3b31-52cf-4b04-86e5-236598f216d9",
   "metadata": {},
   "source": [
    "### **PREDICTION**"
   ]
  },
  {
   "cell_type": "code",
   "execution_count": 32,
   "id": "a0eef823-6a35-48ae-a670-5b6d95681795",
   "metadata": {},
   "outputs": [],
   "source": [
    "import torch\n",
    "\n",
    "# Function to predict a single sample\n",
    "def predict_single_sample(text):\n",
    "    device = torch.device(\"cuda\" if torch.cuda.is_available() else \"cpu\")\n",
    "    \n",
    "    # Load tokenizer and model (using the provided variable names)\n",
    "    tokenizer = loaded_distilbert_tokenizer\n",
    "    model = loaded_distilbert_model.to(device)\n",
    "    \n",
    "    model.eval()  # Set the model to evaluation mode\n",
    "    inputs = tokenizer(text, return_tensors=\"pt\", truncation=True, padding=True, max_length=512)\n",
    "    inputs = {key: value.to(device) for key, value in inputs.items()}  # Move inputs to the same device as the model\n",
    "    \n",
    "    with torch.no_grad():\n",
    "        outputs = model(**inputs)\n",
    "    logits = outputs.logits\n",
    "    prediction = torch.argmax(logits, dim=-1).item()\n",
    "    return \"1\" if prediction == 1 else \"0\""
   ]
  },
  {
   "cell_type": "code",
   "execution_count": 35,
   "id": "8809f0f2-bf3a-43c0-93c2-1ec24acb93ba",
   "metadata": {},
   "outputs": [
    {
     "name": "stdout",
     "output_type": "stream",
     "text": [
      "Input text: ve heard all the hype and wanted to try it tonight was my second attempt here first time new girl on the grill apologized to me at minutes at walked not even an acknowledgement from the wait staff tonight the waiter seemed mad that didn know what wanted to order after explained that never been there he brought me menu and then proceeded to ignore me for minutes walked again no more tries here maybe doing something wrong haha\n",
      "Actual prediction:0\n",
      "Example prediction : 0\n"
     ]
    }
   ],
   "source": [
    " # Example usage for a single test sample\n",
    "example_text = df_test['text'].iloc[98]\n",
    "example_target = df_test['target'].iloc[98]\n",
    "prediction = predict_single_sample(example_text)\n",
    "print(f\"Input text: {example_text}\")\n",
    "print(f\"Actual prediction:{example_target}\")\n",
    "print(f\"Example prediction : {prediction}\")"
   ]
  },
  {
   "cell_type": "markdown",
   "id": "d846f4e5-24bb-492e-a839-e7150f042d18",
   "metadata": {},
   "source": [
    "## **AlBERT**"
   ]
  },
  {
   "cell_type": "code",
   "execution_count": 15,
   "id": "b3f26677-6783-43e6-b0de-2410f4313d0b",
   "metadata": {},
   "outputs": [
    {
     "data": {
      "application/vnd.jupyter.widget-view+json": {
       "model_id": "05d1bf3f93694b1abb1fcad65c482e5f",
       "version_major": 2,
       "version_minor": 0
      },
      "text/plain": [
       "Map:   0%|          | 0/89594 [00:00<?, ? examples/s]"
      ]
     },
     "metadata": {},
     "output_type": "display_data"
    },
    {
     "data": {
      "application/vnd.jupyter.widget-view+json": {
       "model_id": "11bb9ba1e8464676b0d2f0ff0833eebc",
       "version_major": 2,
       "version_minor": 0
      },
      "text/plain": [
       "Map:   0%|          | 0/22399 [00:00<?, ? examples/s]"
      ]
     },
     "metadata": {},
     "output_type": "display_data"
    },
    {
     "data": {
      "application/vnd.jupyter.widget-view+json": {
       "model_id": "f1ff0868a82e48fbbe562f597b31957d",
       "version_major": 2,
       "version_minor": 0
      },
      "text/plain": [
       "Map:   0%|          | 0/38000 [00:00<?, ? examples/s]"
      ]
     },
     "metadata": {},
     "output_type": "display_data"
    },
    {
     "name": "stderr",
     "output_type": "stream",
     "text": [
      "Some weights of AlbertForSequenceClassification were not initialized from the model checkpoint at albert-base-v2 and are newly initialized: ['classifier.bias', 'classifier.weight']\n",
      "You should probably TRAIN this model on a down-stream task to be able to use it for predictions and inference.\n",
      "/home/shrishask/.local/lib/python3.10/site-packages/transformers/training_args.py:1494: FutureWarning: `evaluation_strategy` is deprecated and will be removed in version 4.46 of 🤗 Transformers. Use `eval_strategy` instead\n",
      "  warnings.warn(\n"
     ]
    },
    {
     "data": {
      "text/html": [
       "\n",
       "    <div>\n",
       "      \n",
       "      <progress value='33600' max='33600' style='width:300px; height:20px; vertical-align: middle;'></progress>\n",
       "      [33600/33600 1:11:23, Epoch 3/3]\n",
       "    </div>\n",
       "    <table border=\"1\" class=\"dataframe\">\n",
       "  <thead>\n",
       " <tr style=\"text-align: left;\">\n",
       "      <th>Epoch</th>\n",
       "      <th>Training Loss</th>\n",
       "      <th>Validation Loss</th>\n",
       "      <th>Accuracy</th>\n",
       "      <th>F1</th>\n",
       "      <th>Precision</th>\n",
       "      <th>Recall</th>\n",
       "    </tr>\n",
       "  </thead>\n",
       "  <tbody>\n",
       "    <tr>\n",
       "      <td>1</td>\n",
       "      <td>0.364600</td>\n",
       "      <td>0.344576</td>\n",
       "      <td>0.887093</td>\n",
       "      <td>0.889006</td>\n",
       "      <td>0.884464</td>\n",
       "      <td>0.893594</td>\n",
       "    </tr>\n",
       "    <tr>\n",
       "      <td>2</td>\n",
       "      <td>0.238600</td>\n",
       "      <td>0.351147</td>\n",
       "      <td>0.891692</td>\n",
       "      <td>0.893839</td>\n",
       "      <td>0.886699</td>\n",
       "      <td>0.901094</td>\n",
       "    </tr>\n",
       "    <tr>\n",
       "      <td>3</td>\n",
       "      <td>0.296600</td>\n",
       "      <td>0.321257</td>\n",
       "      <td>0.893611</td>\n",
       "      <td>0.894018</td>\n",
       "      <td>0.901354</td>\n",
       "      <td>0.886801</td>\n",
       "    </tr>\n",
       "  </tbody>\n",
       "</table><p>"
      ],
      "text/plain": [
       "<IPython.core.display.HTML object>"
      ]
     },
     "metadata": {},
     "output_type": "display_data"
    },
    {
     "data": {
      "text/html": [
       "\n",
       "    <div>\n",
       "      \n",
       "      <progress value='2375' max='2375' style='width:300px; height:20px; vertical-align: middle;'></progress>\n",
       "      [2375/2375 02:50]\n",
       "    </div>\n",
       "    "
      ],
      "text/plain": [
       "<IPython.core.display.HTML object>"
      ]
     },
     "metadata": {},
     "output_type": "display_data"
    },
    {
     "name": "stdout",
     "output_type": "stream",
     "text": [
      "ALBERT Results: {'eval_loss': 0.30608633160591125, 'eval_accuracy': 0.8998421052631579, 'eval_f1': 0.8996678441503664, 'eval_precision': 0.9012358719763388, 'eval_recall': 0.8981052631578947, 'eval_runtime': 170.957, 'eval_samples_per_second': 222.278, 'eval_steps_per_second': 13.892, 'epoch': 3.0}\n"
     ]
    }
   ],
   "source": [
    "import os\n",
    "from transformers import AlbertTokenizer, AlbertForSequenceClassification, Trainer, TrainingArguments, DataCollatorWithPadding\n",
    "\n",
    "# Function to tokenize the dataset using the provided tokenizer\n",
    "def tokenize(batch, tokenizer):\n",
    "    return tokenizer(batch['text'], padding=True, truncation=True, max_length=512)\n",
    "\n",
    "# Tokenizer for ALBERT\n",
    "albert_tokenizer = AlbertTokenizer.from_pretrained('albert-base-v2')\n",
    "\n",
    "# Tokenize using ALBERT tokenizer\n",
    "tokenized_train_dataset_albert = train_dataset.map(lambda x: tokenize(x, albert_tokenizer), batched=True)\n",
    "tokenized_val_dataset_albert = val_dataset.map(lambda x: tokenize(x, albert_tokenizer), batched=True)\n",
    "tokenized_test_dataset_albert = test_dataset.map(lambda x: tokenize(x, albert_tokenizer), batched=True)\n",
    "\n",
    "# Data collator for ALBERT\n",
    "data_collator_albert = DataCollatorWithPadding(tokenizer=albert_tokenizer)\n",
    "\n",
    "# Model for ALBERT\n",
    "albert_model = AlbertForSequenceClassification.from_pretrained('albert-base-v2')\n",
    "\n",
    "# Training arguments for ALBERT with limited checkpointing\n",
    "albert_training_args = TrainingArguments(\n",
    "    output_dir='/data/nmamit-interns/grp3/new/result/albert',\n",
    "    num_train_epochs=3,\n",
    "    per_device_train_batch_size=8,\n",
    "    per_device_eval_batch_size=16,\n",
    "    warmup_steps=500,\n",
    "    weight_decay=0.01,\n",
    "    logging_steps=10,\n",
    "    evaluation_strategy=\"epoch\",\n",
    "    learning_rate=2e-5,\n",
    "    lr_scheduler_type='linear',\n",
    ")\n",
    "\n",
    "# Trainer for ALBERT\n",
    "albert_trainer = Trainer(\n",
    "    model=albert_model,\n",
    "    args=albert_training_args,\n",
    "    train_dataset=tokenized_train_dataset_albert,\n",
    "    eval_dataset=tokenized_val_dataset_albert,\n",
    "    data_collator=data_collator_albert,\n",
    "    compute_metrics=compute_metrics\n",
    ")\n",
    "\n",
    "# Train ALBERT \n",
    "albert_trainer.train(resume_from_checkpoint=True)\n",
    "\n",
    "# Evaluate ALBERT\n",
    "albert_results = albert_trainer.evaluate(tokenized_test_dataset_albert)\n",
    "print(\"ALBERT Results:\", albert_results)\n"
   ]
  },
  {
   "cell_type": "code",
   "execution_count": 16,
   "id": "85392fd8-16b6-46ff-b62b-bbcaeef06eeb",
   "metadata": {},
   "outputs": [
    {
     "data": {
      "text/plain": [
       "('/data/nmamit-interns/grp3/new/albert_tokenizer/tokenizer_config.json',\n",
       " '/data/nmamit-interns/grp3/new/albert_tokenizer/special_tokens_map.json',\n",
       " '/data/nmamit-interns/grp3/new/albert_tokenizer/spiece.model',\n",
       " '/data/nmamit-interns/grp3/new/albert_tokenizer/added_tokens.json')"
      ]
     },
     "execution_count": 16,
     "metadata": {},
     "output_type": "execute_result"
    }
   ],
   "source": [
    "#SAVING THE MODEL\n",
    "albert_model.save_pretrained('/data/nmamit-interns/grp3/new/albert_model')\n",
    "albert_tokenizer.save_pretrained('/data/nmamit-interns/grp3/new/albert_tokenizer')"
   ]
  },
  {
   "cell_type": "markdown",
   "id": "1a788648-83e0-47ff-a8ea-03d8e3d88633",
   "metadata": {},
   "source": [
    "#### *CONFUSION MATRIX / CLASSIFICATION REPORT*"
   ]
  },
  {
   "cell_type": "code",
   "execution_count": 18,
   "id": "f747d31f-518d-4a41-946b-27d31239963a",
   "metadata": {},
   "outputs": [
    {
     "name": "stdout",
     "output_type": "stream",
     "text": [
      "Confusion Matrix:\n",
      " [[17511  1489]\n",
      " [ 1866 17134]]\n",
      "Classification Report:\n",
      "               precision    recall  f1-score   support\n",
      "\n",
      "           0       0.90      0.92      0.91     19000\n",
      "           1       0.92      0.90      0.91     19000\n",
      "\n",
      "    accuracy                           0.91     38000\n",
      "   macro avg       0.91      0.91      0.91     38000\n",
      "weighted avg       0.91      0.91      0.91     38000\n",
      "\n"
     ]
    }
   ],
   "source": [
    "import torch\n",
    "from transformers import AlbertTokenizer, AlbertForSequenceClassification\n",
    "from sklearn.metrics import confusion_matrix, roc_curve, auc, classification_report\n",
    "import matplotlib.pyplot as plt\n",
    "import numpy as np\n",
    "\n",
    "# Load the BERT model\n",
    "loaded_albert_model =  AlbertForSequenceClassification.from_pretrained('/data/nmamit-interns/grp3/new/albert_model')\n",
    "\n",
    "# Load the BERT tokenizer\n",
    "loaded_albert_tokenizer = AlbertTokenizer.from_pretrained('/data/nmamit-interns/grp3/new/albert_tokenizer')\n",
    "\n",
    "# Load your test data\n",
    "test_texts = df_test['text'].tolist()  \n",
    "test_labels = df_test['target'].tolist()  \n",
    "\n",
    "# Move model to GPU if available\n",
    "device = torch.device('cuda') if torch.cuda.is_available() else torch.device('cpu')\n",
    "loaded_albert_model.to(device)\n",
    "\n",
    "# Function to get predictions in batches\n",
    "def get_predictions_in_batches(model, tokenizer, texts, batch_size=32):\n",
    "    model.eval()\n",
    "    all_predictions = []\n",
    "    all_logits = []\n",
    "    for i in range(0, len(texts), batch_size):\n",
    "        batch_texts = texts[i:i + batch_size]\n",
    "        encodings = tokenizer(batch_texts, truncation=True, padding=True, max_length=512, return_tensors='pt')\n",
    "        encodings = {key: val.to(device) for key, val in encodings.items()}\n",
    "        \n",
    "        with torch.no_grad():\n",
    "            outputs = model(**encodings)\n",
    "            logits = outputs.logits\n",
    "            predictions = torch.argmax(logits, dim=-1).cpu().numpy()\n",
    "        \n",
    "        all_predictions.extend(predictions)\n",
    "        all_logits.extend(logits.cpu().numpy())\n",
    "    \n",
    "    return np.array(all_predictions), np.array(all_logits)\n",
    "\n",
    "# Get predictions\n",
    "predictions, logits = get_predictions_in_batches(loaded_albert_model, loaded_albert_tokenizer, test_texts)\n",
    "\n",
    "# Calculate confusion matrix\n",
    "cm = confusion_matrix(test_labels, predictions)\n",
    "print(\"Confusion Matrix:\\n\", cm)\n",
    "\n",
    "# Generate classification report\n",
    "print(\"Classification Report:\\n\", classification_report(test_labels, predictions))\n"
   ]
  },
  {
   "cell_type": "markdown",
   "id": "76e7c14e-836a-4d88-86e6-5cce8de02cfe",
   "metadata": {},
   "source": [
    "### *ROC and AUC*"
   ]
  },
  {
   "cell_type": "code",
   "execution_count": 19,
   "id": "8cef5932-992b-4de6-abe0-17a36eb68bb8",
   "metadata": {},
   "outputs": [
    {
     "data": {
      "image/png": "[encoded data removed]",
      "text/plain": [
       "<Figure size 432x288 with 1 Axes>"
      ]
     },
     "metadata": {
      "needs_background": "light"
     },
     "output_type": "display_data"
    }
   ],
   "source": [
    "# Calculate ROC curve and AUC\n",
    "if len(np.unique(test_labels)) == 2:\n",
    "    fpr, tpr, _ = roc_curve(test_labels, logits[:, 1])\n",
    "    roc_auc = auc(fpr, tpr)\n",
    "\n",
    "    # Plot ROC curve\n",
    "    plt.figure()\n",
    "    plt.plot(fpr, tpr, color='darkorange', lw=2, label='ROC curve (area = %0.2f)' % roc_auc)\n",
    "    plt.plot([0, 1], [0, 1], color='navy', lw=2, linestyle='--')\n",
    "    plt.xlim([0.0, 1.0])\n",
    "    plt.ylim([0.0, 1.05])\n",
    "    plt.xlabel('False Positive Rate')\n",
    "    plt.ylabel('True Positive Rate')\n",
    "    plt.title('Receiver Operating Characteristic')\n",
    "    plt.legend(loc=\"lower right\")\n",
    "    plt.show()\n",
    "else:\n",
    "    print(\"ROC curve is only applicable for binary classification.\")"
   ]
  },
  {
   "cell_type": "markdown",
   "id": "b8d8cf23-6456-4c7d-8a6f-befeae64a689",
   "metadata": {},
   "source": [
    "### **PREDICTION**"
   ]
  },
  {
   "cell_type": "code",
   "execution_count": 20,
   "id": "f8757931-58c3-4a75-b586-bda63cfe9af0",
   "metadata": {},
   "outputs": [],
   "source": [
    "import torch\n",
    "\n",
    "# Function to predict a single sample\n",
    "def predict_single_sample(text):\n",
    "    device = torch.device(\"cuda\" if torch.cuda.is_available() else \"cpu\")\n",
    "    \n",
    "    # Load tokenizer and model (using the provided variable names)\n",
    "    tokenizer = loaded_albert_tokenizer\n",
    "    model = loaded_albert_model.to(device)\n",
    "    \n",
    "    model.eval()  # Setting the model to evaluation mode\n",
    "    inputs = tokenizer(text, return_tensors=\"pt\", truncation=True, padding=True, max_length=512)\n",
    "    inputs = {key: value.to(device) for key, value in inputs.items()}  \n",
    "    \n",
    "    with torch.no_grad():\n",
    "        outputs = model(**inputs)\n",
    "    logits = outputs.logits\n",
    "    prediction = torch.argmax(logits, dim=-1).item()\n",
    "    return \"1\" if prediction == 1 else \"0\""
   ]
  },
  {
   "cell_type": "code",
   "execution_count": 22,
   "id": "f439b547-11ef-40a6-ad71-04384bd04f95",
   "metadata": {},
   "outputs": [
    {
     "name": "stdout",
     "output_type": "stream",
     "text": [
      "Input text: contrary to other reviews have zero complaints about the service or the prices have been getting tire service here for the past years now and compared to my experience with places like pep boys these guys are experienced and know what they re doing nalso this is one place that do not feel like am being taken advantage of just because of my gender other auto mechanics have been notorious for capitalizing on my ignorance of cars and have sucked my bank account dry but here my service and road coverage has all been well explained and let up to me to decide nand they just renovated the waiting room it looks lot better than it did in previous years\n",
      "Actual prediction:1\n",
      "Example prediction : 0\n"
     ]
    }
   ],
   "source": [
    " # Example usage for a single test sample\n",
    "example_text = df_test['text'].iloc[0]\n",
    "example_target = df_test['target'].iloc[0]\n",
    "prediction = predict_single_sample(example_text)\n",
    "print(f\"Input text: {example_text}\")\n",
    "print(f\"Actual prediction:{example_target}\")\n",
    "print(f\"Example prediction : {prediction}\")"
   ]
  },
  {
   "cell_type": "code",
   "execution_count": null,
   "id": "faacb15b-d308-4c52-854c-e9b26d29ecc1",
   "metadata": {},
   "outputs": [],
   "source": []
  },
  {
   "cell_type": "code",
   "execution_count": 14,
   "id": "38ace4e5-606a-4aa4-9b66-78dad4b9b073",
   "metadata": {},
   "outputs": [
    {
     "data": {
      "application/vnd.jupyter.widget-view+json": {
       "model_id": "8e2247e7b2cb451597308ef0697cc1f0",
       "version_major": 2,
       "version_minor": 0
      },
      "text/plain": [
       "Map:   0%|          | 0/89594 [00:00<?, ? examples/s]"
      ]
     },
     "metadata": {},
     "output_type": "display_data"
    },
    {
     "data": {
      "application/vnd.jupyter.widget-view+json": {
       "model_id": "70d3c411e2c4406fb0b7da728e701cdf",
       "version_major": 2,
       "version_minor": 0
      },
      "text/plain": [
       "Map:   0%|          | 0/22399 [00:00<?, ? examples/s]"
      ]
     },
     "metadata": {},
     "output_type": "display_data"
    },
    {
     "data": {
      "application/vnd.jupyter.widget-view+json": {
       "model_id": "fc683d4a3b034e31aeb06e6a5ddf3af9",
       "version_major": 2,
       "version_minor": 0
      },
      "text/plain": [
       "Map:   0%|          | 0/38000 [00:00<?, ? examples/s]"
      ]
     },
     "metadata": {},
     "output_type": "display_data"
    },
    {
     "name": "stderr",
     "output_type": "stream",
     "text": [
      "Some weights of AlbertForSequenceClassification were not initialized from the model checkpoint at albert-base-v2 and are newly initialized: ['classifier.bias', 'classifier.weight']\n",
      "You should probably TRAIN this model on a down-stream task to be able to use it for predictions and inference.\n",
      "/home/shrishask/.local/lib/python3.10/site-packages/transformers/training_args.py:1494: FutureWarning: `evaluation_strategy` is deprecated and will be removed in version 4.46 of 🤗 Transformers. Use `eval_strategy` instead\n",
      "  warnings.warn(\n"
     ]
    },
    {
     "ename": "ValueError",
     "evalue": "No valid checkpoint found in output directory (/data/nmamit-interns/grp3/new/result/alberta1)",
     "output_type": "error",
     "traceback": [
      "\u001b[0;31m---------------------------------------------------------------------------\u001b[0m",
      "\u001b[0;31mValueError\u001b[0m                                Traceback (most recent call last)",
      "\u001b[0;32m/tmp/ipykernel_2683253/3607536818.py\u001b[0m in \u001b[0;36m<module>\u001b[0;34m\u001b[0m\n\u001b[1;32m     45\u001b[0m \u001b[0;34m\u001b[0m\u001b[0m\n\u001b[1;32m     46\u001b[0m \u001b[0;31m# Train ALBERT\u001b[0m\u001b[0;34m\u001b[0m\u001b[0;34m\u001b[0m\u001b[0m\n\u001b[0;32m---> 47\u001b[0;31m \u001b[0malbert_trainer\u001b[0m\u001b[0;34m.\u001b[0m\u001b[0mtrain\u001b[0m\u001b[0;34m(\u001b[0m\u001b[0mresume_from_checkpoint\u001b[0m\u001b[0;34m=\u001b[0m\u001b[0;32mTrue\u001b[0m\u001b[0;34m)\u001b[0m\u001b[0;34m\u001b[0m\u001b[0;34m\u001b[0m\u001b[0m\n\u001b[0m\u001b[1;32m     48\u001b[0m \u001b[0;34m\u001b[0m\u001b[0m\n\u001b[1;32m     49\u001b[0m \u001b[0;31m# Evaluate ALBERT\u001b[0m\u001b[0;34m\u001b[0m\u001b[0;34m\u001b[0m\u001b[0m\n",
      "\u001b[0;32m~/.local/lib/python3.10/site-packages/transformers/trainer.py\u001b[0m in \u001b[0;36mtrain\u001b[0;34m(self, resume_from_checkpoint, trial, ignore_keys_for_eval, **kwargs)\u001b[0m\n\u001b[1;32m   1898\u001b[0m             \u001b[0mresume_from_checkpoint\u001b[0m \u001b[0;34m=\u001b[0m \u001b[0mget_last_checkpoint\u001b[0m\u001b[0;34m(\u001b[0m\u001b[0margs\u001b[0m\u001b[0;34m.\u001b[0m\u001b[0moutput_dir\u001b[0m\u001b[0;34m)\u001b[0m\u001b[0;34m\u001b[0m\u001b[0;34m\u001b[0m\u001b[0m\n\u001b[1;32m   1899\u001b[0m             \u001b[0;32mif\u001b[0m \u001b[0mresume_from_checkpoint\u001b[0m \u001b[0;32mis\u001b[0m \u001b[0;32mNone\u001b[0m\u001b[0;34m:\u001b[0m\u001b[0;34m\u001b[0m\u001b[0;34m\u001b[0m\u001b[0m\n\u001b[0;32m-> 1900\u001b[0;31m                 \u001b[0;32mraise\u001b[0m \u001b[0mValueError\u001b[0m\u001b[0;34m(\u001b[0m\u001b[0;34mf\"No valid checkpoint found in output directory ({args.output_dir})\"\u001b[0m\u001b[0;34m)\u001b[0m\u001b[0;34m\u001b[0m\u001b[0;34m\u001b[0m\u001b[0m\n\u001b[0m\u001b[1;32m   1901\u001b[0m \u001b[0;34m\u001b[0m\u001b[0m\n\u001b[1;32m   1902\u001b[0m         \u001b[0;32mif\u001b[0m \u001b[0mresume_from_checkpoint\u001b[0m \u001b[0;32mis\u001b[0m \u001b[0;32mnot\u001b[0m \u001b[0;32mNone\u001b[0m\u001b[0;34m:\u001b[0m\u001b[0;34m\u001b[0m\u001b[0;34m\u001b[0m\u001b[0m\n",
      "\u001b[0;31mValueError\u001b[0m: No valid checkpoint found in output directory (/data/nmamit-interns/grp3/new/result/alberta1)"
     ]
    }
   ],
   "source": [
    "import os\n",
    "from transformers import AlbertTokenizer, AlbertForSequenceClassification, Trainer, TrainingArguments, DataCollatorWithPadding\n",
    "\n",
    "# Function to tokenize the dataset using the provided tokenizer\n",
    "def tokenize(batch, tokenizer):\n",
    "    return tokenizer(batch['text'], padding=True, truncation=True, max_length=512)\n",
    "\n",
    "# Tokenizer for ALBERT\n",
    "albert_tokenizer = AlbertTokenizer.from_pretrained('albert-base-v2')\n",
    "\n",
    "# Tokenize using ALBERT tokenizer\n",
    "tokenized_train_dataset_albert = train_dataset.map(lambda x: tokenize(x, albert_tokenizer), batched=True)\n",
    "tokenized_val_dataset_albert = val_dataset.map(lambda x: tokenize(x, albert_tokenizer), batched=True)\n",
    "tokenized_test_dataset_albert = test_dataset.map(lambda x: tokenize(x, albert_tokenizer), batched=True)\n",
    "\n",
    "# Data collator for ALBERT\n",
    "data_collator_albert = DataCollatorWithPadding(tokenizer=albert_tokenizer)\n",
    "\n",
    "# Model for ALBERT\n",
    "albert_model = AlbertForSequenceClassification.from_pretrained('albert-base-v2')\n",
    "\n",
    "# Training arguments for ALBERT with limited checkpointing\n",
    "albert_training_args = TrainingArguments(\n",
    "    output_dir='/data/nmamit-interns/grp3/new/result/alberta1',\n",
    "    num_train_epochs=3,\n",
    "    per_device_train_batch_size=8,\n",
    "    per_device_eval_batch_size=16,\n",
    "    warmup_steps=500,\n",
    "    weight_decay=0.01,\n",
    "    logging_steps=10,\n",
    "    evaluation_strategy=\"epoch\",\n",
    "    learning_rate=2e-5,\n",
    "    lr_scheduler_type='linear',\n",
    ")\n",
    "\n",
    "# Trainer for ALBERT\n",
    "albert_trainer = Trainer(\n",
    "    model=albert_model,\n",
    "    args=albert_training_args,\n",
    "    train_dataset=tokenized_train_dataset_albert,\n",
    "    eval_dataset=tokenized_val_dataset_albert,\n",
    "    data_collator=data_collator_albert,\n",
    "    compute_metrics=compute_metrics\n",
    ")\n",
    "\n",
    "# Train ALBERT \n",
    "albert_trainer.train()\n",
    "\n",
    "# Evaluate ALBERT\n",
    "albert_results = albert_trainer.evaluate(tokenized_test_dataset_albert)\n",
    "print(\"ALBERT Results:\", albert_results)\n"
   ]
  },
  {
   "cell_type": "code",
   "execution_count": 16,
   "id": "3b38eda7-048e-4b8d-bfaf-7169eeca5e83",
   "metadata": {},
   "outputs": [
    {
     "name": "stderr",
     "output_type": "stream",
     "text": [
      "Some weights of AlbertForSequenceClassification were not initialized from the model checkpoint at albert-base-v2 and are newly initialized: ['classifier.bias', 'classifier.weight']\n",
      "You should probably TRAIN this model on a down-stream task to be able to use it for predictions and inference.\n",
      "/home/shrishask/.local/lib/python3.10/site-packages/transformers/training_args.py:1494: FutureWarning: `evaluation_strategy` is deprecated and will be removed in version 4.46 of 🤗 Transformers. Use `eval_strategy` instead\n",
      "  warnings.warn(\n"
     ]
    },
    {
     "name": "stdout",
     "output_type": "stream",
     "text": [
      "RuntimeError during training: CUDA out of memory. Tried to allocate 96.00 MiB. GPU 0 has a total capacity of 79.14 GiB of which 53.44 MiB is free. Process 1347921 has 24.94 GiB memory in use. Process 1366560 has 7.83 GiB memory in use. Process 1564409 has 7.72 GiB memory in use. Process 2064778 has 28.71 GiB memory in use. Process 2594307 has 8.91 GiB memory in use. Including non-PyTorch memory, this process has 928.00 MiB memory in use. Of the allocated memory 406.48 MiB is allocated by PyTorch, and 21.52 MiB is reserved by PyTorch but unallocated. If reserved but unallocated memory is large try setting PYTORCH_CUDA_ALLOC_CONF=expandable_segments:True to avoid fragmentation.  See documentation for Memory Management  (https://pytorch.org/docs/stable/notes/cuda.html#environment-variables)\n"
     ]
    },
    {
     "ename": "OutOfMemoryError",
     "evalue": "CUDA out of memory. Tried to allocate 96.00 MiB. GPU 0 has a total capacity of 79.14 GiB of which 5.44 MiB is free. Process 1347921 has 24.94 GiB memory in use. Process 1366560 has 7.83 GiB memory in use. Process 1564409 has 7.72 GiB memory in use. Process 2064778 has 28.71 GiB memory in use. Process 2594307 has 8.91 GiB memory in use. Including non-PyTorch memory, this process has 976.00 MiB memory in use. Of the allocated memory 459.22 MiB is allocated by PyTorch, and 16.78 MiB is reserved by PyTorch but unallocated. If reserved but unallocated memory is large try setting PYTORCH_CUDA_ALLOC_CONF=expandable_segments:True to avoid fragmentation.  See documentation for Memory Management  (https://pytorch.org/docs/stable/notes/cuda.html#environment-variables)",
     "output_type": "error",
     "traceback": [
      "\u001b[0;31m---------------------------------------------------------------------------\u001b[0m",
      "\u001b[0;31mOutOfMemoryError\u001b[0m                          Traceback (most recent call last)",
      "\u001b[0;32m/tmp/ipykernel_2683253/1682858693.py\u001b[0m in \u001b[0;36m<module>\u001b[0;34m\u001b[0m\n\u001b[1;32m     38\u001b[0m \u001b[0;32mtry\u001b[0m\u001b[0;34m:\u001b[0m\u001b[0;34m\u001b[0m\u001b[0;34m\u001b[0m\u001b[0m\n\u001b[0;32m---> 39\u001b[0;31m     \u001b[0malbert_trainer\u001b[0m\u001b[0;34m.\u001b[0m\u001b[0mtrain\u001b[0m\u001b[0;34m(\u001b[0m\u001b[0;34m)\u001b[0m\u001b[0;34m\u001b[0m\u001b[0;34m\u001b[0m\u001b[0m\n\u001b[0m\u001b[1;32m     40\u001b[0m \u001b[0;32mexcept\u001b[0m \u001b[0mRuntimeError\u001b[0m \u001b[0;32mas\u001b[0m \u001b[0me\u001b[0m\u001b[0;34m:\u001b[0m\u001b[0;34m\u001b[0m\u001b[0;34m\u001b[0m\u001b[0m\n",
      "\u001b[0;32m~/.local/lib/python3.10/site-packages/transformers/trainer.py\u001b[0m in \u001b[0;36mtrain\u001b[0;34m(self, resume_from_checkpoint, trial, ignore_keys_for_eval, **kwargs)\u001b[0m\n\u001b[1;32m   1931\u001b[0m         \u001b[0;32melse\u001b[0m\u001b[0;34m:\u001b[0m\u001b[0;34m\u001b[0m\u001b[0;34m\u001b[0m\u001b[0m\n\u001b[0;32m-> 1932\u001b[0;31m             return inner_training_loop(\n\u001b[0m\u001b[1;32m   1933\u001b[0m                 \u001b[0margs\u001b[0m\u001b[0;34m=\u001b[0m\u001b[0margs\u001b[0m\u001b[0;34m,\u001b[0m\u001b[0;34m\u001b[0m\u001b[0;34m\u001b[0m\u001b[0m\n",
      "\u001b[0;32m~/.local/lib/python3.10/site-packages/transformers/trainer.py\u001b[0m in \u001b[0;36m_inner_training_loop\u001b[0;34m(self, batch_size, args, resume_from_checkpoint, trial, ignore_keys_for_eval)\u001b[0m\n\u001b[1;32m   2267\u001b[0m                 \u001b[0;32mwith\u001b[0m \u001b[0mself\u001b[0m\u001b[0;34m.\u001b[0m\u001b[0maccelerator\u001b[0m\u001b[0;34m.\u001b[0m\u001b[0maccumulate\u001b[0m\u001b[0;34m(\u001b[0m\u001b[0mmodel\u001b[0m\u001b[0;34m)\u001b[0m\u001b[0;34m:\u001b[0m\u001b[0;34m\u001b[0m\u001b[0;34m\u001b[0m\u001b[0m\n\u001b[0;32m-> 2268\u001b[0;31m                     \u001b[0mtr_loss_step\u001b[0m \u001b[0;34m=\u001b[0m \u001b[0mself\u001b[0m\u001b[0;34m.\u001b[0m\u001b[0mtraining_step\u001b[0m\u001b[0;34m(\u001b[0m\u001b[0mmodel\u001b[0m\u001b[0;34m,\u001b[0m \u001b[0minputs\u001b[0m\u001b[0;34m)\u001b[0m\u001b[0;34m\u001b[0m\u001b[0;34m\u001b[0m\u001b[0m\n\u001b[0m\u001b[1;32m   2269\u001b[0m \u001b[0;34m\u001b[0m\u001b[0m\n",
      "\u001b[0;32m~/.local/lib/python3.10/site-packages/transformers/trainer.py\u001b[0m in \u001b[0;36mtraining_step\u001b[0;34m(self, model, inputs)\u001b[0m\n\u001b[1;32m   3306\u001b[0m         \u001b[0;32mwith\u001b[0m \u001b[0mself\u001b[0m\u001b[0;34m.\u001b[0m\u001b[0mcompute_loss_context_manager\u001b[0m\u001b[0;34m(\u001b[0m\u001b[0;34m)\u001b[0m\u001b[0;34m:\u001b[0m\u001b[0;34m\u001b[0m\u001b[0;34m\u001b[0m\u001b[0m\n\u001b[0;32m-> 3307\u001b[0;31m             \u001b[0mloss\u001b[0m \u001b[0;34m=\u001b[0m \u001b[0mself\u001b[0m\u001b[0;34m.\u001b[0m\u001b[0mcompute_loss\u001b[0m\u001b[0;34m(\u001b[0m\u001b[0mmodel\u001b[0m\u001b[0;34m,\u001b[0m \u001b[0minputs\u001b[0m\u001b[0;34m)\u001b[0m\u001b[0;34m\u001b[0m\u001b[0;34m\u001b[0m\u001b[0m\n\u001b[0m\u001b[1;32m   3308\u001b[0m \u001b[0;34m\u001b[0m\u001b[0m\n",
      "\u001b[0;32m~/.local/lib/python3.10/site-packages/transformers/trainer.py\u001b[0m in \u001b[0;36mcompute_loss\u001b[0;34m(self, model, inputs, return_outputs)\u001b[0m\n\u001b[1;32m   3337\u001b[0m             \u001b[0mlabels\u001b[0m \u001b[0;34m=\u001b[0m \u001b[0;32mNone\u001b[0m\u001b[0;34m\u001b[0m\u001b[0;34m\u001b[0m\u001b[0m\n\u001b[0;32m-> 3338\u001b[0;31m         \u001b[0moutputs\u001b[0m \u001b[0;34m=\u001b[0m \u001b[0mmodel\u001b[0m\u001b[0;34m(\u001b[0m\u001b[0;34m**\u001b[0m\u001b[0minputs\u001b[0m\u001b[0;34m)\u001b[0m\u001b[0;34m\u001b[0m\u001b[0;34m\u001b[0m\u001b[0m\n\u001b[0m\u001b[1;32m   3339\u001b[0m         \u001b[0;31m# Save past state if it exists\u001b[0m\u001b[0;34m\u001b[0m\u001b[0;34m\u001b[0m\u001b[0m\n",
      "\u001b[0;32m/usr/local/lib/python3.10/dist-packages/torch/nn/modules/module.py\u001b[0m in \u001b[0;36m_wrapped_call_impl\u001b[0;34m(self, *args, **kwargs)\u001b[0m\n\u001b[1;32m   1510\u001b[0m         \u001b[0;32melse\u001b[0m\u001b[0;34m:\u001b[0m\u001b[0;34m\u001b[0m\u001b[0;34m\u001b[0m\u001b[0m\n\u001b[0;32m-> 1511\u001b[0;31m             \u001b[0;32mreturn\u001b[0m \u001b[0mself\u001b[0m\u001b[0;34m.\u001b[0m\u001b[0m_call_impl\u001b[0m\u001b[0;34m(\u001b[0m\u001b[0;34m*\u001b[0m\u001b[0margs\u001b[0m\u001b[0;34m,\u001b[0m \u001b[0;34m**\u001b[0m\u001b[0mkwargs\u001b[0m\u001b[0;34m)\u001b[0m\u001b[0;34m\u001b[0m\u001b[0;34m\u001b[0m\u001b[0m\n\u001b[0m\u001b[1;32m   1512\u001b[0m \u001b[0;34m\u001b[0m\u001b[0m\n",
      "\u001b[0;32m/usr/local/lib/python3.10/dist-packages/torch/nn/modules/module.py\u001b[0m in \u001b[0;36m_call_impl\u001b[0;34m(self, *args, **kwargs)\u001b[0m\n\u001b[1;32m   1519\u001b[0m                 or _global_forward_hooks or _global_forward_pre_hooks):\n\u001b[0;32m-> 1520\u001b[0;31m             \u001b[0;32mreturn\u001b[0m \u001b[0mforward_call\u001b[0m\u001b[0;34m(\u001b[0m\u001b[0;34m*\u001b[0m\u001b[0margs\u001b[0m\u001b[0;34m,\u001b[0m \u001b[0;34m**\u001b[0m\u001b[0mkwargs\u001b[0m\u001b[0;34m)\u001b[0m\u001b[0;34m\u001b[0m\u001b[0;34m\u001b[0m\u001b[0m\n\u001b[0m\u001b[1;32m   1521\u001b[0m \u001b[0;34m\u001b[0m\u001b[0m\n",
      "\u001b[0;32m~/.local/lib/python3.10/site-packages/transformers/models/albert/modeling_albert.py\u001b[0m in \u001b[0;36mforward\u001b[0;34m(self, input_ids, attention_mask, token_type_ids, position_ids, head_mask, inputs_embeds, labels, output_attentions, output_hidden_states, return_dict)\u001b[0m\n\u001b[1;32m   1058\u001b[0m \u001b[0;34m\u001b[0m\u001b[0m\n\u001b[0;32m-> 1059\u001b[0;31m         outputs = self.albert(\n\u001b[0m\u001b[1;32m   1060\u001b[0m             \u001b[0minput_ids\u001b[0m\u001b[0;34m=\u001b[0m\u001b[0minput_ids\u001b[0m\u001b[0;34m,\u001b[0m\u001b[0;34m\u001b[0m\u001b[0;34m\u001b[0m\u001b[0m\n",
      "\u001b[0;32m/usr/local/lib/python3.10/dist-packages/torch/nn/modules/module.py\u001b[0m in \u001b[0;36m_wrapped_call_impl\u001b[0;34m(self, *args, **kwargs)\u001b[0m\n\u001b[1;32m   1510\u001b[0m         \u001b[0;32melse\u001b[0m\u001b[0;34m:\u001b[0m\u001b[0;34m\u001b[0m\u001b[0;34m\u001b[0m\u001b[0m\n\u001b[0;32m-> 1511\u001b[0;31m             \u001b[0;32mreturn\u001b[0m \u001b[0mself\u001b[0m\u001b[0;34m.\u001b[0m\u001b[0m_call_impl\u001b[0m\u001b[0;34m(\u001b[0m\u001b[0;34m*\u001b[0m\u001b[0margs\u001b[0m\u001b[0;34m,\u001b[0m \u001b[0;34m**\u001b[0m\u001b[0mkwargs\u001b[0m\u001b[0;34m)\u001b[0m\u001b[0;34m\u001b[0m\u001b[0;34m\u001b[0m\u001b[0m\n\u001b[0m\u001b[1;32m   1512\u001b[0m \u001b[0;34m\u001b[0m\u001b[0m\n",
      "\u001b[0;32m/usr/local/lib/python3.10/dist-packages/torch/nn/modules/module.py\u001b[0m in \u001b[0;36m_call_impl\u001b[0;34m(self, *args, **kwargs)\u001b[0m\n\u001b[1;32m   1519\u001b[0m                 or _global_forward_hooks or _global_forward_pre_hooks):\n\u001b[0;32m-> 1520\u001b[0;31m             \u001b[0;32mreturn\u001b[0m \u001b[0mforward_call\u001b[0m\u001b[0;34m(\u001b[0m\u001b[0;34m*\u001b[0m\u001b[0margs\u001b[0m\u001b[0;34m,\u001b[0m \u001b[0;34m**\u001b[0m\u001b[0mkwargs\u001b[0m\u001b[0;34m)\u001b[0m\u001b[0;34m\u001b[0m\u001b[0;34m\u001b[0m\u001b[0m\n\u001b[0m\u001b[1;32m   1521\u001b[0m \u001b[0;34m\u001b[0m\u001b[0m\n",
      "\u001b[0;32m~/.local/lib/python3.10/site-packages/transformers/models/albert/modeling_albert.py\u001b[0m in \u001b[0;36mforward\u001b[0;34m(self, input_ids, attention_mask, token_type_ids, position_ids, head_mask, inputs_embeds, output_attentions, output_hidden_states, return_dict)\u001b[0m\n\u001b[1;32m    718\u001b[0m         )\n\u001b[0;32m--> 719\u001b[0;31m         encoder_outputs = self.encoder(\n\u001b[0m\u001b[1;32m    720\u001b[0m             \u001b[0membedding_output\u001b[0m\u001b[0;34m,\u001b[0m\u001b[0;34m\u001b[0m\u001b[0;34m\u001b[0m\u001b[0m\n",
      "\u001b[0;32m/usr/local/lib/python3.10/dist-packages/torch/nn/modules/module.py\u001b[0m in \u001b[0;36m_wrapped_call_impl\u001b[0;34m(self, *args, **kwargs)\u001b[0m\n\u001b[1;32m   1510\u001b[0m         \u001b[0;32melse\u001b[0m\u001b[0;34m:\u001b[0m\u001b[0;34m\u001b[0m\u001b[0;34m\u001b[0m\u001b[0m\n\u001b[0;32m-> 1511\u001b[0;31m             \u001b[0;32mreturn\u001b[0m \u001b[0mself\u001b[0m\u001b[0;34m.\u001b[0m\u001b[0m_call_impl\u001b[0m\u001b[0;34m(\u001b[0m\u001b[0;34m*\u001b[0m\u001b[0margs\u001b[0m\u001b[0;34m,\u001b[0m \u001b[0;34m**\u001b[0m\u001b[0mkwargs\u001b[0m\u001b[0;34m)\u001b[0m\u001b[0;34m\u001b[0m\u001b[0;34m\u001b[0m\u001b[0m\n\u001b[0m\u001b[1;32m   1512\u001b[0m \u001b[0;34m\u001b[0m\u001b[0m\n",
      "\u001b[0;32m/usr/local/lib/python3.10/dist-packages/torch/nn/modules/module.py\u001b[0m in \u001b[0;36m_call_impl\u001b[0;34m(self, *args, **kwargs)\u001b[0m\n\u001b[1;32m   1519\u001b[0m                 or _global_forward_hooks or _global_forward_pre_hooks):\n\u001b[0;32m-> 1520\u001b[0;31m             \u001b[0;32mreturn\u001b[0m \u001b[0mforward_call\u001b[0m\u001b[0;34m(\u001b[0m\u001b[0;34m*\u001b[0m\u001b[0margs\u001b[0m\u001b[0;34m,\u001b[0m \u001b[0;34m**\u001b[0m\u001b[0mkwargs\u001b[0m\u001b[0;34m)\u001b[0m\u001b[0;34m\u001b[0m\u001b[0;34m\u001b[0m\u001b[0m\n\u001b[0m\u001b[1;32m   1521\u001b[0m \u001b[0;34m\u001b[0m\u001b[0m\n",
      "\u001b[0;32m~/.local/lib/python3.10/site-packages/transformers/models/albert/modeling_albert.py\u001b[0m in \u001b[0;36mforward\u001b[0;34m(self, hidden_states, attention_mask, head_mask, output_attentions, output_hidden_states, return_dict)\u001b[0m\n\u001b[1;32m    467\u001b[0m \u001b[0;34m\u001b[0m\u001b[0m\n\u001b[0;32m--> 468\u001b[0;31m             layer_group_output = self.albert_layer_groups[group_idx](\n\u001b[0m\u001b[1;32m    469\u001b[0m                 \u001b[0mhidden_states\u001b[0m\u001b[0;34m,\u001b[0m\u001b[0;34m\u001b[0m\u001b[0;34m\u001b[0m\u001b[0m\n",
      "\u001b[0;32m/usr/local/lib/python3.10/dist-packages/torch/nn/modules/module.py\u001b[0m in \u001b[0;36m_wrapped_call_impl\u001b[0;34m(self, *args, **kwargs)\u001b[0m\n\u001b[1;32m   1510\u001b[0m         \u001b[0;32melse\u001b[0m\u001b[0;34m:\u001b[0m\u001b[0;34m\u001b[0m\u001b[0;34m\u001b[0m\u001b[0m\n\u001b[0;32m-> 1511\u001b[0;31m             \u001b[0;32mreturn\u001b[0m \u001b[0mself\u001b[0m\u001b[0;34m.\u001b[0m\u001b[0m_call_impl\u001b[0m\u001b[0;34m(\u001b[0m\u001b[0;34m*\u001b[0m\u001b[0margs\u001b[0m\u001b[0;34m,\u001b[0m \u001b[0;34m**\u001b[0m\u001b[0mkwargs\u001b[0m\u001b[0;34m)\u001b[0m\u001b[0;34m\u001b[0m\u001b[0;34m\u001b[0m\u001b[0m\n\u001b[0m\u001b[1;32m   1512\u001b[0m \u001b[0;34m\u001b[0m\u001b[0m\n",
      "\u001b[0;32m/usr/local/lib/python3.10/dist-packages/torch/nn/modules/module.py\u001b[0m in \u001b[0;36m_call_impl\u001b[0;34m(self, *args, **kwargs)\u001b[0m\n\u001b[1;32m   1519\u001b[0m                 or _global_forward_hooks or _global_forward_pre_hooks):\n\u001b[0;32m-> 1520\u001b[0;31m             \u001b[0;32mreturn\u001b[0m \u001b[0mforward_call\u001b[0m\u001b[0;34m(\u001b[0m\u001b[0;34m*\u001b[0m\u001b[0margs\u001b[0m\u001b[0;34m,\u001b[0m \u001b[0;34m**\u001b[0m\u001b[0mkwargs\u001b[0m\u001b[0;34m)\u001b[0m\u001b[0;34m\u001b[0m\u001b[0;34m\u001b[0m\u001b[0m\n\u001b[0m\u001b[1;32m   1521\u001b[0m \u001b[0;34m\u001b[0m\u001b[0m\n",
      "\u001b[0;32m~/.local/lib/python3.10/site-packages/transformers/models/albert/modeling_albert.py\u001b[0m in \u001b[0;36mforward\u001b[0;34m(self, hidden_states, attention_mask, head_mask, output_attentions, output_hidden_states)\u001b[0m\n\u001b[1;32m    419\u001b[0m         \u001b[0;32mfor\u001b[0m \u001b[0mlayer_index\u001b[0m\u001b[0;34m,\u001b[0m \u001b[0malbert_layer\u001b[0m \u001b[0;32min\u001b[0m \u001b[0menumerate\u001b[0m\u001b[0;34m(\u001b[0m\u001b[0mself\u001b[0m\u001b[0;34m.\u001b[0m\u001b[0malbert_layers\u001b[0m\u001b[0;34m)\u001b[0m\u001b[0;34m:\u001b[0m\u001b[0;34m\u001b[0m\u001b[0;34m\u001b[0m\u001b[0m\n\u001b[0;32m--> 420\u001b[0;31m             \u001b[0mlayer_output\u001b[0m \u001b[0;34m=\u001b[0m \u001b[0malbert_layer\u001b[0m\u001b[0;34m(\u001b[0m\u001b[0mhidden_states\u001b[0m\u001b[0;34m,\u001b[0m \u001b[0mattention_mask\u001b[0m\u001b[0;34m,\u001b[0m \u001b[0mhead_mask\u001b[0m\u001b[0;34m[\u001b[0m\u001b[0mlayer_index\u001b[0m\u001b[0;34m]\u001b[0m\u001b[0;34m,\u001b[0m \u001b[0moutput_attentions\u001b[0m\u001b[0;34m)\u001b[0m\u001b[0;34m\u001b[0m\u001b[0;34m\u001b[0m\u001b[0m\n\u001b[0m\u001b[1;32m    421\u001b[0m             \u001b[0mhidden_states\u001b[0m \u001b[0;34m=\u001b[0m \u001b[0mlayer_output\u001b[0m\u001b[0;34m[\u001b[0m\u001b[0;36m0\u001b[0m\u001b[0;34m]\u001b[0m\u001b[0;34m\u001b[0m\u001b[0;34m\u001b[0m\u001b[0m\n",
      "\u001b[0;32m/usr/local/lib/python3.10/dist-packages/torch/nn/modules/module.py\u001b[0m in \u001b[0;36m_wrapped_call_impl\u001b[0;34m(self, *args, **kwargs)\u001b[0m\n\u001b[1;32m   1510\u001b[0m         \u001b[0;32melse\u001b[0m\u001b[0;34m:\u001b[0m\u001b[0;34m\u001b[0m\u001b[0;34m\u001b[0m\u001b[0m\n\u001b[0;32m-> 1511\u001b[0;31m             \u001b[0;32mreturn\u001b[0m \u001b[0mself\u001b[0m\u001b[0;34m.\u001b[0m\u001b[0m_call_impl\u001b[0m\u001b[0;34m(\u001b[0m\u001b[0;34m*\u001b[0m\u001b[0margs\u001b[0m\u001b[0;34m,\u001b[0m \u001b[0;34m**\u001b[0m\u001b[0mkwargs\u001b[0m\u001b[0;34m)\u001b[0m\u001b[0;34m\u001b[0m\u001b[0;34m\u001b[0m\u001b[0m\n\u001b[0m\u001b[1;32m   1512\u001b[0m \u001b[0;34m\u001b[0m\u001b[0m\n",
      "\u001b[0;32m/usr/local/lib/python3.10/dist-packages/torch/nn/modules/module.py\u001b[0m in \u001b[0;36m_call_impl\u001b[0;34m(self, *args, **kwargs)\u001b[0m\n\u001b[1;32m   1519\u001b[0m                 or _global_forward_hooks or _global_forward_pre_hooks):\n\u001b[0;32m-> 1520\u001b[0;31m             \u001b[0;32mreturn\u001b[0m \u001b[0mforward_call\u001b[0m\u001b[0;34m(\u001b[0m\u001b[0;34m*\u001b[0m\u001b[0margs\u001b[0m\u001b[0;34m,\u001b[0m \u001b[0;34m**\u001b[0m\u001b[0mkwargs\u001b[0m\u001b[0;34m)\u001b[0m\u001b[0;34m\u001b[0m\u001b[0;34m\u001b[0m\u001b[0m\n\u001b[0m\u001b[1;32m   1521\u001b[0m \u001b[0;34m\u001b[0m\u001b[0m\n",
      "\u001b[0;32m~/.local/lib/python3.10/site-packages/transformers/models/albert/modeling_albert.py\u001b[0m in \u001b[0;36mforward\u001b[0;34m(self, hidden_states, attention_mask, head_mask, output_attentions, output_hidden_states)\u001b[0m\n\u001b[1;32m    382\u001b[0m     ) -> Tuple[torch.Tensor, torch.Tensor]:\n\u001b[0;32m--> 383\u001b[0;31m         \u001b[0mattention_output\u001b[0m \u001b[0;34m=\u001b[0m \u001b[0mself\u001b[0m\u001b[0;34m.\u001b[0m\u001b[0mattention\u001b[0m\u001b[0;34m(\u001b[0m\u001b[0mhidden_states\u001b[0m\u001b[0;34m,\u001b[0m \u001b[0mattention_mask\u001b[0m\u001b[0;34m,\u001b[0m \u001b[0mhead_mask\u001b[0m\u001b[0;34m,\u001b[0m \u001b[0moutput_attentions\u001b[0m\u001b[0;34m)\u001b[0m\u001b[0;34m\u001b[0m\u001b[0;34m\u001b[0m\u001b[0m\n\u001b[0m\u001b[1;32m    384\u001b[0m \u001b[0;34m\u001b[0m\u001b[0m\n",
      "\u001b[0;32m/usr/local/lib/python3.10/dist-packages/torch/nn/modules/module.py\u001b[0m in \u001b[0;36m_wrapped_call_impl\u001b[0;34m(self, *args, **kwargs)\u001b[0m\n\u001b[1;32m   1510\u001b[0m         \u001b[0;32melse\u001b[0m\u001b[0;34m:\u001b[0m\u001b[0;34m\u001b[0m\u001b[0;34m\u001b[0m\u001b[0m\n\u001b[0;32m-> 1511\u001b[0;31m             \u001b[0;32mreturn\u001b[0m \u001b[0mself\u001b[0m\u001b[0;34m.\u001b[0m\u001b[0m_call_impl\u001b[0m\u001b[0;34m(\u001b[0m\u001b[0;34m*\u001b[0m\u001b[0margs\u001b[0m\u001b[0;34m,\u001b[0m \u001b[0;34m**\u001b[0m\u001b[0mkwargs\u001b[0m\u001b[0;34m)\u001b[0m\u001b[0;34m\u001b[0m\u001b[0;34m\u001b[0m\u001b[0m\n\u001b[0m\u001b[1;32m   1512\u001b[0m \u001b[0;34m\u001b[0m\u001b[0m\n",
      "\u001b[0;32m/usr/local/lib/python3.10/dist-packages/torch/nn/modules/module.py\u001b[0m in \u001b[0;36m_call_impl\u001b[0;34m(self, *args, **kwargs)\u001b[0m\n\u001b[1;32m   1519\u001b[0m                 or _global_forward_hooks or _global_forward_pre_hooks):\n\u001b[0;32m-> 1520\u001b[0;31m             \u001b[0;32mreturn\u001b[0m \u001b[0mforward_call\u001b[0m\u001b[0;34m(\u001b[0m\u001b[0;34m*\u001b[0m\u001b[0margs\u001b[0m\u001b[0;34m,\u001b[0m \u001b[0;34m**\u001b[0m\u001b[0mkwargs\u001b[0m\u001b[0;34m)\u001b[0m\u001b[0;34m\u001b[0m\u001b[0;34m\u001b[0m\u001b[0m\n\u001b[0m\u001b[1;32m   1521\u001b[0m \u001b[0;34m\u001b[0m\u001b[0m\n",
      "\u001b[0;32m~/.local/lib/python3.10/site-packages/transformers/models/albert/modeling_albert.py\u001b[0m in \u001b[0;36mforward\u001b[0;34m(self, hidden_states, attention_mask, head_mask, output_attentions)\u001b[0m\n\u001b[1;32m    317\u001b[0m         \u001b[0;31m# Take the dot product between \"query\" and \"key\" to get the raw attention scores.\u001b[0m\u001b[0;34m\u001b[0m\u001b[0;34m\u001b[0m\u001b[0m\n\u001b[0;32m--> 318\u001b[0;31m         \u001b[0mattention_scores\u001b[0m \u001b[0;34m=\u001b[0m \u001b[0mtorch\u001b[0m\u001b[0;34m.\u001b[0m\u001b[0mmatmul\u001b[0m\u001b[0;34m(\u001b[0m\u001b[0mquery_layer\u001b[0m\u001b[0;34m,\u001b[0m \u001b[0mkey_layer\u001b[0m\u001b[0;34m.\u001b[0m\u001b[0mtranspose\u001b[0m\u001b[0;34m(\u001b[0m\u001b[0;34m-\u001b[0m\u001b[0;36m1\u001b[0m\u001b[0;34m,\u001b[0m \u001b[0;34m-\u001b[0m\u001b[0;36m2\u001b[0m\u001b[0;34m)\u001b[0m\u001b[0;34m)\u001b[0m\u001b[0;34m\u001b[0m\u001b[0;34m\u001b[0m\u001b[0m\n\u001b[0m\u001b[1;32m    319\u001b[0m         \u001b[0mattention_scores\u001b[0m \u001b[0;34m=\u001b[0m \u001b[0mattention_scores\u001b[0m \u001b[0;34m/\u001b[0m \u001b[0mmath\u001b[0m\u001b[0;34m.\u001b[0m\u001b[0msqrt\u001b[0m\u001b[0;34m(\u001b[0m\u001b[0mself\u001b[0m\u001b[0;34m.\u001b[0m\u001b[0mattention_head_size\u001b[0m\u001b[0;34m)\u001b[0m\u001b[0;34m\u001b[0m\u001b[0;34m\u001b[0m\u001b[0m\n",
      "\u001b[0;31mOutOfMemoryError\u001b[0m: CUDA out of memory. Tried to allocate 96.00 MiB. GPU 0 has a total capacity of 79.14 GiB of which 53.44 MiB is free. Process 1347921 has 24.94 GiB memory in use. Process 1366560 has 7.83 GiB memory in use. Process 1564409 has 7.72 GiB memory in use. Process 2064778 has 28.71 GiB memory in use. Process 2594307 has 8.91 GiB memory in use. Including non-PyTorch memory, this process has 928.00 MiB memory in use. Of the allocated memory 406.48 MiB is allocated by PyTorch, and 21.52 MiB is reserved by PyTorch but unallocated. If reserved but unallocated memory is large try setting PYTORCH_CUDA_ALLOC_CONF=expandable_segments:True to avoid fragmentation.  See documentation for Memory Management  (https://pytorch.org/docs/stable/notes/cuda.html#environment-variables)",
      "\nDuring handling of the above exception, another exception occurred:\n",
      "\u001b[0;31mOutOfMemoryError\u001b[0m                          Traceback (most recent call last)",
      "\u001b[0;32m/tmp/ipykernel_2683253/1682858693.py\u001b[0m in \u001b[0;36m<module>\u001b[0;34m\u001b[0m\n\u001b[1;32m     41\u001b[0m     \u001b[0mprint\u001b[0m\u001b[0;34m(\u001b[0m\u001b[0;34mf\"RuntimeError during training: {e}\"\u001b[0m\u001b[0;34m)\u001b[0m\u001b[0;34m\u001b[0m\u001b[0;34m\u001b[0m\u001b[0m\n\u001b[1;32m     42\u001b[0m     \u001b[0mtorch\u001b[0m\u001b[0;34m.\u001b[0m\u001b[0mcuda\u001b[0m\u001b[0;34m.\u001b[0m\u001b[0mempty_cache\u001b[0m\u001b[0;34m(\u001b[0m\u001b[0;34m)\u001b[0m\u001b[0;34m\u001b[0m\u001b[0;34m\u001b[0m\u001b[0m\n\u001b[0;32m---> 43\u001b[0;31m     \u001b[0malbert_trainer\u001b[0m\u001b[0;34m.\u001b[0m\u001b[0mtrain\u001b[0m\u001b[0;34m(\u001b[0m\u001b[0;34m)\u001b[0m\u001b[0;34m\u001b[0m\u001b[0;34m\u001b[0m\u001b[0m\n\u001b[0m\u001b[1;32m     44\u001b[0m \u001b[0;34m\u001b[0m\u001b[0m\n\u001b[1;32m     45\u001b[0m \u001b[0;31m# Evaluate ALBERT\u001b[0m\u001b[0;34m\u001b[0m\u001b[0;34m\u001b[0m\u001b[0m\n",
      "\u001b[0;32m~/.local/lib/python3.10/site-packages/transformers/trainer.py\u001b[0m in \u001b[0;36mtrain\u001b[0;34m(self, resume_from_checkpoint, trial, ignore_keys_for_eval, **kwargs)\u001b[0m\n\u001b[1;32m   1930\u001b[0m                 \u001b[0mhf_hub_utils\u001b[0m\u001b[0;34m.\u001b[0m\u001b[0menable_progress_bars\u001b[0m\u001b[0;34m(\u001b[0m\u001b[0;34m)\u001b[0m\u001b[0;34m\u001b[0m\u001b[0;34m\u001b[0m\u001b[0m\n\u001b[1;32m   1931\u001b[0m         \u001b[0;32melse\u001b[0m\u001b[0;34m:\u001b[0m\u001b[0;34m\u001b[0m\u001b[0;34m\u001b[0m\u001b[0m\n\u001b[0;32m-> 1932\u001b[0;31m             return inner_training_loop(\n\u001b[0m\u001b[1;32m   1933\u001b[0m                 \u001b[0margs\u001b[0m\u001b[0;34m=\u001b[0m\u001b[0margs\u001b[0m\u001b[0;34m,\u001b[0m\u001b[0;34m\u001b[0m\u001b[0;34m\u001b[0m\u001b[0m\n\u001b[1;32m   1934\u001b[0m                 \u001b[0mresume_from_checkpoint\u001b[0m\u001b[0;34m=\u001b[0m\u001b[0mresume_from_checkpoint\u001b[0m\u001b[0;34m,\u001b[0m\u001b[0;34m\u001b[0m\u001b[0;34m\u001b[0m\u001b[0m\n",
      "\u001b[0;32m~/.local/lib/python3.10/site-packages/transformers/trainer.py\u001b[0m in \u001b[0;36m_inner_training_loop\u001b[0;34m(self, batch_size, args, resume_from_checkpoint, trial, ignore_keys_for_eval)\u001b[0m\n\u001b[1;32m   2266\u001b[0m \u001b[0;34m\u001b[0m\u001b[0m\n\u001b[1;32m   2267\u001b[0m                 \u001b[0;32mwith\u001b[0m \u001b[0mself\u001b[0m\u001b[0;34m.\u001b[0m\u001b[0maccelerator\u001b[0m\u001b[0;34m.\u001b[0m\u001b[0maccumulate\u001b[0m\u001b[0;34m(\u001b[0m\u001b[0mmodel\u001b[0m\u001b[0;34m)\u001b[0m\u001b[0;34m:\u001b[0m\u001b[0;34m\u001b[0m\u001b[0;34m\u001b[0m\u001b[0m\n\u001b[0;32m-> 2268\u001b[0;31m                     \u001b[0mtr_loss_step\u001b[0m \u001b[0;34m=\u001b[0m \u001b[0mself\u001b[0m\u001b[0;34m.\u001b[0m\u001b[0mtraining_step\u001b[0m\u001b[0;34m(\u001b[0m\u001b[0mmodel\u001b[0m\u001b[0;34m,\u001b[0m \u001b[0minputs\u001b[0m\u001b[0;34m)\u001b[0m\u001b[0;34m\u001b[0m\u001b[0;34m\u001b[0m\u001b[0m\n\u001b[0m\u001b[1;32m   2269\u001b[0m \u001b[0;34m\u001b[0m\u001b[0m\n\u001b[1;32m   2270\u001b[0m                 if (\n",
      "\u001b[0;32m~/.local/lib/python3.10/site-packages/transformers/trainer.py\u001b[0m in \u001b[0;36mtraining_step\u001b[0;34m(self, model, inputs)\u001b[0m\n\u001b[1;32m   3305\u001b[0m \u001b[0;34m\u001b[0m\u001b[0m\n\u001b[1;32m   3306\u001b[0m         \u001b[0;32mwith\u001b[0m \u001b[0mself\u001b[0m\u001b[0;34m.\u001b[0m\u001b[0mcompute_loss_context_manager\u001b[0m\u001b[0;34m(\u001b[0m\u001b[0;34m)\u001b[0m\u001b[0;34m:\u001b[0m\u001b[0;34m\u001b[0m\u001b[0;34m\u001b[0m\u001b[0m\n\u001b[0;32m-> 3307\u001b[0;31m             \u001b[0mloss\u001b[0m \u001b[0;34m=\u001b[0m \u001b[0mself\u001b[0m\u001b[0;34m.\u001b[0m\u001b[0mcompute_loss\u001b[0m\u001b[0;34m(\u001b[0m\u001b[0mmodel\u001b[0m\u001b[0;34m,\u001b[0m \u001b[0minputs\u001b[0m\u001b[0;34m)\u001b[0m\u001b[0;34m\u001b[0m\u001b[0;34m\u001b[0m\u001b[0m\n\u001b[0m\u001b[1;32m   3308\u001b[0m \u001b[0;34m\u001b[0m\u001b[0m\n\u001b[1;32m   3309\u001b[0m         \u001b[0;32mdel\u001b[0m \u001b[0minputs\u001b[0m\u001b[0;34m\u001b[0m\u001b[0;34m\u001b[0m\u001b[0m\n",
      "\u001b[0;32m~/.local/lib/python3.10/site-packages/transformers/trainer.py\u001b[0m in \u001b[0;36mcompute_loss\u001b[0;34m(self, model, inputs, return_outputs)\u001b[0m\n\u001b[1;32m   3336\u001b[0m         \u001b[0;32melse\u001b[0m\u001b[0;34m:\u001b[0m\u001b[0;34m\u001b[0m\u001b[0;34m\u001b[0m\u001b[0m\n\u001b[1;32m   3337\u001b[0m             \u001b[0mlabels\u001b[0m \u001b[0;34m=\u001b[0m \u001b[0;32mNone\u001b[0m\u001b[0;34m\u001b[0m\u001b[0;34m\u001b[0m\u001b[0m\n\u001b[0;32m-> 3338\u001b[0;31m         \u001b[0moutputs\u001b[0m \u001b[0;34m=\u001b[0m \u001b[0mmodel\u001b[0m\u001b[0;34m(\u001b[0m\u001b[0;34m**\u001b[0m\u001b[0minputs\u001b[0m\u001b[0;34m)\u001b[0m\u001b[0;34m\u001b[0m\u001b[0;34m\u001b[0m\u001b[0m\n\u001b[0m\u001b[1;32m   3339\u001b[0m         \u001b[0;31m# Save past state if it exists\u001b[0m\u001b[0;34m\u001b[0m\u001b[0;34m\u001b[0m\u001b[0m\n\u001b[1;32m   3340\u001b[0m         \u001b[0;31m# TODO: this needs to be fixed and made cleaner later.\u001b[0m\u001b[0;34m\u001b[0m\u001b[0;34m\u001b[0m\u001b[0m\n",
      "\u001b[0;32m/usr/local/lib/python3.10/dist-packages/torch/nn/modules/module.py\u001b[0m in \u001b[0;36m_wrapped_call_impl\u001b[0;34m(self, *args, **kwargs)\u001b[0m\n\u001b[1;32m   1509\u001b[0m             \u001b[0;32mreturn\u001b[0m \u001b[0mself\u001b[0m\u001b[0;34m.\u001b[0m\u001b[0m_compiled_call_impl\u001b[0m\u001b[0;34m(\u001b[0m\u001b[0;34m*\u001b[0m\u001b[0margs\u001b[0m\u001b[0;34m,\u001b[0m \u001b[0;34m**\u001b[0m\u001b[0mkwargs\u001b[0m\u001b[0;34m)\u001b[0m  \u001b[0;31m# type: ignore[misc]\u001b[0m\u001b[0;34m\u001b[0m\u001b[0;34m\u001b[0m\u001b[0m\n\u001b[1;32m   1510\u001b[0m         \u001b[0;32melse\u001b[0m\u001b[0;34m:\u001b[0m\u001b[0;34m\u001b[0m\u001b[0;34m\u001b[0m\u001b[0m\n\u001b[0;32m-> 1511\u001b[0;31m             \u001b[0;32mreturn\u001b[0m \u001b[0mself\u001b[0m\u001b[0;34m.\u001b[0m\u001b[0m_call_impl\u001b[0m\u001b[0;34m(\u001b[0m\u001b[0;34m*\u001b[0m\u001b[0margs\u001b[0m\u001b[0;34m,\u001b[0m \u001b[0;34m**\u001b[0m\u001b[0mkwargs\u001b[0m\u001b[0;34m)\u001b[0m\u001b[0;34m\u001b[0m\u001b[0;34m\u001b[0m\u001b[0m\n\u001b[0m\u001b[1;32m   1512\u001b[0m \u001b[0;34m\u001b[0m\u001b[0m\n\u001b[1;32m   1513\u001b[0m     \u001b[0;32mdef\u001b[0m \u001b[0m_call_impl\u001b[0m\u001b[0;34m(\u001b[0m\u001b[0mself\u001b[0m\u001b[0;34m,\u001b[0m \u001b[0;34m*\u001b[0m\u001b[0margs\u001b[0m\u001b[0;34m,\u001b[0m \u001b[0;34m**\u001b[0m\u001b[0mkwargs\u001b[0m\u001b[0;34m)\u001b[0m\u001b[0;34m:\u001b[0m\u001b[0;34m\u001b[0m\u001b[0;34m\u001b[0m\u001b[0m\n",
      "\u001b[0;32m/usr/local/lib/python3.10/dist-packages/torch/nn/modules/module.py\u001b[0m in \u001b[0;36m_call_impl\u001b[0;34m(self, *args, **kwargs)\u001b[0m\n\u001b[1;32m   1518\u001b[0m                 \u001b[0;32mor\u001b[0m \u001b[0m_global_backward_pre_hooks\u001b[0m \u001b[0;32mor\u001b[0m \u001b[0m_global_backward_hooks\u001b[0m\u001b[0;34m\u001b[0m\u001b[0;34m\u001b[0m\u001b[0m\n\u001b[1;32m   1519\u001b[0m                 or _global_forward_hooks or _global_forward_pre_hooks):\n\u001b[0;32m-> 1520\u001b[0;31m             \u001b[0;32mreturn\u001b[0m \u001b[0mforward_call\u001b[0m\u001b[0;34m(\u001b[0m\u001b[0;34m*\u001b[0m\u001b[0margs\u001b[0m\u001b[0;34m,\u001b[0m \u001b[0;34m**\u001b[0m\u001b[0mkwargs\u001b[0m\u001b[0;34m)\u001b[0m\u001b[0;34m\u001b[0m\u001b[0;34m\u001b[0m\u001b[0m\n\u001b[0m\u001b[1;32m   1521\u001b[0m \u001b[0;34m\u001b[0m\u001b[0m\n\u001b[1;32m   1522\u001b[0m         \u001b[0;32mtry\u001b[0m\u001b[0;34m:\u001b[0m\u001b[0;34m\u001b[0m\u001b[0;34m\u001b[0m\u001b[0m\n",
      "\u001b[0;32m~/.local/lib/python3.10/site-packages/transformers/models/albert/modeling_albert.py\u001b[0m in \u001b[0;36mforward\u001b[0;34m(self, input_ids, attention_mask, token_type_ids, position_ids, head_mask, inputs_embeds, labels, output_attentions, output_hidden_states, return_dict)\u001b[0m\n\u001b[1;32m   1057\u001b[0m         \u001b[0mreturn_dict\u001b[0m \u001b[0;34m=\u001b[0m \u001b[0mreturn_dict\u001b[0m \u001b[0;32mif\u001b[0m \u001b[0mreturn_dict\u001b[0m \u001b[0;32mis\u001b[0m \u001b[0;32mnot\u001b[0m \u001b[0;32mNone\u001b[0m \u001b[0;32melse\u001b[0m \u001b[0mself\u001b[0m\u001b[0;34m.\u001b[0m\u001b[0mconfig\u001b[0m\u001b[0;34m.\u001b[0m\u001b[0muse_return_dict\u001b[0m\u001b[0;34m\u001b[0m\u001b[0;34m\u001b[0m\u001b[0m\n\u001b[1;32m   1058\u001b[0m \u001b[0;34m\u001b[0m\u001b[0m\n\u001b[0;32m-> 1059\u001b[0;31m         outputs = self.albert(\n\u001b[0m\u001b[1;32m   1060\u001b[0m             \u001b[0minput_ids\u001b[0m\u001b[0;34m=\u001b[0m\u001b[0minput_ids\u001b[0m\u001b[0;34m,\u001b[0m\u001b[0;34m\u001b[0m\u001b[0;34m\u001b[0m\u001b[0m\n\u001b[1;32m   1061\u001b[0m             \u001b[0mattention_mask\u001b[0m\u001b[0;34m=\u001b[0m\u001b[0mattention_mask\u001b[0m\u001b[0;34m,\u001b[0m\u001b[0;34m\u001b[0m\u001b[0;34m\u001b[0m\u001b[0m\n",
      "\u001b[0;32m/usr/local/lib/python3.10/dist-packages/torch/nn/modules/module.py\u001b[0m in \u001b[0;36m_wrapped_call_impl\u001b[0;34m(self, *args, **kwargs)\u001b[0m\n\u001b[1;32m   1509\u001b[0m             \u001b[0;32mreturn\u001b[0m \u001b[0mself\u001b[0m\u001b[0;34m.\u001b[0m\u001b[0m_compiled_call_impl\u001b[0m\u001b[0;34m(\u001b[0m\u001b[0;34m*\u001b[0m\u001b[0margs\u001b[0m\u001b[0;34m,\u001b[0m \u001b[0;34m**\u001b[0m\u001b[0mkwargs\u001b[0m\u001b[0;34m)\u001b[0m  \u001b[0;31m# type: ignore[misc]\u001b[0m\u001b[0;34m\u001b[0m\u001b[0;34m\u001b[0m\u001b[0m\n\u001b[1;32m   1510\u001b[0m         \u001b[0;32melse\u001b[0m\u001b[0;34m:\u001b[0m\u001b[0;34m\u001b[0m\u001b[0;34m\u001b[0m\u001b[0m\n\u001b[0;32m-> 1511\u001b[0;31m             \u001b[0;32mreturn\u001b[0m \u001b[0mself\u001b[0m\u001b[0;34m.\u001b[0m\u001b[0m_call_impl\u001b[0m\u001b[0;34m(\u001b[0m\u001b[0;34m*\u001b[0m\u001b[0margs\u001b[0m\u001b[0;34m,\u001b[0m \u001b[0;34m**\u001b[0m\u001b[0mkwargs\u001b[0m\u001b[0;34m)\u001b[0m\u001b[0;34m\u001b[0m\u001b[0;34m\u001b[0m\u001b[0m\n\u001b[0m\u001b[1;32m   1512\u001b[0m \u001b[0;34m\u001b[0m\u001b[0m\n\u001b[1;32m   1513\u001b[0m     \u001b[0;32mdef\u001b[0m \u001b[0m_call_impl\u001b[0m\u001b[0;34m(\u001b[0m\u001b[0mself\u001b[0m\u001b[0;34m,\u001b[0m \u001b[0;34m*\u001b[0m\u001b[0margs\u001b[0m\u001b[0;34m,\u001b[0m \u001b[0;34m**\u001b[0m\u001b[0mkwargs\u001b[0m\u001b[0;34m)\u001b[0m\u001b[0;34m:\u001b[0m\u001b[0;34m\u001b[0m\u001b[0;34m\u001b[0m\u001b[0m\n",
      "\u001b[0;32m/usr/local/lib/python3.10/dist-packages/torch/nn/modules/module.py\u001b[0m in \u001b[0;36m_call_impl\u001b[0;34m(self, *args, **kwargs)\u001b[0m\n\u001b[1;32m   1518\u001b[0m                 \u001b[0;32mor\u001b[0m \u001b[0m_global_backward_pre_hooks\u001b[0m \u001b[0;32mor\u001b[0m \u001b[0m_global_backward_hooks\u001b[0m\u001b[0;34m\u001b[0m\u001b[0;34m\u001b[0m\u001b[0m\n\u001b[1;32m   1519\u001b[0m                 or _global_forward_hooks or _global_forward_pre_hooks):\n\u001b[0;32m-> 1520\u001b[0;31m             \u001b[0;32mreturn\u001b[0m \u001b[0mforward_call\u001b[0m\u001b[0;34m(\u001b[0m\u001b[0;34m*\u001b[0m\u001b[0margs\u001b[0m\u001b[0;34m,\u001b[0m \u001b[0;34m**\u001b[0m\u001b[0mkwargs\u001b[0m\u001b[0;34m)\u001b[0m\u001b[0;34m\u001b[0m\u001b[0;34m\u001b[0m\u001b[0m\n\u001b[0m\u001b[1;32m   1521\u001b[0m \u001b[0;34m\u001b[0m\u001b[0m\n\u001b[1;32m   1522\u001b[0m         \u001b[0;32mtry\u001b[0m\u001b[0;34m:\u001b[0m\u001b[0;34m\u001b[0m\u001b[0;34m\u001b[0m\u001b[0m\n",
      "\u001b[0;32m~/.local/lib/python3.10/site-packages/transformers/models/albert/modeling_albert.py\u001b[0m in \u001b[0;36mforward\u001b[0;34m(self, input_ids, attention_mask, token_type_ids, position_ids, head_mask, inputs_embeds, output_attentions, output_hidden_states, return_dict)\u001b[0m\n\u001b[1;32m    717\u001b[0m             \u001b[0minput_ids\u001b[0m\u001b[0;34m,\u001b[0m \u001b[0mposition_ids\u001b[0m\u001b[0;34m=\u001b[0m\u001b[0mposition_ids\u001b[0m\u001b[0;34m,\u001b[0m \u001b[0mtoken_type_ids\u001b[0m\u001b[0;34m=\u001b[0m\u001b[0mtoken_type_ids\u001b[0m\u001b[0;34m,\u001b[0m \u001b[0minputs_embeds\u001b[0m\u001b[0;34m=\u001b[0m\u001b[0minputs_embeds\u001b[0m\u001b[0;34m\u001b[0m\u001b[0;34m\u001b[0m\u001b[0m\n\u001b[1;32m    718\u001b[0m         )\n\u001b[0;32m--> 719\u001b[0;31m         encoder_outputs = self.encoder(\n\u001b[0m\u001b[1;32m    720\u001b[0m             \u001b[0membedding_output\u001b[0m\u001b[0;34m,\u001b[0m\u001b[0;34m\u001b[0m\u001b[0;34m\u001b[0m\u001b[0m\n\u001b[1;32m    721\u001b[0m             \u001b[0mextended_attention_mask\u001b[0m\u001b[0;34m,\u001b[0m\u001b[0;34m\u001b[0m\u001b[0;34m\u001b[0m\u001b[0m\n",
      "\u001b[0;32m/usr/local/lib/python3.10/dist-packages/torch/nn/modules/module.py\u001b[0m in \u001b[0;36m_wrapped_call_impl\u001b[0;34m(self, *args, **kwargs)\u001b[0m\n\u001b[1;32m   1509\u001b[0m             \u001b[0;32mreturn\u001b[0m \u001b[0mself\u001b[0m\u001b[0;34m.\u001b[0m\u001b[0m_compiled_call_impl\u001b[0m\u001b[0;34m(\u001b[0m\u001b[0;34m*\u001b[0m\u001b[0margs\u001b[0m\u001b[0;34m,\u001b[0m \u001b[0;34m**\u001b[0m\u001b[0mkwargs\u001b[0m\u001b[0;34m)\u001b[0m  \u001b[0;31m# type: ignore[misc]\u001b[0m\u001b[0;34m\u001b[0m\u001b[0;34m\u001b[0m\u001b[0m\n\u001b[1;32m   1510\u001b[0m         \u001b[0;32melse\u001b[0m\u001b[0;34m:\u001b[0m\u001b[0;34m\u001b[0m\u001b[0;34m\u001b[0m\u001b[0m\n\u001b[0;32m-> 1511\u001b[0;31m             \u001b[0;32mreturn\u001b[0m \u001b[0mself\u001b[0m\u001b[0;34m.\u001b[0m\u001b[0m_call_impl\u001b[0m\u001b[0;34m(\u001b[0m\u001b[0;34m*\u001b[0m\u001b[0margs\u001b[0m\u001b[0;34m,\u001b[0m \u001b[0;34m**\u001b[0m\u001b[0mkwargs\u001b[0m\u001b[0;34m)\u001b[0m\u001b[0;34m\u001b[0m\u001b[0;34m\u001b[0m\u001b[0m\n\u001b[0m\u001b[1;32m   1512\u001b[0m \u001b[0;34m\u001b[0m\u001b[0m\n\u001b[1;32m   1513\u001b[0m     \u001b[0;32mdef\u001b[0m \u001b[0m_call_impl\u001b[0m\u001b[0;34m(\u001b[0m\u001b[0mself\u001b[0m\u001b[0;34m,\u001b[0m \u001b[0;34m*\u001b[0m\u001b[0margs\u001b[0m\u001b[0;34m,\u001b[0m \u001b[0;34m**\u001b[0m\u001b[0mkwargs\u001b[0m\u001b[0;34m)\u001b[0m\u001b[0;34m:\u001b[0m\u001b[0;34m\u001b[0m\u001b[0;34m\u001b[0m\u001b[0m\n",
      "\u001b[0;32m/usr/local/lib/python3.10/dist-packages/torch/nn/modules/module.py\u001b[0m in \u001b[0;36m_call_impl\u001b[0;34m(self, *args, **kwargs)\u001b[0m\n\u001b[1;32m   1518\u001b[0m                 \u001b[0;32mor\u001b[0m \u001b[0m_global_backward_pre_hooks\u001b[0m \u001b[0;32mor\u001b[0m \u001b[0m_global_backward_hooks\u001b[0m\u001b[0;34m\u001b[0m\u001b[0;34m\u001b[0m\u001b[0m\n\u001b[1;32m   1519\u001b[0m                 or _global_forward_hooks or _global_forward_pre_hooks):\n\u001b[0;32m-> 1520\u001b[0;31m             \u001b[0;32mreturn\u001b[0m \u001b[0mforward_call\u001b[0m\u001b[0;34m(\u001b[0m\u001b[0;34m*\u001b[0m\u001b[0margs\u001b[0m\u001b[0;34m,\u001b[0m \u001b[0;34m**\u001b[0m\u001b[0mkwargs\u001b[0m\u001b[0;34m)\u001b[0m\u001b[0;34m\u001b[0m\u001b[0;34m\u001b[0m\u001b[0m\n\u001b[0m\u001b[1;32m   1521\u001b[0m \u001b[0;34m\u001b[0m\u001b[0m\n\u001b[1;32m   1522\u001b[0m         \u001b[0;32mtry\u001b[0m\u001b[0;34m:\u001b[0m\u001b[0;34m\u001b[0m\u001b[0;34m\u001b[0m\u001b[0m\n",
      "\u001b[0;32m~/.local/lib/python3.10/site-packages/transformers/models/albert/modeling_albert.py\u001b[0m in \u001b[0;36mforward\u001b[0;34m(self, hidden_states, attention_mask, head_mask, output_attentions, output_hidden_states, return_dict)\u001b[0m\n\u001b[1;32m    466\u001b[0m             \u001b[0mgroup_idx\u001b[0m \u001b[0;34m=\u001b[0m \u001b[0mint\u001b[0m\u001b[0;34m(\u001b[0m\u001b[0mi\u001b[0m \u001b[0;34m/\u001b[0m \u001b[0;34m(\u001b[0m\u001b[0mself\u001b[0m\u001b[0;34m.\u001b[0m\u001b[0mconfig\u001b[0m\u001b[0;34m.\u001b[0m\u001b[0mnum_hidden_layers\u001b[0m \u001b[0;34m/\u001b[0m \u001b[0mself\u001b[0m\u001b[0;34m.\u001b[0m\u001b[0mconfig\u001b[0m\u001b[0;34m.\u001b[0m\u001b[0mnum_hidden_groups\u001b[0m\u001b[0;34m)\u001b[0m\u001b[0;34m)\u001b[0m\u001b[0;34m\u001b[0m\u001b[0;34m\u001b[0m\u001b[0m\n\u001b[1;32m    467\u001b[0m \u001b[0;34m\u001b[0m\u001b[0m\n\u001b[0;32m--> 468\u001b[0;31m             layer_group_output = self.albert_layer_groups[group_idx](\n\u001b[0m\u001b[1;32m    469\u001b[0m                 \u001b[0mhidden_states\u001b[0m\u001b[0;34m,\u001b[0m\u001b[0;34m\u001b[0m\u001b[0;34m\u001b[0m\u001b[0m\n\u001b[1;32m    470\u001b[0m                 \u001b[0mattention_mask\u001b[0m\u001b[0;34m,\u001b[0m\u001b[0;34m\u001b[0m\u001b[0;34m\u001b[0m\u001b[0m\n",
      "\u001b[0;32m/usr/local/lib/python3.10/dist-packages/torch/nn/modules/module.py\u001b[0m in \u001b[0;36m_wrapped_call_impl\u001b[0;34m(self, *args, **kwargs)\u001b[0m\n\u001b[1;32m   1509\u001b[0m             \u001b[0;32mreturn\u001b[0m \u001b[0mself\u001b[0m\u001b[0;34m.\u001b[0m\u001b[0m_compiled_call_impl\u001b[0m\u001b[0;34m(\u001b[0m\u001b[0;34m*\u001b[0m\u001b[0margs\u001b[0m\u001b[0;34m,\u001b[0m \u001b[0;34m**\u001b[0m\u001b[0mkwargs\u001b[0m\u001b[0;34m)\u001b[0m  \u001b[0;31m# type: ignore[misc]\u001b[0m\u001b[0;34m\u001b[0m\u001b[0;34m\u001b[0m\u001b[0m\n\u001b[1;32m   1510\u001b[0m         \u001b[0;32melse\u001b[0m\u001b[0;34m:\u001b[0m\u001b[0;34m\u001b[0m\u001b[0;34m\u001b[0m\u001b[0m\n\u001b[0;32m-> 1511\u001b[0;31m             \u001b[0;32mreturn\u001b[0m \u001b[0mself\u001b[0m\u001b[0;34m.\u001b[0m\u001b[0m_call_impl\u001b[0m\u001b[0;34m(\u001b[0m\u001b[0;34m*\u001b[0m\u001b[0margs\u001b[0m\u001b[0;34m,\u001b[0m \u001b[0;34m**\u001b[0m\u001b[0mkwargs\u001b[0m\u001b[0;34m)\u001b[0m\u001b[0;34m\u001b[0m\u001b[0;34m\u001b[0m\u001b[0m\n\u001b[0m\u001b[1;32m   1512\u001b[0m \u001b[0;34m\u001b[0m\u001b[0m\n\u001b[1;32m   1513\u001b[0m     \u001b[0;32mdef\u001b[0m \u001b[0m_call_impl\u001b[0m\u001b[0;34m(\u001b[0m\u001b[0mself\u001b[0m\u001b[0;34m,\u001b[0m \u001b[0;34m*\u001b[0m\u001b[0margs\u001b[0m\u001b[0;34m,\u001b[0m \u001b[0;34m**\u001b[0m\u001b[0mkwargs\u001b[0m\u001b[0;34m)\u001b[0m\u001b[0;34m:\u001b[0m\u001b[0;34m\u001b[0m\u001b[0;34m\u001b[0m\u001b[0m\n",
      "\u001b[0;32m/usr/local/lib/python3.10/dist-packages/torch/nn/modules/module.py\u001b[0m in \u001b[0;36m_call_impl\u001b[0;34m(self, *args, **kwargs)\u001b[0m\n\u001b[1;32m   1518\u001b[0m                 \u001b[0;32mor\u001b[0m \u001b[0m_global_backward_pre_hooks\u001b[0m \u001b[0;32mor\u001b[0m \u001b[0m_global_backward_hooks\u001b[0m\u001b[0;34m\u001b[0m\u001b[0;34m\u001b[0m\u001b[0m\n\u001b[1;32m   1519\u001b[0m                 or _global_forward_hooks or _global_forward_pre_hooks):\n\u001b[0;32m-> 1520\u001b[0;31m             \u001b[0;32mreturn\u001b[0m \u001b[0mforward_call\u001b[0m\u001b[0;34m(\u001b[0m\u001b[0;34m*\u001b[0m\u001b[0margs\u001b[0m\u001b[0;34m,\u001b[0m \u001b[0;34m**\u001b[0m\u001b[0mkwargs\u001b[0m\u001b[0;34m)\u001b[0m\u001b[0;34m\u001b[0m\u001b[0;34m\u001b[0m\u001b[0m\n\u001b[0m\u001b[1;32m   1521\u001b[0m \u001b[0;34m\u001b[0m\u001b[0m\n\u001b[1;32m   1522\u001b[0m         \u001b[0;32mtry\u001b[0m\u001b[0;34m:\u001b[0m\u001b[0;34m\u001b[0m\u001b[0;34m\u001b[0m\u001b[0m\n",
      "\u001b[0;32m~/.local/lib/python3.10/site-packages/transformers/models/albert/modeling_albert.py\u001b[0m in \u001b[0;36mforward\u001b[0;34m(self, hidden_states, attention_mask, head_mask, output_attentions, output_hidden_states)\u001b[0m\n\u001b[1;32m    418\u001b[0m \u001b[0;34m\u001b[0m\u001b[0m\n\u001b[1;32m    419\u001b[0m         \u001b[0;32mfor\u001b[0m \u001b[0mlayer_index\u001b[0m\u001b[0;34m,\u001b[0m \u001b[0malbert_layer\u001b[0m \u001b[0;32min\u001b[0m \u001b[0menumerate\u001b[0m\u001b[0;34m(\u001b[0m\u001b[0mself\u001b[0m\u001b[0;34m.\u001b[0m\u001b[0malbert_layers\u001b[0m\u001b[0;34m)\u001b[0m\u001b[0;34m:\u001b[0m\u001b[0;34m\u001b[0m\u001b[0;34m\u001b[0m\u001b[0m\n\u001b[0;32m--> 420\u001b[0;31m             \u001b[0mlayer_output\u001b[0m \u001b[0;34m=\u001b[0m \u001b[0malbert_layer\u001b[0m\u001b[0;34m(\u001b[0m\u001b[0mhidden_states\u001b[0m\u001b[0;34m,\u001b[0m \u001b[0mattention_mask\u001b[0m\u001b[0;34m,\u001b[0m \u001b[0mhead_mask\u001b[0m\u001b[0;34m[\u001b[0m\u001b[0mlayer_index\u001b[0m\u001b[0;34m]\u001b[0m\u001b[0;34m,\u001b[0m \u001b[0moutput_attentions\u001b[0m\u001b[0;34m)\u001b[0m\u001b[0;34m\u001b[0m\u001b[0;34m\u001b[0m\u001b[0m\n\u001b[0m\u001b[1;32m    421\u001b[0m             \u001b[0mhidden_states\u001b[0m \u001b[0;34m=\u001b[0m \u001b[0mlayer_output\u001b[0m\u001b[0;34m[\u001b[0m\u001b[0;36m0\u001b[0m\u001b[0;34m]\u001b[0m\u001b[0;34m\u001b[0m\u001b[0;34m\u001b[0m\u001b[0m\n\u001b[1;32m    422\u001b[0m \u001b[0;34m\u001b[0m\u001b[0m\n",
      "\u001b[0;32m/usr/local/lib/python3.10/dist-packages/torch/nn/modules/module.py\u001b[0m in \u001b[0;36m_wrapped_call_impl\u001b[0;34m(self, *args, **kwargs)\u001b[0m\n\u001b[1;32m   1509\u001b[0m             \u001b[0;32mreturn\u001b[0m \u001b[0mself\u001b[0m\u001b[0;34m.\u001b[0m\u001b[0m_compiled_call_impl\u001b[0m\u001b[0;34m(\u001b[0m\u001b[0;34m*\u001b[0m\u001b[0margs\u001b[0m\u001b[0;34m,\u001b[0m \u001b[0;34m**\u001b[0m\u001b[0mkwargs\u001b[0m\u001b[0;34m)\u001b[0m  \u001b[0;31m# type: ignore[misc]\u001b[0m\u001b[0;34m\u001b[0m\u001b[0;34m\u001b[0m\u001b[0m\n\u001b[1;32m   1510\u001b[0m         \u001b[0;32melse\u001b[0m\u001b[0;34m:\u001b[0m\u001b[0;34m\u001b[0m\u001b[0;34m\u001b[0m\u001b[0m\n\u001b[0;32m-> 1511\u001b[0;31m             \u001b[0;32mreturn\u001b[0m \u001b[0mself\u001b[0m\u001b[0;34m.\u001b[0m\u001b[0m_call_impl\u001b[0m\u001b[0;34m(\u001b[0m\u001b[0;34m*\u001b[0m\u001b[0margs\u001b[0m\u001b[0;34m,\u001b[0m \u001b[0;34m**\u001b[0m\u001b[0mkwargs\u001b[0m\u001b[0;34m)\u001b[0m\u001b[0;34m\u001b[0m\u001b[0;34m\u001b[0m\u001b[0m\n\u001b[0m\u001b[1;32m   1512\u001b[0m \u001b[0;34m\u001b[0m\u001b[0m\n\u001b[1;32m   1513\u001b[0m     \u001b[0;32mdef\u001b[0m \u001b[0m_call_impl\u001b[0m\u001b[0;34m(\u001b[0m\u001b[0mself\u001b[0m\u001b[0;34m,\u001b[0m \u001b[0;34m*\u001b[0m\u001b[0margs\u001b[0m\u001b[0;34m,\u001b[0m \u001b[0;34m**\u001b[0m\u001b[0mkwargs\u001b[0m\u001b[0;34m)\u001b[0m\u001b[0;34m:\u001b[0m\u001b[0;34m\u001b[0m\u001b[0;34m\u001b[0m\u001b[0m\n",
      "\u001b[0;32m/usr/local/lib/python3.10/dist-packages/torch/nn/modules/module.py\u001b[0m in \u001b[0;36m_call_impl\u001b[0;34m(self, *args, **kwargs)\u001b[0m\n\u001b[1;32m   1518\u001b[0m                 \u001b[0;32mor\u001b[0m \u001b[0m_global_backward_pre_hooks\u001b[0m \u001b[0;32mor\u001b[0m \u001b[0m_global_backward_hooks\u001b[0m\u001b[0;34m\u001b[0m\u001b[0;34m\u001b[0m\u001b[0m\n\u001b[1;32m   1519\u001b[0m                 or _global_forward_hooks or _global_forward_pre_hooks):\n\u001b[0;32m-> 1520\u001b[0;31m             \u001b[0;32mreturn\u001b[0m \u001b[0mforward_call\u001b[0m\u001b[0;34m(\u001b[0m\u001b[0;34m*\u001b[0m\u001b[0margs\u001b[0m\u001b[0;34m,\u001b[0m \u001b[0;34m**\u001b[0m\u001b[0mkwargs\u001b[0m\u001b[0;34m)\u001b[0m\u001b[0;34m\u001b[0m\u001b[0;34m\u001b[0m\u001b[0m\n\u001b[0m\u001b[1;32m   1521\u001b[0m \u001b[0;34m\u001b[0m\u001b[0m\n\u001b[1;32m   1522\u001b[0m         \u001b[0;32mtry\u001b[0m\u001b[0;34m:\u001b[0m\u001b[0;34m\u001b[0m\u001b[0;34m\u001b[0m\u001b[0m\n",
      "\u001b[0;32m~/.local/lib/python3.10/site-packages/transformers/models/albert/modeling_albert.py\u001b[0m in \u001b[0;36mforward\u001b[0;34m(self, hidden_states, attention_mask, head_mask, output_attentions, output_hidden_states)\u001b[0m\n\u001b[1;32m    381\u001b[0m         \u001b[0moutput_hidden_states\u001b[0m\u001b[0;34m:\u001b[0m \u001b[0mbool\u001b[0m \u001b[0;34m=\u001b[0m \u001b[0;32mFalse\u001b[0m\u001b[0;34m,\u001b[0m\u001b[0;34m\u001b[0m\u001b[0;34m\u001b[0m\u001b[0m\n\u001b[1;32m    382\u001b[0m     ) -> Tuple[torch.Tensor, torch.Tensor]:\n\u001b[0;32m--> 383\u001b[0;31m         \u001b[0mattention_output\u001b[0m \u001b[0;34m=\u001b[0m \u001b[0mself\u001b[0m\u001b[0;34m.\u001b[0m\u001b[0mattention\u001b[0m\u001b[0;34m(\u001b[0m\u001b[0mhidden_states\u001b[0m\u001b[0;34m,\u001b[0m \u001b[0mattention_mask\u001b[0m\u001b[0;34m,\u001b[0m \u001b[0mhead_mask\u001b[0m\u001b[0;34m,\u001b[0m \u001b[0moutput_attentions\u001b[0m\u001b[0;34m)\u001b[0m\u001b[0;34m\u001b[0m\u001b[0;34m\u001b[0m\u001b[0m\n\u001b[0m\u001b[1;32m    384\u001b[0m \u001b[0;34m\u001b[0m\u001b[0m\n\u001b[1;32m    385\u001b[0m         ffn_output = apply_chunking_to_forward(\n",
      "\u001b[0;32m/usr/local/lib/python3.10/dist-packages/torch/nn/modules/module.py\u001b[0m in \u001b[0;36m_wrapped_call_impl\u001b[0;34m(self, *args, **kwargs)\u001b[0m\n\u001b[1;32m   1509\u001b[0m             \u001b[0;32mreturn\u001b[0m \u001b[0mself\u001b[0m\u001b[0;34m.\u001b[0m\u001b[0m_compiled_call_impl\u001b[0m\u001b[0;34m(\u001b[0m\u001b[0;34m*\u001b[0m\u001b[0margs\u001b[0m\u001b[0;34m,\u001b[0m \u001b[0;34m**\u001b[0m\u001b[0mkwargs\u001b[0m\u001b[0;34m)\u001b[0m  \u001b[0;31m# type: ignore[misc]\u001b[0m\u001b[0;34m\u001b[0m\u001b[0;34m\u001b[0m\u001b[0m\n\u001b[1;32m   1510\u001b[0m         \u001b[0;32melse\u001b[0m\u001b[0;34m:\u001b[0m\u001b[0;34m\u001b[0m\u001b[0;34m\u001b[0m\u001b[0m\n\u001b[0;32m-> 1511\u001b[0;31m             \u001b[0;32mreturn\u001b[0m \u001b[0mself\u001b[0m\u001b[0;34m.\u001b[0m\u001b[0m_call_impl\u001b[0m\u001b[0;34m(\u001b[0m\u001b[0;34m*\u001b[0m\u001b[0margs\u001b[0m\u001b[0;34m,\u001b[0m \u001b[0;34m**\u001b[0m\u001b[0mkwargs\u001b[0m\u001b[0;34m)\u001b[0m\u001b[0;34m\u001b[0m\u001b[0;34m\u001b[0m\u001b[0m\n\u001b[0m\u001b[1;32m   1512\u001b[0m \u001b[0;34m\u001b[0m\u001b[0m\n\u001b[1;32m   1513\u001b[0m     \u001b[0;32mdef\u001b[0m \u001b[0m_call_impl\u001b[0m\u001b[0;34m(\u001b[0m\u001b[0mself\u001b[0m\u001b[0;34m,\u001b[0m \u001b[0;34m*\u001b[0m\u001b[0margs\u001b[0m\u001b[0;34m,\u001b[0m \u001b[0;34m**\u001b[0m\u001b[0mkwargs\u001b[0m\u001b[0;34m)\u001b[0m\u001b[0;34m:\u001b[0m\u001b[0;34m\u001b[0m\u001b[0;34m\u001b[0m\u001b[0m\n",
      "\u001b[0;32m/usr/local/lib/python3.10/dist-packages/torch/nn/modules/module.py\u001b[0m in \u001b[0;36m_call_impl\u001b[0;34m(self, *args, **kwargs)\u001b[0m\n\u001b[1;32m   1518\u001b[0m                 \u001b[0;32mor\u001b[0m \u001b[0m_global_backward_pre_hooks\u001b[0m \u001b[0;32mor\u001b[0m \u001b[0m_global_backward_hooks\u001b[0m\u001b[0;34m\u001b[0m\u001b[0;34m\u001b[0m\u001b[0m\n\u001b[1;32m   1519\u001b[0m                 or _global_forward_hooks or _global_forward_pre_hooks):\n\u001b[0;32m-> 1520\u001b[0;31m             \u001b[0;32mreturn\u001b[0m \u001b[0mforward_call\u001b[0m\u001b[0;34m(\u001b[0m\u001b[0;34m*\u001b[0m\u001b[0margs\u001b[0m\u001b[0;34m,\u001b[0m \u001b[0;34m**\u001b[0m\u001b[0mkwargs\u001b[0m\u001b[0;34m)\u001b[0m\u001b[0;34m\u001b[0m\u001b[0;34m\u001b[0m\u001b[0m\n\u001b[0m\u001b[1;32m   1521\u001b[0m \u001b[0;34m\u001b[0m\u001b[0m\n\u001b[1;32m   1522\u001b[0m         \u001b[0;32mtry\u001b[0m\u001b[0;34m:\u001b[0m\u001b[0;34m\u001b[0m\u001b[0;34m\u001b[0m\u001b[0m\n",
      "\u001b[0;32m~/.local/lib/python3.10/site-packages/transformers/models/albert/modeling_albert.py\u001b[0m in \u001b[0;36mforward\u001b[0;34m(self, hidden_states, attention_mask, head_mask, output_attentions)\u001b[0m\n\u001b[1;32m    316\u001b[0m \u001b[0;34m\u001b[0m\u001b[0m\n\u001b[1;32m    317\u001b[0m         \u001b[0;31m# Take the dot product between \"query\" and \"key\" to get the raw attention scores.\u001b[0m\u001b[0;34m\u001b[0m\u001b[0;34m\u001b[0m\u001b[0m\n\u001b[0;32m--> 318\u001b[0;31m         \u001b[0mattention_scores\u001b[0m \u001b[0;34m=\u001b[0m \u001b[0mtorch\u001b[0m\u001b[0;34m.\u001b[0m\u001b[0mmatmul\u001b[0m\u001b[0;34m(\u001b[0m\u001b[0mquery_layer\u001b[0m\u001b[0;34m,\u001b[0m \u001b[0mkey_layer\u001b[0m\u001b[0;34m.\u001b[0m\u001b[0mtranspose\u001b[0m\u001b[0;34m(\u001b[0m\u001b[0;34m-\u001b[0m\u001b[0;36m1\u001b[0m\u001b[0;34m,\u001b[0m \u001b[0;34m-\u001b[0m\u001b[0;36m2\u001b[0m\u001b[0;34m)\u001b[0m\u001b[0;34m)\u001b[0m\u001b[0;34m\u001b[0m\u001b[0;34m\u001b[0m\u001b[0m\n\u001b[0m\u001b[1;32m    319\u001b[0m         \u001b[0mattention_scores\u001b[0m \u001b[0;34m=\u001b[0m \u001b[0mattention_scores\u001b[0m \u001b[0;34m/\u001b[0m \u001b[0mmath\u001b[0m\u001b[0;34m.\u001b[0m\u001b[0msqrt\u001b[0m\u001b[0;34m(\u001b[0m\u001b[0mself\u001b[0m\u001b[0;34m.\u001b[0m\u001b[0mattention_head_size\u001b[0m\u001b[0;34m)\u001b[0m\u001b[0;34m\u001b[0m\u001b[0;34m\u001b[0m\u001b[0m\n\u001b[1;32m    320\u001b[0m \u001b[0;34m\u001b[0m\u001b[0m\n",
      "\u001b[0;31mOutOfMemoryError\u001b[0m: CUDA out of memory. Tried to allocate 96.00 MiB. GPU 0 has a total capacity of 79.14 GiB of which 5.44 MiB is free. Process 1347921 has 24.94 GiB memory in use. Process 1366560 has 7.83 GiB memory in use. Process 1564409 has 7.72 GiB memory in use. Process 2064778 has 28.71 GiB memory in use. Process 2594307 has 8.91 GiB memory in use. Including non-PyTorch memory, this process has 976.00 MiB memory in use. Of the allocated memory 459.22 MiB is allocated by PyTorch, and 16.78 MiB is reserved by PyTorch but unallocated. If reserved but unallocated memory is large try setting PYTORCH_CUDA_ALLOC_CONF=expandable_segments:True to avoid fragmentation.  See documentation for Memory Management  (https://pytorch.org/docs/stable/notes/cuda.html#environment-variables)"
     ]
    }
   ],
   "source": [
    "from transformers import Trainer, TrainingArguments, AlbertForSequenceClassification, DataCollatorWithPadding\n",
    "import torch\n",
    "\n",
    "# Data collator for ALBERT\n",
    "data_collator_albert = DataCollatorWithPadding(tokenizer=albert_tokenizer)\n",
    "\n",
    "# Model for ALBERT\n",
    "albert_model = AlbertForSequenceClassification.from_pretrained('albert-base-v2')\n",
    "\n",
    "# Training arguments for ALBERT with gradient accumulation and mixed precision\n",
    "albert_training_args = TrainingArguments(\n",
    "    output_dir='/data/nmamit-interns/grp3/new/result/alberta1',\n",
    "    num_train_epochs=3,  # Keep epochs as is\n",
    "    per_device_train_batch_size=8,  # Keep batch size as is\n",
    "    per_device_eval_batch_size=16,  # Keep batch size as is\n",
    "    warmup_steps=500,\n",
    "    weight_decay=0.01,\n",
    "    logging_steps=10,\n",
    "    evaluation_strategy=\"epoch\",\n",
    "    learning_rate=2e-5,\n",
    "    lr_scheduler_type='linear',\n",
    ")\n",
    "\n",
    "# Trainer for ALBERT\n",
    "albert_trainer = Trainer(\n",
    "    model=albert_model,\n",
    "    args=albert_training_args,\n",
    "    train_dataset=tokenized_train_dataset_albert,\n",
    "    eval_dataset=tokenized_val_dataset_albert,\n",
    "    data_collator=data_collator_albert,\n",
    "    compute_metrics=compute_metrics\n",
    ")\n",
    "\n",
    "# Free up CUDA memory\n",
    "torch.cuda.empty_cache()\n",
    "\n",
    "# Train ALBERT \n",
    "try:\n",
    "    albert_trainer.train()\n",
    "except RuntimeError as e:\n",
    "    print(f\"RuntimeError during training: {e}\")\n",
    "    torch.cuda.empty_cache()\n",
    "    albert_trainer.train()\n",
    "\n",
    "# Evaluate ALBERT\n",
    "albert_results = albert_trainer.evaluate(tokenized_test_dataset_albert)\n",
    "print(\"ALBERT Results:\", albert_results)\n"
   ]
  },
  {
   "cell_type": "code",
   "execution_count": null,
   "id": "ac0145d9-fa87-41d4-a23d-182224bb3729",
   "metadata": {},
   "outputs": [],
   "source": [
    "resume_from_checkpoint=True"
   ]
  },
  {
   "cell_type": "code",
   "execution_count": null,
   "id": "756c25a7-7f13-4ee3-924e-3a94aa21732c",
   "metadata": {},
   "outputs": [],
   "source": [
    "import torch\n",
    "from transformers import AlbertTokenizer, AlbertForSequenceClassification\n",
    "from sklearn.metrics import confusion_matrix, roc_curve, auc, classification_report\n",
    "import matplotlib.pyplot as plt\n",
    "import numpy as np\n",
    "\n",
    "# Load the BERT model\n",
    "loaded_albert_model =  AlbertForSequenceClassification.from_pretrained('/data/nmamit-interns/grp3/new/albert_model')\n",
    "\n",
    "# Load the BERT tokenizer\n",
    "loaded_albert_tokenizer = AlbertTokenizer.from_pretrained('/data/nmamit-interns/grp3/new/albert_tokenizer')\n",
    "\n",
    "# Load your test data\n",
    "test_texts = df_test['text'].tolist()  \n",
    "test_labels = df_test['target'].tolist()  \n",
    "\n",
    "# Move model to GPU if available\n",
    "device = torch.device('cuda') if torch.cuda.is_available() else torch.device('cpu')\n",
    "loaded_albert_model.to(device)\n",
    "\n",
    "# Function to get predictions in batches\n",
    "def get_predictions_in_batches(model, tokenizer, texts, batch_size=32):\n",
    "    model.eval()\n",
    "    all_predictions = []\n",
    "    all_logits = []\n",
    "    for i in range(0, len(texts), batch_size):\n",
    "        batch_texts = texts[i:i + batch_size]\n",
    "        encodings = tokenizer(batch_texts, truncation=True, padding=True, max_length=512, return_tensors='pt')\n",
    "        encodings = {key: val.to(device) for key, val in encodings.items()}\n",
    "        \n",
    "        with torch.no_grad():\n",
    "            outputs = model(**encodings)\n",
    "            logits = outputs.logits\n",
    "            predictions = torch.argmax(logits, dim=-1).cpu().numpy()\n",
    "        \n",
    "        all_predictions.extend(predictions)\n",
    "        all_logits.extend(logits.cpu().numpy())\n",
    "    \n",
    "    return np.array(all_predictions), np.array(all_logits)\n",
    "\n",
    "# Get predictions\n",
    "predictions, logits = get_predictions_in_batches(loaded_albert_model, loaded_albert_tokenizer, test_texts)\n",
    "\n",
    "# Calculate confusion matrix\n",
    "cm = confusion_matrix(test_labels, predictions)\n",
    "print(\"Confusion Matrix:\\n\", cm)\n",
    "\n",
    "# Generate classification report\n",
    "print(\"Classification Report:\\n\", classification_report(test_labels, predictions))\n"
   ]
  },
  {
   "cell_type": "code",
   "execution_count": null,
   "id": "e9823b87-2e0e-4477-80d3-8900c81f256e",
   "metadata": {},
   "outputs": [],
   "source": []
  }
 ],
 "metadata": {
  "kernelspec": {
   "display_name": "Python 3 (ipykernel)",
   "language": "python",
   "name": "python3"
  },
  "language_info": {
   "codemirror_mode": {
    "name": "ipython",
    "version": 3
   },
   "file_extension": ".py",
   "mimetype": "text/x-python",
   "name": "python",
   "nbconvert_exporter": "python",
   "pygments_lexer": "ipython3",
   "version": "3.10.12"
  }
 },
 "nbformat": 4,
 "nbformat_minor": 5
}
